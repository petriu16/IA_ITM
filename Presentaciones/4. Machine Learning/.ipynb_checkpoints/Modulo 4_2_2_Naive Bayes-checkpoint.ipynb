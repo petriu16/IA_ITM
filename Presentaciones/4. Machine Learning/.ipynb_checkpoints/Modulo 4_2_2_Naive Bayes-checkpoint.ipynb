{
 "cells": [
  {
   "cell_type": "markdown",
   "metadata": {},
   "source": [
    "<img src=\"res/itm_logo.jpg\" width=\"300px\">\n",
    "\n",
    "## Inteligencia Artificial - IAI84\n",
    "### Instituto Tecnológico Metropolitano\n",
    "#### Pedro Atencio Ortiz - 2018\n",
    "\n",
    "\n",
    "En este notebook se aborda el tema de aprendizaje de máquina para clasificación binario utilizando Naive Bayes:\n",
    "1. Naive Bayes Gaussiano (continuo)\n",
    "2. Naive Bayes Multimodal (discreto)"
   ]
  },
  {
   "cell_type": "markdown",
   "metadata": {},
   "source": [
    "<hr>\n",
    "# Naive Bayes Gaussiano\n",
    "\n",
    "- Asume que las características $X$ del objeto a describir tienen una distribución normal o Gaussiana.\n",
    "- A partir de este supuesto, es posible modelar cada característica a través de la media y varianza de los ejemplos en el dataset.\n",
    "- Este clasificador se utiliza en los casos en que las características del objeto que se desea clasificar son contínuas.\n",
    "- Este clasificador no requiere parámetros ingresados."
   ]
  },
  {
   "cell_type": "markdown",
   "metadata": {},
   "source": [
    "<hr>\n",
    "# Teorema de Bayes\n",
    "Este clasificador utiliza el teorema de Bayes para determinar la probabilidad de que un objeto $x$ pertenezca a una clase $C$. El teorema de Bayes se define como:\n",
    "\n",
    "Sea: $x = [{x_1,x_2,...,x_n}]$\n",
    "\n",
    "Entonces,\n",
    "\n",
    "## <center>$p(C_k \\mid x_k) = \\frac {p(C_k)p(x \\mid C_k)}{p(x)}$ </center>\n",
    "\n",
    "<hr>\n",
    "La ecuación anterior puede entenderse como:\n",
    "\n",
    "## <center>$posterior = \\frac {prior*likelihood}{evidence}$</center>\n",
    "\n",
    "Debido a que $p(x)$ no depende de la clase, este término puede ser omitido quedando así:\n",
    "\n",
    "## <center>$p(C_k \\mid x) = {p(C_k)p(x \\mid C_k)}$ </center>\n",
    "\n",
    "Donde $p(C_k)$ es la probabilidad de la clase $k$ y $p(x_i \\mid C_k)$ es la probabilidad de que el vector de características $x$ aparezca en la clase $k$."
   ]
  },
  {
   "cell_type": "markdown",
   "metadata": {},
   "source": [
    "<hr>\n",
    "# Clasificación\n",
    "\n",
    "Utilizando el teorema anterior, tenemos entonces que la clase $\\hat{y}$ a la que pertenece un objeto con características $x$ se define como:\n",
    "\n",
    "## <center>$\\hat{y} = \\underset{k \\in 1,...,K}{argmax}\\left( p(C_k)p(x \\mid C_k) \\right)$</center>\n",
    "\n",
    "Donce $K$ es el número de clases del problema.\n",
    "<br>\n",
    "\n",
    "### <center><font color=red>Recordemos que para un problema de clasificación binaria $K=2$</font></center>"
   ]
  },
  {
   "cell_type": "markdown",
   "metadata": {},
   "source": [
    "<hr>\n",
    "# Prior $p(C_k)$\n",
    "\n",
    "Este término hace referencia a lo que se sabe de la clase antes de tener alguna nueva evidencia. Esto se puede entender como la probabilidad neta de que la clase aparezca en el dataset, lo cuál es igual al número de elementos que pertenecen a la clase $C_k$ divido sobre el total de elementos del dataset:\n",
    "\n",
    "## <center>$p(C_k) = \\frac {len(x \\in C_k)}{M}$</center>\n",
    "\n",
    "Donde $M$ es el número de ejemplos en el dataset."
   ]
  },
  {
   "cell_type": "code",
   "execution_count": 1,
   "metadata": {},
   "outputs": [],
   "source": [
    "import numpy as np\n",
    "import matplotlib.pyplot as plt"
   ]
  },
  {
   "cell_type": "code",
   "execution_count": 2,
   "metadata": {},
   "outputs": [],
   "source": [
    "def prior(Y):\n",
    "    '''\n",
    "    Compute priors for classes C_k in dataset (X,Y)\n",
    "    \n",
    "    Arguments:\n",
    "        Y -- labels / classes dataset. numpy array of shape (M, 1)\n",
    "    Returns:\n",
    "        p -- dictionary with priors for each class. {class_1_prior_1,...,class_n:prior_n}\n",
    "    '''\n",
    "    p = {} #dictionary of priors\n",
    "    \n",
    "    M = np.float(Y.shape[0])\n",
    "    \n",
    "    labels = np.unique(Y) #get unique labels\n",
    "        \n",
    "    for label in labels:\n",
    "        p[str(label)] = np.count_nonzero(Y == label) / np.float(M)\n",
    "    \n",
    "    return p"
   ]
  },
  {
   "cell_type": "code",
   "execution_count": 3,
   "metadata": {},
   "outputs": [
    {
     "name": "stdout",
     "output_type": "stream",
     "text": [
      "{'1': 0.5, '0': 0.5}\n"
     ]
    }
   ],
   "source": [
    "Y = np.array([[0],[0],[0],[0],[0],[1],[1],[1],[1],[1]])\n",
    "\n",
    "print (prior(Y))"
   ]
  },
  {
   "cell_type": "markdown",
   "metadata": {},
   "source": [
    "<hr>\n",
    "## Likelihood (Gaussian)$p(C_k \\mid x)$\n",
    "\n",
    "Se obtiene calculando la probabilidad de que cada característica $x_i \\in x$ aparezca en datos de la clase $C_k$. En este caso, si asumimos una distribución Gaussiana, tenemos que:\n",
    "\n",
    "## <center>$p(x_i\\mid C_i)={1 \\over { \\sqrt{2 \\pi \\sigma^2} }}exp\\left ( { {-(x_i-\\mu)^2} \\over {2 \\sigma^2} } \\right )$</center>\n",
    "\n",
    "donde,\n",
    "\n",
    "### <center>$\\mu = media(X \\in C_i)$</center>\n",
    "### <center>$\\sigma^2 = varianza(X \\in C_i)$</center>\n",
    "\n",
    "Ahora, para todas las características tenemos que:\n",
    "\n",
    "## <center>$p(x \\mid C_k) = \\prod_{i=1}^{n_x}p(x_i \\mid C_k)$</center>\n",
    "\n",
    "Donde $n_x$ es el número de características."
   ]
  },
  {
   "cell_type": "code",
   "execution_count": 31,
   "metadata": {},
   "outputs": [],
   "source": [
    "def gaussian_likelihood(mean, variance, x):\n",
    "    '''\n",
    "    Calculates Gaussian likelihood of x to appear in data of an unknown class\n",
    "    with mean=mean and variance=variance.\n",
    "    \n",
    "    Arguments:\n",
    "        mean -- numpy array of statistical mean of data associated to x\n",
    "        variance -- numpy array of statistical variance of data associated to x\n",
    "        x -- numpy array containing a feature vector\n",
    "    '''\n",
    "    a = 1. / np.sqrt(2.*np.pi*variance)\n",
    "    b = np.exp( -((x-mean)**2.) / (2.*variance) )\n",
    "    p = np.multiply(a,b)\n",
    "        \n",
    "    return np.prod(p)"
   ]
  },
  {
   "cell_type": "code",
   "execution_count": 32,
   "metadata": {},
   "outputs": [
    {
     "name": "stdout",
     "output_type": "stream",
     "text": [
      "8.181501450525965e-218\n"
     ]
    }
   ],
   "source": [
    "print gaussian_likelihood(np.array([7,100,11]), np.array([0.01, 1.012292, 0.91667]), np.array([6, 130, 8]))"
   ]
  },
  {
   "cell_type": "markdown",
   "metadata": {},
   "source": [
    "<hr>\n",
    "# Implementemos un ejemplo!\n",
    "\n",
    "Analicemos el siguientes dataset de clasificación binaria:\n",
    "\n",
    "<img src=\"res/naive_bayes/example.png\">\n",
    "\n",
    "y clasifiquemos el siguiente objeto utilizando Naive Bayes Gaussiano:\n",
    "\n",
    "## <center>$x=[6,130,8]$</center>\n",
    "\n",
    "Utilicemos las funciones implementadas:\n",
    "\n",
    "- prior(Y)\n",
    "- gaussian_likelihood(mean, variance, x)"
   ]
  },
  {
   "cell_type": "code",
   "execution_count": 6,
   "metadata": {},
   "outputs": [],
   "source": [
    "#definamos el dataset (X,Y)\n",
    "X = np.array([[6, 180, 12],[5.92, 190, 11],[5.58, 170, 12],[5.92, 165, 10],\n",
    "              [5, 100, 6],[5.5, 100, 8],[5.42, 130, 7],[5.75, 150, 9]])\n",
    "#asumamos hombre:0 y mujer:1\n",
    "Y = np.array([[0],[0],[0],[0],[1],[1],[1],[1]])"
   ]
  },
  {
   "cell_type": "code",
   "execution_count": 7,
   "metadata": {},
   "outputs": [
    {
     "name": "stdout",
     "output_type": "stream",
     "text": [
      "{'1': 0.5, '0': 0.5}\n"
     ]
    }
   ],
   "source": [
    "#1. Calculemos el prior de las clases\n",
    "p_C = prior(Y)\n",
    "print p_C"
   ]
  },
  {
   "cell_type": "code",
   "execution_count": 8,
   "metadata": {},
   "outputs": [
    {
     "name": "stdout",
     "output_type": "stream",
     "text": [
      "[  5.855 176.25   11.25 ] [3.50333333e-02 1.22916667e+02 9.16666667e-01]\n",
      "[  5.4175 120.       7.5   ] [9.72250000e-02 6.00000000e+02 1.66666667e+00]\n"
     ]
    }
   ],
   "source": [
    "#2. Calculemos medias y varianzas por caracteristicas y clases\n",
    "\n",
    "X_hombre = X[np.squeeze(Y==0)]\n",
    "X_mujer = X[np.squeeze(Y==1)]\n",
    "\n",
    "media_hombre = np.mean(X_hombre, axis=0)\n",
    "media_mujer = np.mean(X_mujer, axis=0)\n",
    "\n",
    "varianza_hombre = np.var(X_hombre, axis=0, ddof=1)\n",
    "varianza_mujer = np.var(X_mujer, axis=0, ddof=1)\n",
    "\n",
    "print media_hombre, varianza_hombre\n",
    "print media_mujer, varianza_mujer"
   ]
  },
  {
   "cell_type": "code",
   "execution_count": 9,
   "metadata": {},
   "outputs": [
    {
     "name": "stdout",
     "output_type": "stream",
     "text": [
      "0.016450021282770955 1.2876416870760153e-07\n"
     ]
    }
   ],
   "source": [
    "#3. Calculemos el likelihood para el objeto x\n",
    "\n",
    "x = np.array([6, 180, 12]) #objeto a clasificar\n",
    "#x = np.array([6, 180, 8])\n",
    "\n",
    "\n",
    "p_x_hombre = gaussian_likelihood(media_hombre, varianza_hombre, x)\n",
    "p_x_mujer = gaussian_likelihood(media_mujer, varianza_mujer, x)\n",
    "\n",
    "print p_x_hombre, p_x_mujer"
   ]
  },
  {
   "cell_type": "code",
   "execution_count": 10,
   "metadata": {},
   "outputs": [
    {
     "name": "stdout",
     "output_type": "stream",
     "text": [
      "0.9999921724623582\n",
      "7.827537641916916e-06\n"
     ]
    }
   ],
   "source": [
    "# 4. Calculemos el posterior para cada clase\n",
    "\n",
    "posterior_hombre_x = p_C[\"0\"] * p_x_hombre\n",
    "posterior_mujer_x = p_C[\"1\"] * p_x_mujer\n",
    "\n",
    "print posterior_hombre_x / (posterior_hombre_x + posterior_mujer_x)\n",
    "print posterior_mujer_x / (posterior_hombre_x + posterior_mujer_x)"
   ]
  },
  {
   "cell_type": "code",
   "execution_count": 11,
   "metadata": {},
   "outputs": [
    {
     "name": "stdout",
     "output_type": "stream",
     "text": [
      "('La clase del objeto x con caracteristicas: ', array([  6, 180,  12]), 'es: ', 'hombre')\n"
     ]
    }
   ],
   "source": [
    "# 5. Clasifiquemos\n",
    "labels = np.array([\"hombre\", \"mujer\"])\n",
    "\n",
    "posteriors = np.array([posterior_hombre_x, posterior_mujer_x])\n",
    "\n",
    "class_index = np.argmax(posteriors)\n",
    "\n",
    "print(\"La clase del objeto x con caracteristicas: \", x, \"es: \", labels[class_index])"
   ]
  },
  {
   "cell_type": "markdown",
   "metadata": {},
   "source": [
    "<hr>\n",
    "<h2> Iris dataset example </h2>"
   ]
  },
  {
   "cell_type": "code",
   "execution_count": 35,
   "metadata": {},
   "outputs": [
    {
     "name": "stdout",
     "output_type": "stream",
     "text": [
      "7.955239126885668e-18\n",
      "1.597485455116691e-10\n",
      "4.123028758585551e-13\n"
     ]
    }
   ],
   "source": [
    "X = np.array([[5.4,3.9,1.7,0.4], [5,3.6,1.4,0.3], [5.1,3.5,1.4,0.2],\n",
    "              [4.7,3.2,1.3,0.2], [4.9,3,1.4,0.2], [4.6,3.1,1.5,0.2],\n",
    "              [5.6,2.9,3.6,1.3], [5.2,2.7,3.9,1.4], [5.9,3,4.2,1.5],\n",
    "              [6.7,3.1,4.4,1.4], [5,2,3.5,1], [6,2.2,4,1],\n",
    "              [6.1,2.9,4.7,1.4], [6,2.2,5,1.5], [6.5,3,5.5,1.8],\n",
    "              [6.4,2.8,5.6,2.2], [6.9,3.2,5.7,2.3], [7.7,3.8,6.7,2.2],\n",
    "              [7.7,2.6,6.9,2.3]])\n",
    "Y = np.array([[0],[0],[0],[0],[0],[0],[1],[1],[1],[1],[1],[1],[1],[2],[2],[2],[2],[2],[2]])\n",
    "\n",
    "X_Setosa = X[np.squeeze(Y==0)]\n",
    "X_Versicolor = X[np.squeeze(Y==1)]\n",
    "X_Virginica = X[np.squeeze(Y==2)]\n",
    "\n",
    "media_Setosa = np.mean(X_Setosa, axis=0)\n",
    "media_Versicolor = np.mean(X_Versicolor, axis=0)\n",
    "media_Virginica = np.mean(X_Virginica, axis=0)\n",
    "\n",
    "##print media_Setosa\n",
    "#print media_Versicolor\n",
    "#print media_Virginica\n",
    "\n",
    "varianza_Setosa = np.var(X_Setosa, axis=0, ddof=1)\n",
    "varianza_Versicolor = np.var(X_Versicolor, axis=0, ddof=1)\n",
    "varianza_Virginica = np.var(X_Virginica, axis=0, ddof=1)\n",
    "\n",
    "#print varianza_Setosa\n",
    "#print varianza_Versicolor\n",
    "#print varianza_Virginica\n",
    " \n",
    "x = np.array([5.6, 4.5, 2.3, 0.7])#objeto a clasificar\n",
    "\n",
    "p_C = prior(Y)\n",
    "\n",
    "p_x_Setosa = gaussian_likelihood(media_Setosa, varianza_Setosa, x)\n",
    "p_x_Versicolor = gaussian_likelihood(media_Versicolor, varianza_Versicolor, x)\n",
    "p_x_Virginica = gaussian_likelihood(media_Virginica, varianza_Virginica, x)\n",
    "\n",
    "#print p_x_Setosa\n",
    "#print p_x_Versicolor\n",
    "#print p_x_Virginica\n",
    "\n",
    "posterior_Setosa_x = p_C[\"0\"] * p_x_Setosa\n",
    "posterior_Versicolor_x = p_C[\"1\"] * p_x_Versicolor\n",
    "posterior_Virginica_x = p_C[\"2\"] * p_x_Virginica\n",
    "\n",
    "print posterior_Setosa_x\n",
    "print posterior_Versicolor_x\n",
    "print posterior_Virginica_x"
   ]
  },
  {
   "cell_type": "markdown",
   "metadata": {},
   "source": [
    "<hr>\n",
    "# Gaussian Naive Bayes en SKLEARN"
   ]
  },
  {
   "cell_type": "code",
   "execution_count": 1,
   "metadata": {},
   "outputs": [],
   "source": [
    "from utils import generate_data, visualize, plot_decision_boundary\n",
    "import matplotlib.pyplot as plt\n",
    "import numpy as np"
   ]
  },
  {
   "cell_type": "code",
   "execution_count": 28,
   "metadata": {},
   "outputs": [],
   "source": [
    "X, Y = generate_data('blobs', num_samples=15, random_seed=0)\n",
    "X = np.round(X, 2)\n",
    "\n",
    "x = np.array([1.5, 2.3])"
   ]
  },
  {
   "cell_type": "code",
   "execution_count": 29,
   "metadata": {},
   "outputs": [
    {
     "name": "stdout",
     "output_type": "stream",
     "text": [
      "[[ 1.74  4.43]\n",
      " [ 1.17 -1.08]\n",
      " [ 1.42  4.64]\n",
      " [ 2.84  3.33]\n",
      " [-0.5   1.55]\n",
      " [ 0.87  4.71]\n",
      " [ 2.1   0.71]\n",
      " [ 4.33 -0.56]\n",
      " [ 2.21  1.28]\n",
      " [ 2.47  4.1 ]\n",
      " [ 1.12  5.76]\n",
      " [ 3.59  2.37]\n",
      " [ 2.92  0.16]\n",
      " [ 1.29  3.45]\n",
      " [ 1.93  4.15]] [0 1 0 0 1 0 1 1 1 0 0 1 1 0 0]\n"
     ]
    }
   ],
   "source": [
    "print X, Y"
   ]
  },
  {
   "cell_type": "code",
   "execution_count": 33,
   "metadata": {},
   "outputs": [
    {
     "name": "stdout",
     "output_type": "stream",
     "text": [
      "[[ 1.74  4.43]\n",
      " [ 1.17 -1.08]\n",
      " [ 1.42  4.64]\n",
      " [ 2.84  3.33]\n",
      " [-0.5   1.55]\n",
      " [ 0.87  4.71]\n",
      " [ 2.1   0.71]\n",
      " [ 4.33 -0.56]\n",
      " [ 2.21  1.28]\n",
      " [ 2.47  4.1 ]\n",
      " [ 1.12  5.76]\n",
      " [ 3.59  2.37]\n",
      " [ 2.92  0.16]\n",
      " [ 1.29  3.45]\n",
      " [ 1.93  4.15]] [[0]\n",
      " [1]\n",
      " [0]\n",
      " [0]\n",
      " [1]\n",
      " [0]\n",
      " [1]\n",
      " [1]\n",
      " [1]\n",
      " [0]\n",
      " [0]\n",
      " [1]\n",
      " [1]\n",
      " [0]\n",
      " [0]]\n"
     ]
    }
   ],
   "source": [
    "X = np.array([[ 1.74, 4.43], [ 1.17, -1.08], [ 1.42,  4.64], [ 2.84, 3.33], [-0.5,  1.55], [ 0.87,  4.71],\n",
    "              [ 2.1, 0.71], [ 4.33, -0.56], [ 2.21,  1.28], [ 2.47,  4.1 ], [ 1.12,  5.76], [ 3.59,  2.37],\n",
    "              [ 2.92,  0.16], [ 1.29,  3.45], [ 1.93,  4.15]])\n",
    "\n",
    "Y = np.array([[0], [1], [0], [0], [1], [0], [1], [1], [1], [0], [0], [1], [1], [0], [0]])"
   ]
  },
  {
   "cell_type": "code",
   "execution_count": 35,
   "metadata": {},
   "outputs": [
    {
     "data": {
      "image/png": "[encoded data removed]",
      "text/plain": [
       "<Figure size 504x360 with 1 Axes>"
      ]
     },
     "metadata": {
      "needs_background": "light"
     },
     "output_type": "display_data"
    }
   ],
   "source": [
    "color= ['red' if y == 1 else 'green' for y in Y]\n",
    "\n",
    "plt.figure(figsize=(7,5))\n",
    "\n",
    "c1_indexes = Y == 0\n",
    "c2_indexes = Y == 1\n",
    "\n",
    "#plt.scatter(X[:,0], X[:,1], color=color, label=['0'])\n",
    "plt.scatter(X[c1_indexes, 0], X[c1_indexes,1], color='red', label=['Categoria: 0'])\n",
    "plt.scatter(X[c2_indexes, 0], X[c2_indexes,1], color='blue', label=['Categoria: 1'])\n",
    "plt.scatter(x[0], x[1], color='black', marker='<', label=['x'])\n",
    "plt.legend()\n",
    "plt.show()"
   ]
  },
  {
   "cell_type": "code",
   "execution_count": 35,
   "metadata": {},
   "outputs": [
    {
     "data": {
      "text/plain": [
       "GaussianNB(priors=None)"
      ]
     },
     "execution_count": 35,
     "metadata": {},
     "output_type": "execute_result"
    }
   ],
   "source": [
    "from sklearn.naive_bayes import GaussianNB\n",
    "\n",
    "neigh = GaussianNB()\n",
    "neigh.fit(X, Y)"
   ]
  },
  {
   "cell_type": "code",
   "execution_count": 36,
   "metadata": {},
   "outputs": [
    {
     "data": {
      "image/png": "[encoded data removed]",
      "text/plain": [
       "<matplotlib.figure.Figure at 0x7f7167de5d10>"
      ]
     },
     "metadata": {},
     "output_type": "display_data"
    }
   ],
   "source": [
    "visualize(X, Y, neigh)"
   ]
  },
  {
   "cell_type": "code",
   "execution_count": null,
   "metadata": {},
   "outputs": [],
   "source": []
  },
  {
   "cell_type": "code",
   "execution_count": null,
   "metadata": {
    "collapsed": true
   },
   "outputs": [],
   "source": []
  }
 ],
 "metadata": {
  "kernelspec": {
   "display_name": "Python 2",
   "language": "python",
   "name": "python2"
  },
  "language_info": {
   "codemirror_mode": {
    "name": "ipython",
    "version": 2
   },
   "file_extension": ".py",
   "mimetype": "text/x-python",
   "name": "python",
   "nbconvert_exporter": "python",
   "pygments_lexer": "ipython2",
   "version": "2.7.15"
  }
 },
 "nbformat": 4,
 "nbformat_minor": 2
}
