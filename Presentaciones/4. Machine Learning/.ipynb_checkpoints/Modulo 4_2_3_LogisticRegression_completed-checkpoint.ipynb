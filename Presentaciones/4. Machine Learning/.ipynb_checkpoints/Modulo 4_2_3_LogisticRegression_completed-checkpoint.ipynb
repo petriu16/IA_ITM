{
 "cells": [
  {
   "cell_type": "markdown",
   "metadata": {},
   "source": [
    "<img src=\"res/itm_logo.jpg\" width=\"300px\">\n",
    "\n",
    "## Inteligencia Artificial - IAI84\n",
    "### Instituto Tecnológico Metropolitano\n",
    "#### Pedro Atencio Ortiz - 2018\n",
    "\n",
    "\n",
    "En este notebook se aborda el tema de aprendizaje de máquina para clasificación binaria utilizando Regresión Logística:\n",
    "1. Propagación hacia adelante (forward propagation)\n",
    "2. Función de pérdida\n",
    "3. Función de costo\n",
    "4. Descenso del gradiente\n",
    "5. Predicción"
   ]
  },
  {
   "cell_type": "markdown",
   "metadata": {},
   "source": [
    "<hr>\n",
    "# 1. Propagación hacia adelante (backward propagation)"
   ]
  },
  {
   "cell_type": "code",
   "execution_count": 2,
   "metadata": {
    "collapsed": true
   },
   "outputs": [],
   "source": [
    "import numpy as np"
   ]
  },
  {
   "cell_type": "code",
   "execution_count": 3,
   "metadata": {
    "collapsed": true
   },
   "outputs": [],
   "source": [
    "def sigmoid(z):\n",
    "    '''\n",
    "    Returns sigmoid activation for array z\n",
    "    '''\n",
    "    a = 1. / (1. + np.exp(-z)) \n",
    "    \n",
    "    return a "
   ]
  },
  {
   "cell_type": "code",
   "execution_count": 4,
   "metadata": {
    "collapsed": false
   },
   "outputs": [
    {
     "name": "stdout",
     "output_type": "stream",
     "text": [
      "[[ 0.39729283  0.485937    0.10562821]]\n"
     ]
    }
   ],
   "source": [
    "seed = 2\n",
    "np.random.seed(2)\n",
    "z = np.random.randn(1,3)\n",
    "print(sigmoid(z))"
   ]
  },
  {
   "cell_type": "code",
   "execution_count": 5,
   "metadata": {
    "collapsed": true
   },
   "outputs": [],
   "source": [
    "def linear_activation(W, b, X):\n",
    "    z = np.dot(W.T,X) + b\n",
    "    \n",
    "    return z"
   ]
  },
  {
   "cell_type": "code",
   "execution_count": 6,
   "metadata": {
    "collapsed": false
   },
   "outputs": [
    {
     "name": "stdout",
     "output_type": "stream",
     "text": [
      "('X: ', array([[1, 4],\n",
      "       [2, 5],\n",
      "       [3, 6]]))\n",
      "('Y: ', array([[0, 1]]))\n",
      "('W: ', array([[ 0.4 ],\n",
      "       [-0.5 ],\n",
      "       [ 0.01]]))\n",
      "('b: ', 0.3)\n",
      "('forward propagation: ', array([[ 0.4329071 ,  0.36818758]]))\n"
     ]
    }
   ],
   "source": [
    "X = np.array([[1,2,3],[4,5,6]]).T\n",
    "print(\"X: \",X)\n",
    "\n",
    "Y = np.array([[0, 1]])\n",
    "print(\"Y: \", Y)\n",
    "\n",
    "W = np.array([[0.4], [-0.5], [0.01]])\n",
    "print(\"W: \", W)\n",
    "\n",
    "b = 0.3\n",
    "print(\"b: \", b)\n",
    "\n",
    "A = sigmoid(linear_activation(W, b, X))\n",
    "\n",
    "print(\"forward propagation: \", A)"
   ]
  },
  {
   "cell_type": "markdown",
   "metadata": {},
   "source": [
    "<hr>\n",
    "# 2. Función de perdida"
   ]
  },
  {
   "cell_type": "code",
   "execution_count": 7,
   "metadata": {
    "collapsed": true
   },
   "outputs": [],
   "source": [
    "def loss(y, a):\n",
    "    return -(y * np.log(a) + (1-y) * np.log(1-a))"
   ]
  },
  {
   "cell_type": "code",
   "execution_count": 8,
   "metadata": {
    "collapsed": false
   },
   "outputs": [
    {
     "name": "stdout",
     "output_type": "stream",
     "text": [
      "('Perdida dato a dato: ', array([[ 0.22068428,  0.24198147,  1.27491702]]))\n"
     ]
    }
   ],
   "source": [
    "seed = 2 #to be able to verify your result\n",
    "np.random.seed(seed)\n",
    "W = np.random.randn(2,1)\n",
    "b = np.random.rand()\n",
    "X = np.random.randn(2, 3)\n",
    "\n",
    "Y = np.array([[1,1,0]]) #original labels for features X\n",
    "A = sigmoid(linear_activation(W,b,X)) #forward activation\n",
    "\n",
    "print(\"Perdida dato a dato: \", loss(Y, A))"
   ]
  },
  {
   "cell_type": "markdown",
   "metadata": {},
   "source": [
    "<hr>\n",
    "# 3. Función de costo"
   ]
  },
  {
   "cell_type": "code",
   "execution_count": 9,
   "metadata": {
    "collapsed": true
   },
   "outputs": [],
   "source": [
    "def cost(logloss):\n",
    "    return np.mean(logloss)"
   ]
  },
  {
   "cell_type": "code",
   "execution_count": 10,
   "metadata": {
    "collapsed": false
   },
   "outputs": [
    {
     "name": "stdout",
     "output_type": "stream",
     "text": [
      "('costo: ', 0.57919425666666668)\n"
     ]
    }
   ],
   "source": [
    "logloss = np.array([[0.22068428,  0.24198147,  1.27491702]])\n",
    "print(\"costo: \", cost(logloss))"
   ]
  },
  {
   "cell_type": "markdown",
   "metadata": {},
   "source": [
    "<hr>\n",
    "# 4. Descenso del gradiente (Gradient Descent) "
   ]
  },
  {
   "cell_type": "code",
   "execution_count": 11,
   "metadata": {
    "collapsed": false
   },
   "outputs": [
    {
     "name": "stdout",
     "output_type": "stream",
     "text": [
      "('m: ', 2)\n",
      "('W inicial: ', array([[ 0.1 ],\n",
      "       [-0.1 ],\n",
      "       [ 0.01]]))\n",
      "('b inicial: ', 0.1)\n"
     ]
    }
   ],
   "source": [
    "seed = 2\n",
    "np.random.seed(seed)\n",
    "\n",
    "X = np.random.rand(3,2)\n",
    "Y = np.array([[0, 1]])\n",
    "\n",
    "m = X.shape[1]\n",
    "\n",
    "W = np.array([[0.1], [-0.1], [0.01]])\n",
    "b = 0.1\n",
    "\n",
    "print(\"m: \", m)\n",
    "print(\"W inicial: \",W)\n",
    "print(\"b inicial: \",b)"
   ]
  },
  {
   "cell_type": "code",
   "execution_count": 12,
   "metadata": {
    "collapsed": false
   },
   "outputs": [
    {
     "name": "stdout",
     "output_type": "stream",
     "text": [
      "('costo: ', 0.7015469904820788)\n",
      "('costo: ', 0.64689871140177202)\n",
      "('costo: ', 0.60229866112170505)\n",
      "('costo: ', 0.56214082904387985)\n",
      "('costo: ', 0.52583854084244652)\n",
      "('costo: ', 0.4929752680198537)\n",
      "('costo: ', 0.46317799905372303)\n",
      "('costo: ', 0.43611256330020032)\n",
      "('costo: ', 0.41148118437711673)\n",
      "('costo: ', 0.38901958210179133)\n",
      "('W actualizado: ', array([[-3.67551521],\n",
      "       [-0.66135148],\n",
      "       [-0.44629981]]))\n",
      "('b actualizado: ', 1.2478368169371263)\n",
      "('costo total: ', 0.3686902335639759)\n"
     ]
    }
   ],
   "source": [
    "learning_rate = 0.05\n",
    "\n",
    "for i in range(1000): #1000 iteraciones del descenso del gradiente\n",
    "    Z = linear_activation(W,b,X)\n",
    "    A = sigmoid(Z)\n",
    "    dz = A - Y\n",
    "    dW = np.dot(X,dz.T) / m\n",
    "    db = np.sum(dz) / m\n",
    "    J = cost(loss(Y,A))\n",
    "    W -= learning_rate * dW\n",
    "    b -= learning_rate * db\n",
    "    \n",
    "    if(i%100 == 0):\n",
    "        print(\"costo: \", J)\n",
    "\n",
    "print(\"W actualizado: \",W)\n",
    "print(\"b actualizado: \",b)\n",
    "print(\"costo total: \", J)"
   ]
  },
  {
   "cell_type": "markdown",
   "metadata": {},
   "source": [
    "# 5. Predicción\n",
    "\n",
    "La predicción consiste en aplicar forward propagation utilizando los W y b optimizados mediante descenso del gradiente."
   ]
  },
  {
   "cell_type": "code",
   "execution_count": 13,
   "metadata": {
    "collapsed": true
   },
   "outputs": [],
   "source": [
    "def predict(W,b,X):\n",
    "    z = linear_activation(W,b,X)\n",
    "    A = sigmoid(z)\n",
    "    return np.round(A)"
   ]
  },
  {
   "cell_type": "code",
   "execution_count": 14,
   "metadata": {
    "collapsed": false
   },
   "outputs": [
    {
     "name": "stdout",
     "output_type": "stream",
     "text": [
      "('predicciones: ', array([[ 0.,  1.]]))\n",
      "('clases originales: ', array([[0, 1]]))\n"
     ]
    }
   ],
   "source": [
    "Y_hat = predict(W,b,X)\n",
    "print(\"predicciones: \",np.round(Y_hat))\n",
    "print(\"clases originales: \", Y)"
   ]
  },
  {
   "cell_type": "markdown",
   "metadata": {},
   "source": [
    "<hr>\n",
    "# Regresión Logística sobre un dataset"
   ]
  },
  {
   "cell_type": "code",
   "execution_count": 15,
   "metadata": {
    "collapsed": true
   },
   "outputs": [],
   "source": [
    "from utils import generate_data, visualize, plot_decision_boundary\n",
    "import matplotlib.pyplot as plt"
   ]
  },
  {
   "cell_type": "code",
   "execution_count": 16,
   "metadata": {
    "collapsed": false
   },
   "outputs": [
    {
     "name": "stdout",
     "output_type": "stream",
     "text": [
      "(100, 2)\n",
      "(1, 100)\n"
     ]
    }
   ],
   "source": [
    "X, Y = generate_data('blobs')\n",
    "Y = Y.reshape(1,len(Y))\n",
    "print(X.shape)\n",
    "print(Y.shape)"
   ]
  },
  {
   "cell_type": "code",
   "execution_count": 17,
   "metadata": {
    "collapsed": false
   },
   "outputs": [
    {
     "data": {
      "image/png": "[encoded data removed]",
      "text/plain": [
       "<matplotlib.figure.Figure at 0x7efd6fa32350>"
      ]
     },
     "metadata": {},
     "output_type": "display_data"
    }
   ],
   "source": [
    "color= ['red' if y == 1 else 'green' for y in np.squeeze(Y)]\n",
    "\n",
    "plt.figure(figsize=(7,5))\n",
    "plt.scatter(X[:,0], X[:,1], color=color)\n",
    "\n",
    "plt.show()\n",
    "\n",
    "X = X.T"
   ]
  },
  {
   "cell_type": "code",
   "execution_count": 28,
   "metadata": {
    "collapsed": false
   },
   "outputs": [
    {
     "name": "stdout",
     "output_type": "stream",
     "text": [
      "('m: ', 100)\n",
      "('W inicial: ', array([[ 0.97873798],\n",
      "       [ 2.2408932 ]]))\n",
      "('b inicial: ', 0)\n"
     ]
    }
   ],
   "source": [
    "#1. inicilicemos parametros W y b\n",
    "m = X.shape[1]\n",
    "\n",
    "W = np.random.randn(X.shape[0],1)\n",
    "b = 0\n",
    "\n",
    "print(\"m: \", m)\n",
    "print(\"W inicial: \",W)\n",
    "print(\"b inicial: \",b)"
   ]
  },
  {
   "cell_type": "code",
   "execution_count": 30,
   "metadata": {
    "collapsed": false
   },
   "outputs": [
    {
     "name": "stdout",
     "output_type": "stream",
     "text": [
      "('costo: ', 0.10099947139724363)\n",
      "('costo: ', 0.10026119792104077)\n",
      "('costo: ', 0.09965101539485037)\n",
      "('costo: ', 0.09914013721464747)\n",
      "('costo: ', 0.098707707487412102)\n",
      "('costo: ', 0.098338248018012081)\n",
      "('costo: ', 0.09802003275224741)\n",
      "('costo: ', 0.097744018666864815)\n",
      "('costo: ', 0.097503122669030301)\n",
      "('costo: ', 0.097291720428625994)\n",
      "('W actualizado: ', array([[ 0.58414478],\n",
      "       [-4.13316978]]))\n",
      "('b actualizado: ', 10.297995547123222)\n",
      "('costo final (error), despues de ', 10000, ' iteraciones: ', 0.097105466715801309)\n"
     ]
    }
   ],
   "source": [
    "#2. Regresion logistica mediante descenso del gradiente\n",
    "\n",
    "learning_rate = 0.1\n",
    "\n",
    "for i in range(10000): #1000 iteraciones del descenso del gradiente\n",
    "    Z = linear_activation(W,b,X)\n",
    "    A = sigmoid(Z)\n",
    "    dz = A - Y\n",
    "    dW = np.dot(X,dz.T) / m\n",
    "    db = np.sum(dz) / m\n",
    "    J = np.sum(-(Y * np.log(A) + (1-Y)*np.log(1-A))) / m\n",
    "    \n",
    "    W -= learning_rate * dW\n",
    "    b -= learning_rate * db\n",
    "    \n",
    "    if(i%1000 == 0):\n",
    "        print(\"costo: \", J)\n",
    "\n",
    "print(\"W actualizado: \",W)\n",
    "print(\"b actualizado: \",b)\n",
    "print(\"costo final (error), despues de \",i+1,\" iteraciones: \", J)"
   ]
  },
  {
   "cell_type": "code",
   "execution_count": 31,
   "metadata": {
    "collapsed": false
   },
   "outputs": [
    {
     "name": "stdout",
     "output_type": "stream",
     "text": [
      "[[ 1.  1.  0.  1.  1.  0.  0.  1.  0.  1.  0.  1.  0.  0.  1.  1.  1.  0.\n",
      "   1.  1.  0.  0.  1.  0.  1.  0.  1.  0.  0.  1.  1.  0.  1.  1.  0.  0.\n",
      "   1.  1.  0.  1.  0.  0.  0.  0.  0.  1.  1.  1.  0.  0.  1.  1.  0.  0.\n",
      "   1.  0.  0.  1.  1.  1.  1.  0.  0.  1.  0.  0.  0.  0.  1.  0.  0.  1.\n",
      "   1.  0.  0.  0.  1.  1.  0.  0.  0.  0.  0.  0.  0.  0.  1.  0.  1.  1.\n",
      "   1.  1.  1.  1.  0.  0.  1.  1.  0.  1.]]\n"
     ]
    }
   ],
   "source": [
    "print(predict(W,b,X))"
   ]
  },
  {
   "cell_type": "code",
   "execution_count": 32,
   "metadata": {
    "collapsed": true
   },
   "outputs": [],
   "source": [
    "def visualize_lr(W, b, X, y):\n",
    "    X = X.T\n",
    "    # Set min and max values and give it some padding\n",
    "    x_min, x_max = X[:, 0].min() - .5, X[:, 0].max() + .5\n",
    "    y_min, y_max = X[:, 1].min() - .5, X[:, 1].max() + .5\n",
    "    h = 0.01\n",
    "    # Generate a grid of points with distance h between them\n",
    "    xx, yy = np.meshgrid(np.arange(x_min, x_max, h), np.arange(y_min, y_max, h))\n",
    "    # Predict the function value for the whole gid\n",
    "    #Z = pred_func(W,b,np.c_[xx.ravel(), yy.ravel()])\n",
    "    Z = predict(W,b,np.c_[xx.ravel(), yy.ravel()].T)\n",
    "    Z = Z.reshape(xx.shape)\n",
    "    # Plot the contour and training examples\n",
    "    plt.figure(figsize=(7,5))\n",
    "    plt.contourf(xx, yy, Z, cmap=plt.cm.Spectral)\n",
    "    plt.scatter(X[:, 0], X[:, 1], c=y, cmap=plt.cm.Spectral)\n",
    "    plt.show()"
   ]
  },
  {
   "cell_type": "code",
   "execution_count": 33,
   "metadata": {
    "collapsed": false,
    "scrolled": true
   },
   "outputs": [
    {
     "data": {
      "image/png": "[encoded data removed]",
      "text/plain": [
       "<matplotlib.figure.Figure at 0x7efd6d6680d0>"
      ]
     },
     "metadata": {},
     "output_type": "display_data"
    }
   ],
   "source": [
    "visualize_lr(W, b, X, Y)"
   ]
  },
  {
   "cell_type": "code",
   "execution_count": null,
   "metadata": {
    "collapsed": true
   },
   "outputs": [],
   "source": []
  }
 ],
 "metadata": {
  "kernelspec": {
   "display_name": "Python 2",
   "language": "python",
   "name": "python2"
  },
  "language_info": {
   "codemirror_mode": {
    "name": "ipython",
    "version": 2
   },
   "file_extension": ".py",
   "mimetype": "text/x-python",
   "name": "python",
   "nbconvert_exporter": "python",
   "pygments_lexer": "ipython2",
   "version": "2.7.12"
  }
 },
 "nbformat": 4,
 "nbformat_minor": 2
}
