{
 "cells": [
  {
   "cell_type": "markdown",
   "metadata": {},
   "source": [
    "<img src=\"res/itm_logo.jpg\" width=\"300px\">\n",
    "\n",
    "## Inteligencia Artificial - IAI84\n",
    "### Instituto Tecnológico Metropolitano\n",
    "#### Pedro Atencio Ortiz - 2018\n",
    "\n",
    "\n",
    "En este notebook se aborda el tema de aprendizaje de máquina para clasificación binaria no-lineal utilizando Regresores logísticos en cadena:\n",
    "1. El problema XOR\n",
    "2. Regresores logísticos en cadena"
   ]
  },
  {
   "cell_type": "markdown",
   "metadata": {},
   "source": [
    "<hr>\n",
    "# 1. El problema XOR\n",
    "\n",
    "<img src='res/shallow_nn/xor_problem.png'>"
   ]
  },
  {
   "cell_type": "markdown",
   "metadata": {},
   "source": [
    " # 1. Regresor Logístico"
   ]
  },
  {
   "cell_type": "code",
   "execution_count": 1,
   "metadata": {},
   "outputs": [],
   "source": [
    "import numpy as np"
   ]
  },
  {
   "cell_type": "code",
   "execution_count": 2,
   "metadata": {},
   "outputs": [],
   "source": [
    "def linear_activation(W, b, a):\n",
    "    z = np.dot(W,a) + b\n",
    "    \n",
    "    return z"
   ]
  },
  {
   "cell_type": "code",
   "execution_count": 3,
   "metadata": {},
   "outputs": [],
   "source": [
    "def sigmoid(z):\n",
    "    '''\n",
    "    Returns sigmoid activation for array z\n",
    "    '''\n",
    "    a = 1. / (1. + np.exp(-z)) \n",
    "    \n",
    "    return a "
   ]
  },
  {
   "cell_type": "code",
   "execution_count": 4,
   "metadata": {},
   "outputs": [],
   "source": [
    "def d_sigmoid(z):\n",
    "    return sigmoid(z) * (1. - sigmoid(z))"
   ]
  },
  {
   "cell_type": "code",
   "execution_count": 5,
   "metadata": {},
   "outputs": [],
   "source": [
    "def loss(y, a):\n",
    "    return -(y * np.log(a) + (1-y) * np.log(1-a))"
   ]
  },
  {
   "cell_type": "code",
   "execution_count": 6,
   "metadata": {},
   "outputs": [],
   "source": [
    "def cost(logloss):\n",
    "    return np.mean(logloss)"
   ]
  },
  {
   "cell_type": "code",
   "execution_count": 7,
   "metadata": {},
   "outputs": [],
   "source": [
    "def predict_multilayer(parameters,X):\n",
    "    W1 = parameters[\"W1\"]\n",
    "    b1 = parameters[\"b1\"]\n",
    "    W2 = parameters[\"W2\"]\n",
    "    b2 = parameters[\"b2\"]\n",
    "    \n",
    "    Z1 = linear_activation(W1,b1,X)\n",
    "    A1 = sigmoid(Z1)\n",
    "    \n",
    "    Z2 = linear_activation(W2,b2,A1)\n",
    "    A2 = sigmoid(Z2)\n",
    "\n",
    "    return np.round(A2)"
   ]
  },
  {
   "cell_type": "markdown",
   "metadata": {},
   "source": [
    "<hr>\n",
    "# Trabajemos\n",
    "3. Realicemos descenso del gradiente sobre la red neural completa."
   ]
  },
  {
   "cell_type": "markdown",
   "metadata": {},
   "source": [
    "### - Dataset XOR"
   ]
  },
  {
   "cell_type": "code",
   "execution_count": 9,
   "metadata": {},
   "outputs": [
    {
     "data": {
      "image/png": "[encoded data removed]",
      "text/plain": [
       "<matplotlib.figure.Figure at 0x7fb497427f50>"
      ]
     },
     "metadata": {},
     "output_type": "display_data"
    }
   ],
   "source": [
    "import numpy as np\n",
    "import matplotlib.pyplot as plt\n",
    "\n",
    "X = np.array([[0,0],[0,1],[1,0],[1,1]])\n",
    "Y = np.array([[0, 1, 1, 0]])\n",
    "\n",
    "nx, m = X.T.shape\n",
    "color= ['blue' if y == 1 else 'red' for y in np.squeeze(Y)]\n",
    "\n",
    "plt.figure(figsize=(7,5))\n",
    "plt.scatter(X[:,0], X[:,1], color=color)\n",
    "\n",
    "plt.show()\n",
    "\n",
    "X = X.T"
   ]
  },
  {
   "cell_type": "markdown",
   "metadata": {},
   "source": [
    "### - Inicializacion de parametros de la red."
   ]
  },
  {
   "cell_type": "code",
   "execution_count": 10,
   "metadata": {},
   "outputs": [],
   "source": [
    "def initialize_parameters(neurons_hidden_layer=2):\n",
    "\n",
    "    W1 = np.random.randn(neurons_hidden_layer, 2)\n",
    "    b1 = np.zeros([neurons_hidden_layer, 1])\n",
    "\n",
    "    W2 = np.random.randn(1, neurons_hidden_layer)\n",
    "    b2 = np.zeros([1,1])\n",
    "    \n",
    "    parameters = {\"W1\":W1, \"b1\":b1, \"W2\":W2, \"b2\":b2}\n",
    "    \n",
    "    return parameters"
   ]
  },
  {
   "cell_type": "code",
   "execution_count": 12,
   "metadata": {},
   "outputs": [
    {
     "name": "stdout",
     "output_type": "stream",
     "text": [
      "torres\n"
     ]
    }
   ],
   "source": [
    "apellidos = {\"pedro\":\"atencio\", \"julio\":\"torres\"}\n",
    "\n",
    "print apellidos[\"julio\"]"
   ]
  },
  {
   "cell_type": "markdown",
   "metadata": {},
   "source": [
    "<hr>\n",
    "### - Apliquemos descenso del gradiente a cada regresor logístico por separado"
   ]
  },
  {
   "cell_type": "code",
   "execution_count": 23,
   "metadata": {},
   "outputs": [
    {
     "name": "stdout",
     "output_type": "stream",
     "text": [
      "('parametros iniciales: ', {'b2': array([[ 0.]]), 'b1': array([[ 0.],\n",
      "       [ 0.]]), 'W1': array([[ 1.15057785,  0.23280167],\n",
      "       [ 0.39616253,  0.66025473]]), 'W2': array([[ 0.50979095, -1.95218677]])})\n",
      "('costo -- iteracion ', 0, ': ', 0.79274483768538639)\n",
      "('costo -- iteracion ', 1000, ': ', 0.044939268830430437)\n",
      "('costo -- iteracion ', 2000, ': ', 0.013990093474148306)\n",
      "('costo -- iteracion ', 3000, ': ', 0.0081297374630305754)\n",
      "('costo -- iteracion ', 4000, ': ', 0.0057026411971989877)\n",
      "('costo -- iteracion ', 5000, ': ', 0.0043828229453796181)\n",
      "('costo -- iteracion ', 6000, ': ', 0.0035553646110527324)\n",
      "('costo -- iteracion ', 7000, ': ', 0.0029888382675096301)\n",
      "('costo -- iteracion ', 8000, ': ', 0.002576975482007862)\n",
      "('costo -- iteracion ', 9000, ': ', 0.0022642225172859326)\n",
      "('parametros actualizados: ', {'b2': array([[-6.36633514]]), 'b1': array([[-3.47164176],\n",
      "       [-8.8775158 ]]), 'W1': array([[ 7.55125512,  7.55013608],\n",
      "       [ 5.80599471,  5.80577403]]), 'W2': array([[ 13.53779635, -14.32415911]])})\n",
      "('Predicciones del clasificador: ', array([[ 0.,  1.,  1.,  0.]]))\n"
     ]
    },
    {
     "data": {
      "image/png": "[encoded data removed]",
      "text/plain": [
       "<matplotlib.figure.Figure at 0x7fb496ecff90>"
      ]
     },
     "metadata": {},
     "output_type": "display_data"
    }
   ],
   "source": [
    "'''\n",
    "Metaparameters initialization\n",
    "'''\n",
    "num_epochs = 10000\n",
    "learning_rate = 0.5\n",
    "\n",
    "'''\n",
    "Parameters initialization\n",
    "'''\n",
    "parameters = initialize_parameters(neurons_hidden_layer=2)\n",
    "W1 = parameters[\"W1\"]\n",
    "b1 = parameters[\"b1\"]\n",
    "W2 = parameters[\"W2\"]\n",
    "b2 = parameters[\"b2\"]\n",
    "\n",
    "print (\"parametros iniciales: \", parameters)\n",
    "\n",
    "error_array = np.zeros([num_epochs])#lo utilizaremos para plotear el error\n",
    "\n",
    "'''\n",
    "Gradient descent\n",
    "'''\n",
    "for i in range(num_epochs): #2000 iteraciones del descenso del gradiente\n",
    "    '''\n",
    "    Forward Propagation\n",
    "    '''\n",
    "    Z1 = linear_activation(W1, b1, X)\n",
    "    A1 = sigmoid(Z1)\n",
    "\n",
    "    Z2 = linear_activation(W2, b2, A1)\n",
    "    A2 = sigmoid(Z2)\n",
    "\n",
    "    '''\n",
    "    Backward Propagation\n",
    "    '''\n",
    "    dZ2 = A2 - Y\n",
    "    dW2 = np.dot(dZ2, A1.T) / m\n",
    "    db2 = np.sum(dZ2, axis=1, keepdims=True) / m\n",
    "\n",
    "    dZ1 = np.multiply(np.dot(W2.T, dZ2), d_sigmoid(Z1))\n",
    "    dW1 = np.dot(dZ1, X.T) / m\n",
    "    db1 = np.sum(dZ1, axis=1, keepdims=True) / m\n",
    "\n",
    "    '''\n",
    "    Parameters Update\n",
    "    '''\n",
    "    W1 -= learning_rate * dW1\n",
    "    W2 -= learning_rate * dW2\n",
    "    b1 -= learning_rate * db1\n",
    "    b2 -= learning_rate * db2\n",
    "\n",
    "    '''\n",
    "    Cost estimation\n",
    "    '''\n",
    "    J = cost(loss(Y,A2))\n",
    "    error_array[i] = J\n",
    "    \n",
    "    \n",
    "    if(i%1000 == 0):\n",
    "        print(\"costo -- iteracion \", i, \": \", J)\n",
    "        \n",
    "print(\"parametros actualizados: \", parameters)\n",
    "\n",
    "'''\n",
    "Testing\n",
    "'''\n",
    "print(\"Predicciones del clasificador: \", predict_multilayer(parameters,X))\n",
    "\n",
    "'''\n",
    "Visualizacion del error por epoca\n",
    "'''\n",
    "plt.figure(figsize=(10,5))\n",
    "plt.plot(np.linspace(0,num_epochs-1, num_epochs), error_array)\n",
    "plt.xlabel(\"numero de epocas\")\n",
    "plt.ylabel(\"error: \"+r'$J$')\n",
    "plt.show()"
   ]
  },
  {
   "cell_type": "markdown",
   "metadata": {},
   "source": [
    "### - Visualizacion del resultado"
   ]
  },
  {
   "cell_type": "code",
   "execution_count": 24,
   "metadata": {},
   "outputs": [],
   "source": [
    "import matplotlib.pyplot as plt\n",
    "\n",
    "def visualize_lr(parameters, X, Y):\n",
    "    X = X.T\n",
    "    \n",
    "    # Set min and max values and give it some padding\n",
    "    x_min, x_max = X[:, 0].min() - .5, X[:, 0].max() + .5\n",
    "    y_min, y_max = X[:, 1].min() - .5, X[:, 1].max() + .5\n",
    "    h = 0.01\n",
    "    # Generate a grid of points with distance h between them\n",
    "    xx, yy = np.meshgrid(np.arange(x_min, x_max, h), np.arange(y_min, y_max, h))\n",
    "    # Predict the function value for the whole gid\n",
    "    Z = predict_multilayer(parameters, np.c_[xx.ravel(), yy.ravel()].T)\n",
    "    Z = Z.reshape(xx.shape)\n",
    "    # Plot the contour and training examples\n",
    "    plt.figure(figsize=(7,5))\n",
    "    plt.contourf(xx, yy, Z, cmap=plt.cm.Spectral)\n",
    "    \n",
    "    color= ['blue' if y == 1 else 'red' for y in np.squeeze(Y)]\n",
    "    plt.scatter(X[:,0], X[:,1], color=color)\n",
    "    \n",
    "    plt.show()"
   ]
  },
  {
   "cell_type": "code",
   "execution_count": 25,
   "metadata": {
    "scrolled": true
   },
   "outputs": [
    {
     "data": {
      "image/png": "[encoded data removed]",
      "text/plain": [
       "<matplotlib.figure.Figure at 0x7fb496f51990>"
      ]
     },
     "metadata": {},
     "output_type": "display_data"
    }
   ],
   "source": [
    "visualize_lr(parameters, X, Y)"
   ]
  },
  {
   "cell_type": "code",
   "execution_count": null,
   "metadata": {
    "collapsed": true
   },
   "outputs": [],
   "source": []
  },
  {
   "cell_type": "code",
   "execution_count": null,
   "metadata": {
    "collapsed": true
   },
   "outputs": [],
   "source": []
  }
 ],
 "metadata": {
  "kernelspec": {
   "display_name": "Python 2",
   "language": "python",
   "name": "python2"
  },
  "language_info": {
   "codemirror_mode": {
    "name": "ipython",
    "version": 2
   },
   "file_extension": ".py",
   "mimetype": "text/x-python",
   "name": "python",
   "nbconvert_exporter": "python",
   "pygments_lexer": "ipython2",
   "version": "2.7.13"
  }
 },
 "nbformat": 4,
 "nbformat_minor": 2
}
