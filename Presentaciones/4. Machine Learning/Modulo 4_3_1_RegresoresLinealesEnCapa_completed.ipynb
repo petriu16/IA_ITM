{
 "cells": [
  {
   "cell_type": "markdown",
   "metadata": {},
   "source": [
    "<img src=\"res/itm_logo.jpg\" width=\"300px\">\n",
    "\n",
    "## Inteligencia Artificial - IAI84\n",
    "### Instituto Tecnológico Metropolitano\n",
    "#### Pedro Atencio Ortiz - 2018\n",
    "\n",
    "En este notebook se aborda el tema de aprendizaje de máquina para clasificación binaria no-lineal utilizando Regresores logísticos en cadena:\n",
    "1. El problema XOR\n",
    "2. Regresores logísticos en cadena"
   ]
  },
  {
   "cell_type": "markdown",
   "metadata": {},
   "source": [
    "<hr>\n",
    "# 1. El problema XOR\n",
    "\n",
    "<img src='res/shallow_nn/xor_problem.png'>"
   ]
  },
  {
   "cell_type": "markdown",
   "metadata": {},
   "source": [
    " # 1. Regresor Logístico"
   ]
  },
  {
   "cell_type": "code",
   "execution_count": 1,
   "metadata": {},
   "outputs": [],
   "source": [
    "import numpy as np"
   ]
  },
  {
   "cell_type": "code",
   "execution_count": 2,
   "metadata": {},
   "outputs": [],
   "source": [
    "def linear_activation(W, b, X):\n",
    "    z = np.dot(W.T,X) + b\n",
    "    \n",
    "    return z"
   ]
  },
  {
   "cell_type": "code",
   "execution_count": 3,
   "metadata": {},
   "outputs": [],
   "source": [
    "def sigmoid(z):\n",
    "    '''\n",
    "    Returns sigmoid activation for array z\n",
    "    '''\n",
    "    a = 1. / (1. + np.exp(-z)) \n",
    "    \n",
    "    return a "
   ]
  },
  {
   "cell_type": "code",
   "execution_count": 4,
   "metadata": {},
   "outputs": [],
   "source": [
    "def loss(y, a):\n",
    "    return -(y * np.log(a) + (1-y) * np.log(1-a))"
   ]
  },
  {
   "cell_type": "code",
   "execution_count": 5,
   "metadata": {},
   "outputs": [],
   "source": [
    "def cost(logloss):\n",
    "    return np.mean(logloss)"
   ]
  },
  {
   "cell_type": "markdown",
   "metadata": {},
   "source": [
    "<hr>\n",
    "# Trabajemos\n",
    "3. Realicemos descenso del gradiente por cada regresor logístico.\n",
    "4. Creemos un solo regresor no lineal combinando el grafo de cómputo en cadena visto en clase y los W y b actualizados para cada regresor."
   ]
  },
  {
   "cell_type": "markdown",
   "metadata": {},
   "source": [
    "### - Creemos los 3 datasets (X1, Y1), (X2, Y2) y (X3, Y3) según trabajamos en clase."
   ]
  },
  {
   "cell_type": "code",
   "execution_count": 6,
   "metadata": {},
   "outputs": [
    {
     "name": "stdout",
     "output_type": "stream",
     "text": [
      "('X1: ', array([[0, 0, 1, 1],\n",
      "       [0, 1, 0, 1]]), 'Y1: ', array([[0, 1, 1, 1]]))\n",
      "('X2: ', array([[0, 0, 1, 1],\n",
      "       [0, 1, 0, 1]]), 'Y2: ', array([[1, 1, 1, 0]]))\n",
      "('X3: ', array([[0, 1, 1, 1],\n",
      "       [1, 1, 1, 0]]), 'Y3: ', array([[0, 1, 1, 0]]))\n"
     ]
    }
   ],
   "source": [
    "X1 = np.array([[0,0],[0,1],[1,0],[1,1]]).T\n",
    "Y1 = np.array([[0, 1, 1, 1]])\n",
    "print(\"X1: \",X1, 'Y1: ', Y1)\n",
    "\n",
    "X2 = np.array([[0,0],[0,1],[1,0],[1,1]]).T\n",
    "Y2 = np.array([[1, 1, 1, 0]])\n",
    "print(\"X2: \",X2, 'Y2: ', Y2)\n",
    "\n",
    "X3 = np.array([[0,1],[1,1],[1,1],[1,0]]).T\n",
    "Y3 = np.array([[0, 1, 1, 0]])\n",
    "print(\"X3: \",X3, 'Y3: ', Y3)"
   ]
  },
  {
   "cell_type": "markdown",
   "metadata": {},
   "source": [
    "__Resultado esperado:__<br>\n",
    "('X1: ', array([[0, 0, 1, 1],\n",
    "       [0, 1, 0, 1]]), 'Y1: ', array([[0, 1, 1, 1]]))\n",
    "       <br>\n",
    "('X2: ', array([[0, 0, 1, 1],\n",
    "       [0, 1, 0, 1]]), 'Y2: ', array([[1, 1, 1, 0]]))\n",
    "       <br>\n",
    "('X3: ', array([[0, 1, 1, 1],\n",
    "       [1, 1, 1, 0]]), 'Y3: ', array([[0, 1, 1, 0]]))"
   ]
  },
  {
   "cell_type": "markdown",
   "metadata": {},
   "source": [
    "### - Inicialicemos los pesos W1, W2, W3 de forma aleatoria (__np.random.rand(shape)__) y los bias b en zero."
   ]
  },
  {
   "cell_type": "code",
   "execution_count": 7,
   "metadata": {},
   "outputs": [
    {
     "name": "stdout",
     "output_type": "stream",
     "text": [
      "('W1: ', array([[-0.41675785],\n",
      "       [-0.05626683]]), 'b1: ', 0)\n",
      "('W2: ', array([[-2.1361961 ],\n",
      "       [ 1.64027081]]), 'b2: ', 0)\n",
      "('W3: ', array([[-1.79343559],\n",
      "       [-0.84174737]]), 'b3: ', 0)\n"
     ]
    }
   ],
   "source": [
    "def initialize_parameters():\n",
    "    seed = 2\n",
    "    np.random.seed(seed)\n",
    "\n",
    "    W1 = np.random.randn(2,1)\n",
    "    b1 = 0\n",
    "\n",
    "    W2 = np.random.randn(2,1)\n",
    "    b2 = 0\n",
    "\n",
    "    W3 = np.random.randn(2,1)\n",
    "    b3 = 0\n",
    "\n",
    "    return (W1, b1, W2, b2, W3, b3)\n",
    "\n",
    "(W1,b1,W2,b2,W3,b3) = initialize_parameters()\n",
    "\n",
    "print('W1: ', W1, 'b1: ',b1)\n",
    "print('W2: ', W2, 'b2: ',b2)\n",
    "print('W3: ', W3, 'b3: ',b3)"
   ]
  },
  {
   "cell_type": "markdown",
   "metadata": {},
   "source": [
    "__Resultado esperado:__\n",
    "<br>\n",
    "('W1: ', array([[-0.41675785],\n",
    "       [-0.05626683]]), 'b1: ', 0)\n",
    "       <br>\n",
    "('W2: ', array([[-2.1361961 ],\n",
    "       [ 1.64027081]]), 'b2: ', 0)\n",
    "       <br>\n",
    "('W3: ', array([[-1.79343559],\n",
    "       [-0.84174737]]), 'b3: ', 0)\n"
   ]
  },
  {
   "cell_type": "markdown",
   "metadata": {},
   "source": [
    "<hr>\n",
    "### - Apliquemos descenso del gradiente a cada regresor logístico por separado"
   ]
  },
  {
   "cell_type": "code",
   "execution_count": 8,
   "metadata": {},
   "outputs": [],
   "source": [
    "def backward_propagation(A, X, Y):\n",
    "    m = X.shape[1]\n",
    "    \n",
    "    dz = A - Y\n",
    "    dW = np.dot(X, dz.T) / m\n",
    "    db = np.sum(dz) / m\n",
    "    \n",
    "    return (dW, db)"
   ]
  },
  {
   "cell_type": "code",
   "execution_count": 9,
   "metadata": {},
   "outputs": [
    {
     "name": "stdout",
     "output_type": "stream",
     "text": [
      "('costo regresor 1 -- iteracion ', 0, ': ', 0.82381919092736267)\n",
      "('costo regresor 2 -- iteracion ', 0, ': ', 0.89846065158970267)\n",
      "('costo regresor 3 -- iteracion ', 0, ': ', 0.89846065158970267)\n",
      "('costo regresor 1 -- iteracion ', 1000, ': ', 0.015684525863179696)\n",
      "('costo regresor 2 -- iteracion ', 1000, ': ', 0.02884491516543498)\n",
      "('costo regresor 3 -- iteracion ', 1000, ': ', 0.02884491516543498)\n",
      "('costo regresor 1 -- iteracion ', 2000, ': ', 0.0077340700469977607)\n",
      "('costo regresor 2 -- iteracion ', 2000, ': ', 0.014481348596109028)\n",
      "('costo regresor 3 -- iteracion ', 2000, ': ', 0.014481348596109028)\n",
      "('costo regresor 1 -- iteracion ', 3000, ': ', 0.0051201400832217659)\n",
      "('costo regresor 2 -- iteracion ', 3000, ': ', 0.0096334704457201673)\n",
      "('costo regresor 3 -- iteracion ', 3000, ': ', 0.0096334704457201673)\n",
      "('costo regresor 1 -- iteracion ', 4000, ': ', 0.003823970609968419)\n",
      "('costo regresor 2 -- iteracion ', 4000, ': ', 0.007209259287853589)\n",
      "('costo regresor 3 -- iteracion ', 4000, ': ', 0.007209259287853589)\n",
      "('costo regresor 1 -- iteracion ', 5000, ': ', 0.0030505060877497958)\n",
      "('costo regresor 2 -- iteracion ', 5000, ': ', 0.0057569678475741966)\n",
      "('costo regresor 3 -- iteracion ', 5000, ': ', 0.0057569678475741966)\n",
      "('costo regresor 1 -- iteracion ', 6000, ': ', 0.0025368672755381955)\n",
      "('costo regresor 2 -- iteracion ', 6000, ': ', 0.004790430024652249)\n",
      "('costo regresor 3 -- iteracion ', 6000, ': ', 0.004790430024652249)\n",
      "('costo regresor 1 -- iteracion ', 7000, ': ', 0.0021710568349752059)\n",
      "('costo regresor 2 -- iteracion ', 7000, ': ', 0.0041011416646142222)\n",
      "('costo regresor 3 -- iteracion ', 7000, ': ', 0.0041011416646142222)\n",
      "('costo regresor 1 -- iteracion ', 8000, ': ', 0.0018973287509570043)\n",
      "('costo regresor 2 -- iteracion ', 8000, ': ', 0.0035849045026744002)\n",
      "('costo regresor 3 -- iteracion ', 8000, ': ', 0.0035849045026744002)\n",
      "('costo regresor 1 -- iteracion ', 9000, ': ', 0.0016848237259386941)\n",
      "('costo regresor 2 -- iteracion ', 9000, ': ', 0.0031838848261483135)\n",
      "('costo regresor 3 -- iteracion ', 9000, ': ', 0.0031838848261483135)\n",
      "('W1 actualizado: ', array([[ 12.30162845],\n",
      "       [ 12.30163466]]), 'b1 actualizado: ', -5.6915448639261275)\n",
      "('W2 actualizado: ', array([[-11.0458057],\n",
      "       [-11.0458057]]), 'b2 actualizado: ', 16.737642201820911)\n",
      "('W3 actualizado: ', array([[ 11.73297854],\n",
      "       [ 11.73297854]]), 'b3 actualizado: ', -17.420607474506099)\n"
     ]
    }
   ],
   "source": [
    "learning_rate = 0.6\n",
    "\n",
    "(W1,b1,W2,b2,W3,b3) = initialize_parameters()\n",
    "\n",
    "num_epochs = 10000\n",
    "\n",
    "for i in range(num_epochs):\n",
    "    ## Forward Propagation\n",
    "    Z1 = linear_activation(W1,b1,X1)\n",
    "    A1 = sigmoid(Z1)\n",
    "    \n",
    "    Z2 = linear_activation(W2,b2,X2)\n",
    "    A2 = sigmoid(Z2)\n",
    "    \n",
    "    Z3 = linear_activation(W3,b3,X3)\n",
    "    A3 = sigmoid(Z3)\n",
    "    \n",
    "    #Backward Propagation\n",
    "    (dW1, db1) = backward_propagation(A1,X1, Y1)\n",
    "    (dW2, db2) = backward_propagation(A2,X2, Y2)\n",
    "    (dW3, db3) = backward_propagation(A3,X3, Y3)\n",
    "    \n",
    "    #Weight Updates\n",
    "    W1 -= learning_rate * dW1\n",
    "    b1 -= learning_rate * db1\n",
    "    W2 -= learning_rate * dW2\n",
    "    b2 -= learning_rate * db2\n",
    "    W3 -= learning_rate * dW3\n",
    "    b3 -= learning_rate * db3\n",
    "    \n",
    "    #Cost estimation\n",
    "    J1 = cost(loss(Y1,A1))\n",
    "    J2 = cost(loss(Y2,A2))\n",
    "    J3 = cost(loss(Y3,A3))\n",
    "    \n",
    "    \n",
    "    if(i%1000 == 0):\n",
    "        print(\"costo regresor 1 -- iteracion \", i, \": \", J1)\n",
    "        print(\"costo regresor 2 -- iteracion \", i, \": \", J2)\n",
    "        print(\"costo regresor 3 -- iteracion \", i, \": \", J2)\n",
    "\n",
    "print(\"W1 actualizado: \",W1, \"b1 actualizado: \", b1)\n",
    "print(\"W2 actualizado: \",W2, \"b2 actualizado: \", b2)\n",
    "print(\"W3 actualizado: \",W3, \"b3 actualizado: \", b3)"
   ]
  },
  {
   "cell_type": "markdown",
   "metadata": {},
   "source": [
    "__Resultado esperado:__\n",
    "<br>\n",
    "('costo regresor 1 -- iteracion ', 0, ': ', 0.82381919092736267)\n",
    "<br>\n",
    "('costo regresor 2 -- iteracion ', 0, ': ', 1.690717816357759)\n",
    "<br>\n",
    "('costo regresor 3 -- iteracion ', 0, ': ', 1.690717816357759)\n",
    "<br>\n",
    "...\n",
    "<br>\n",
    "('costo regresor 1 -- iteracion ', 1800, ': ', 0.059067083863525841)\n",
    "<br>\n",
    "('costo regresor 2 -- iteracion ', 1800, ': ', 0.43458474800401775)\n",
    "<br>\n",
    "('costo regresor 3 -- iteracion ', 1800, ': ', 0.43458474800401775)\n",
    "<br><br>\n",
    "('W1 actualizado: ', array([[ 3.63883826],\n",
    "       [ 3.99932928]]), 'b1 actualizado: ', -1.2304228512033604)\n",
    "       <br>\n",
    "('W2 actualizado: ', array([[-4.46040679],\n",
    "       [-0.68393989]]), 'b2 actualizado: ', 4.440351150899609)\n",
    "       <br>\n",
    "('W3 actualizado: ', array([[ 1.97706174],\n",
    "       [ 2.92874996]]), 'b3 actualizado: ', -3.3939910248821952)\n"
   ]
  },
  {
   "cell_type": "markdown",
   "metadata": {},
   "source": [
    "### - verifiquemos las predicciones por cada regresor logístico ya entrenado."
   ]
  },
  {
   "cell_type": "code",
   "execution_count": 10,
   "metadata": {},
   "outputs": [],
   "source": [
    "def predict(W,b,X):\n",
    "    z = linear_activation(W,b,X)\n",
    "    A = sigmoid(z)\n",
    "    return np.round(A)"
   ]
  },
  {
   "cell_type": "code",
   "execution_count": 11,
   "metadata": {},
   "outputs": [
    {
     "name": "stdout",
     "output_type": "stream",
     "text": [
      "('predicciones regresor 1: ', array([[ 0.,  1.,  1.,  1.]]), '--- Clases originales: ', array([[0, 1, 1, 1]]))\n",
      "('predicciones regresor 2: ', array([[ 1.,  1.,  1.,  0.]]), '--- Clases originales: ', array([[1, 1, 1, 0]]))\n",
      "('predicciones regresor 3: ', array([[ 0.,  1.,  1.,  0.]]), '--- Clases originales: ', array([[0, 1, 1, 0]]))\n"
     ]
    }
   ],
   "source": [
    "Y_hat1 = predict(W1,b1,X1)\n",
    "Y_hat2 = predict(W2,b2,X2)\n",
    "Y_hat3 = predict(W3,b3,X3)\n",
    "print(\"predicciones regresor 1: \",np.round(Y_hat1),\"--- Clases originales: \", Y1)\n",
    "print(\"predicciones regresor 2: \",np.round(Y_hat2),\"--- Clases originales: \", Y2)\n",
    "print(\"predicciones regresor 3: \",np.round(Y_hat3),\"--- Clases originales: \", Y3)"
   ]
  },
  {
   "cell_type": "markdown",
   "metadata": {},
   "source": [
    "__Resultado esperado:__\n",
    "<br>\n",
    "('predicciones regresor 1: ', array([[ 0.,  1.,  1.,  1.]]), '--- Clases originales: ', array([[0, 1, 1, 1]]))\n",
    "<br>\n",
    "('predicciones regresor 2: ', array([[ 1.,  1.,  1.,  0.]]), '--- Clases originales: ', array([[1, 1, 1, 0]]))\n",
    "<br>\n",
    "('predicciones regresor 3: ', array([[ 0.,  1.,  1.,  0.]]), '--- Clases originales: ', array([[0, 1, 1, 0]]))\n"
   ]
  },
  {
   "cell_type": "markdown",
   "metadata": {},
   "source": [
    "<hr>\n",
    "### - Agrupemos los tres regresores en capas\n",
    "<img src='res/shallow_nn/compute_graph_3.png' width=800>"
   ]
  },
  {
   "cell_type": "code",
   "execution_count": 12,
   "metadata": {},
   "outputs": [
    {
     "name": "stdout",
     "output_type": "stream",
     "text": [
      "[[ 0.  1.  1.  0.]]\n"
     ]
    }
   ],
   "source": [
    "def predict_multilayer(W1,b1,W2,b2,W3,b3,X):\n",
    "    Z1 = linear_activation(W1,b1,X)\n",
    "    A1 = sigmoid(Z1)\n",
    "    \n",
    "    Z2 = linear_activation(W2,b2,X)\n",
    "    A2 = sigmoid(Z2)\n",
    "    \n",
    "    X3 = np.concatenate((A1,A2), axis=0)\n",
    "    Z3 = linear_activation(W3, b3, X3)\n",
    "    A3 = sigmoid(Z3)\n",
    "    \n",
    "    return np.round(A3)\n",
    "\n",
    "y_hat = predict_multilayer(W1,b1,W2,b2,W3,b3,X1)\n",
    "print(y_hat)"
   ]
  },
  {
   "cell_type": "markdown",
   "metadata": {},
   "source": [
    "# Apliquemos nuestro regresor multicapa al problema XOR\n",
    "----- Solo ejecutar celdas -----"
   ]
  },
  {
   "cell_type": "code",
   "execution_count": 15,
   "metadata": {},
   "outputs": [
    {
     "data": {
      "image/png": "[encoded data removed]",
      "text/plain": [
       "<matplotlib.figure.Figure at 0x7f8cc892da50>"
      ]
     },
     "metadata": {},
     "output_type": "display_data"
    }
   ],
   "source": [
    "import matplotlib.pyplot as plt\n",
    "\n",
    "X = np.array([[0,0],[0,1],[1,0],[1,1]])\n",
    "Y = np.array([[0, 1, 1, 0]])\n",
    "\n",
    "color= ['blue' if y == 1 else 'red' for y in np.squeeze(Y)]\n",
    "\n",
    "plt.figure(figsize=(7,5))\n",
    "plt.scatter(X[:,0], X[:,1], color=color)\n",
    "\n",
    "plt.show()\n",
    "\n",
    "X = X.T"
   ]
  },
  {
   "cell_type": "code",
   "execution_count": 16,
   "metadata": {},
   "outputs": [],
   "source": [
    "import matplotlib.pyplot as plt\n",
    "\n",
    "def visualize_lr(W1, b1, W2, b2, W3, b3, X, Y):\n",
    "    X = X.T\n",
    "    # Set min and max values and give it some padding\n",
    "    x_min, x_max = X[:, 0].min() - .5, X[:, 0].max() + .5\n",
    "    y_min, y_max = X[:, 1].min() - .5, X[:, 1].max() + .5\n",
    "    h = 0.01\n",
    "    # Generate a grid of points with distance h between them\n",
    "    xx, yy = np.meshgrid(np.arange(x_min, x_max, h), np.arange(y_min, y_max, h))\n",
    "    # Predict the function value for the whole gid\n",
    "    Z = predict_multilayer(W1,b1,W2,b2,W3,b3,np.c_[xx.ravel(), yy.ravel()].T)\n",
    "    print(Z)\n",
    "    Z = Z.reshape(xx.shape)\n",
    "    # Plot the contour and training examples\n",
    "    plt.figure(figsize=(7,5))\n",
    "    plt.contourf(xx, yy, Z, cmap=plt.cm.Spectral)\n",
    "    \n",
    "    color= ['blue' if y == 1 else 'red' for y in np.squeeze(Y)]\n",
    "    plt.scatter(X[:,0], X[:,1], color=color)\n",
    "    \n",
    "    plt.show()"
   ]
  },
  {
   "cell_type": "code",
   "execution_count": 17,
   "metadata": {
    "scrolled": true
   },
   "outputs": [
    {
     "name": "stdout",
     "output_type": "stream",
     "text": [
      "[[ 0.  0.  0. ...,  0.  0.  0.]]\n"
     ]
    },
    {
     "data": {
      "image/png": "[encoded data removed]",
      "text/plain": [
       "<matplotlib.figure.Figure at 0x7f8ccd889190>"
      ]
     },
     "metadata": {},
     "output_type": "display_data"
    }
   ],
   "source": [
    "visualize_lr(W1, b1, W2, b2, W3, b3, X, Y)"
   ]
  },
  {
   "cell_type": "code",
   "execution_count": null,
   "metadata": {},
   "outputs": [],
   "source": []
  },
  {
   "cell_type": "code",
   "execution_count": null,
   "metadata": {},
   "outputs": [],
   "source": []
  }
 ],
 "metadata": {
  "kernelspec": {
   "display_name": "Python 2",
   "language": "python",
   "name": "python2"
  },
  "language_info": {
   "codemirror_mode": {
    "name": "ipython",
    "version": 2
   },
   "file_extension": ".py",
   "mimetype": "text/x-python",
   "name": "python",
   "nbconvert_exporter": "python",
   "pygments_lexer": "ipython2",
   "version": "2.7.13"
  }
 },
 "nbformat": 4,
 "nbformat_minor": 2
}
