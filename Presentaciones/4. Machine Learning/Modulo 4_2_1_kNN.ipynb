{
 "cells": [
  {
   "cell_type": "markdown",
   "metadata": {},
   "source": [
    "<img src=\"res/itm_logo.jpg\" width=\"300px\">\n",
    "\n",
    "## Inteligencia Artificial - IAI84\n",
    "### Instituto Tecnológico Metropolitano\n",
    "#### Pedro Atencio Ortiz - 2018\n",
    "\n",
    "En este notebook se aborda el tema de aprendizaje de máquina para clasificación binario utilizando k-Vecinos Cercanos:\n",
    "<ul>\n",
    "    <li>Clasifidores por distancia o cercanía</li>\n",
    "    <li>Medidas de distancia o similitud</li>\n",
    "    <li>Clasificación según vecino más próximo</li>\n",
    "    <li>Clasificación según k vecinos más próximos (k-NN)</li>\n",
    "</ul>"
   ]
  },
  {
   "cell_type": "markdown",
   "metadata": {},
   "source": [
    "<hr>\n",
    "# Módulo 4: Machine Learning\n",
    "## Módulo 4_2: Aproximaciones Tradicionales\n",
    "## Módulo 4_2_1: Clasificación por distancia (k-NN)\n",
    "\n",
    "<ul>\n",
    "    <li>Estos algoritmos se basan en la suposición de que las muestras pertenecientes a una misma clase, estarán muy próximas entre sí en el espacio de representación.</li>\n",
    "\n",
    "    <li>Esta suposición implica contar con alguna medida de similitud entre datos de las clases.</li>\n",
    "\n",
    "    <li>Esto supone de igual forma que la mayoría de los datos de entrenamiento están clasificados de forma correcta.</li>\n",
    "</ul>\n",
    "\n",
    "<img src=\"res/knn/clasificacion.png\" width=\"500\">\n",
    "\n",
    "Estos clasificadores también suelen ser conocidos como:\n",
    "\n",
    "<ul>\n",
    "<li>Clasificadores basados en memoria.</li>\n",
    "<li>Aprendizaje perezoso (lazy learning).</li>\n",
    "<li>Clasificadores basados en instancias.</li>\n",
    "</ul>"
   ]
  },
  {
   "cell_type": "markdown",
   "metadata": {
    "collapsed": true
   },
   "source": [
    "<hr>\n",
    "## ¿cuál es el vecino más próximo?\n",
    "\n",
    "<img src=\"res/knn/proximidad.png\" width=\"500\">\n",
    "<center>¿cómo medimos la proximidad?</center>"
   ]
  },
  {
   "cell_type": "markdown",
   "metadata": {
    "collapsed": true
   },
   "source": [
    "<hr>\n",
    "## Medida de proximidad\n",
    "\n",
    "Una medida comúnmente utilizada para k-NN es la distancia euclídea:\n",
    "\n",
    "## <center>$d(x^{(i)}, x^{(j)})=\\sum {({x^{(i)}-x^{(j)}})^2}$</center>\n",
    "\n",
    "Donde $x^{(i)}$ y $x^{(j)}$ son dos ejemplos del dataset."
   ]
  },
  {
   "cell_type": "code",
   "execution_count": 1,
   "metadata": {},
   "outputs": [],
   "source": [
    "import numpy as np\n",
    "import time\n",
    "import matplotlib.pyplot as plt"
   ]
  },
  {
   "cell_type": "code",
   "execution_count": 3,
   "metadata": {},
   "outputs": [],
   "source": [
    "def vect_euclidean_dist(x_i, x_j):\n",
    "    \"\"\"\n",
    "    Implements a euclidean distance between two arrays.\n",
    "    Arrays must be two-dimensional\n",
    "\n",
    "    Arguments:\n",
    "    x_i -- array i\n",
    "    x_j -- array j (can be a matrix)\n",
    "\n",
    "    Returns:\n",
    "    euclidean distance\n",
    "    \"\"\"\n",
    "    return np.sqrt(np.sum((x_i - x_j)**2, axis=1))\n",
    "    "
   ]
  },
  {
   "cell_type": "code",
   "execution_count": 5,
   "metadata": {},
   "outputs": [
    {
     "name": "stdout",
     "output_type": "stream",
     "text": [
      "[ 0.76811457  0.73484692  8.23043134]\n"
     ]
    }
   ],
   "source": [
    "x_1 = np.array([[1.3,2.2,3.1]])\n",
    "x_2 = np.array([[1.4,2.5,3.8], [1.4,2.0,3.8], [1.4,-6,3.8]])\n",
    "\n",
    "print(vect_euclidean_dist(x_1, x_2))"
   ]
  },
  {
   "cell_type": "markdown",
   "metadata": {},
   "source": [
    "<hr>\n",
    "## Clasificación por vecino más próximo\n",
    "\n",
    "El algoritmo del vecino más próximo consiste entonces en clasificar un objeto con la misma clase de otro objeto con el cual tenga una menor distancia. Es decir, la clase que tomará un objeto nuevo, consiste en la misma clase del objeto más similar a este respecto a sus características.\n",
    "\n",
    "Para ello entonces obtenenemos las distancias del objeto nuevo respecto a todos los objetos del dataset y seleccionamos la categoría del objeto más cercano."
   ]
  },
  {
   "cell_type": "code",
   "execution_count": 6,
   "metadata": {},
   "outputs": [],
   "source": [
    "x_i = np.array([[8.8, 7.5]])\n",
    "\n",
    "X = np.random.rand(50, 2) * 15\n",
    "Y = np.round(np.random.rand(50, 1))"
   ]
  },
  {
   "cell_type": "code",
   "execution_count": 7,
   "metadata": {},
   "outputs": [],
   "source": [
    "def nearest_neighbor(x_i, X):\n",
    "    min_dist = 1000000\n",
    "    n_index = 0\n",
    "    \n",
    "    for i in range(X.shape[0]):\n",
    "        temp_dist = vect_euclidean_dist(x_i, X[i,:])\n",
    "        if(temp_dist < min_dist):\n",
    "            min_dist = temp_dist\n",
    "            n_index = i\n",
    "    \n",
    "    return n_index"
   ]
  },
  {
   "cell_type": "code",
   "execution_count": 8,
   "metadata": {},
   "outputs": [
    {
     "name": "stdout",
     "output_type": "stream",
     "text": [
      "('class: ', array(1.0))\n",
      "('nearest neighbor: ', array([ 7.68915106,  8.16324632]))\n"
     ]
    }
   ],
   "source": [
    "nearest = nearest_neighbor(x_i, X)\n",
    "print(\"class: \", np.squeeze(Y[nearest]))\n",
    "\n",
    "print(\"nearest neighbor: \", X[nearest])"
   ]
  },
  {
   "cell_type": "code",
   "execution_count": 12,
   "metadata": {},
   "outputs": [
    {
     "data": {
      "image/png": "[encoded data removed]",
      "text/plain": [
       "<matplotlib.figure.Figure at 0x7f978b69a690>"
      ]
     },
     "metadata": {},
     "output_type": "display_data"
    }
   ],
   "source": [
    "import matplotlib\n",
    "\n",
    "color= ['red' if y == 1 else 'green' for y in Y]\n",
    "\n",
    "plt.figure(figsize=(7,5))\n",
    "plt.scatter(X[:,0], X[:,1], color=color)\n",
    "plt.scatter(x_i[:,0], x_i[:,1], color='blue')\n",
    "plt.scatter(X[nearest][0], X[nearest][1], color='black')\n",
    "\n",
    "plt.show()"
   ]
  },
  {
   "cell_type": "markdown",
   "metadata": {},
   "source": [
    "<hr>\n",
    "## k-Vecinos Cercanos (k-NN)\n",
    "\n",
    "Una aproximación más sofisticada, clasificación k-NN, encuentra un grupo de $k$ objetos en el conjunto de entrenamiento que se encuentran más cerca del objeto de prueba, y asigna una clase al mismo basado en la predominancia de una clase particular en el vecindario.\n",
    "<img src=\"res/knn/knn.png\" width=\"400\">\n",
    "Dados un conjunto de entrenamiento $(X,Y)$ y un objeto de prueba $x_i$, el algoritmo computa la distancia o similaridad entre $x_i$ y todos los objetos de entrenamiento que pertenecen a $(X,Y)$ para determinar la lista de vecinos más cercanos.  Una vez se obtiene dicha lista, $x_i$ se clasifica con la clase de mayor aparición en su vecindario (mayoría de votos). \n",
    "<img src=\"res/knn/knn_example.png\" width=\"700\">"
   ]
  },
  {
   "cell_type": "code",
   "execution_count": 13,
   "metadata": {},
   "outputs": [],
   "source": [
    "def k_nearest_neighbor(x_i, X, k):\n",
    "    \"\"\"\n",
    "    Implements a k-NN classifier using euclidean distance.\n",
    "\n",
    "    Arguments:\n",
    "    x_i -- array i\n",
    "    X -- two-dimensional array containing training samples features\n",
    "    k -- number of neighbors\n",
    "\n",
    "    Returns:\n",
    "    array of indexes of nearest neighbors\n",
    "    \"\"\"\n",
    "    distances = vect_euclidean_dist(x_i, X)\n",
    "    ordered_index = np.argsort(distances)\n",
    "    nearest_index = ordered_index[0:k]\n",
    "    return nearest_index"
   ]
  },
  {
   "cell_type": "code",
   "execution_count": 14,
   "metadata": {},
   "outputs": [
    {
     "name": "stdout",
     "output_type": "stream",
     "text": [
      "('nearest neighbors: ', array([ 7.68915106,  8.16324632]))\n",
      "('neighbors classes: ', array([[ 1.],\n",
      "       [ 0.],\n",
      "       [ 0.],\n",
      "       [ 1.],\n",
      "       [ 0.],\n",
      "       [ 1.],\n",
      "       [ 1.],\n",
      "       [ 1.],\n",
      "       [ 0.],\n",
      "       [ 0.],\n",
      "       [ 1.]]))\n",
      "('class: ', 1.0)\n"
     ]
    }
   ],
   "source": [
    "from collections import Counter\n",
    "\n",
    "print(\"nearest neighbors: \", X[nearest])\n",
    "\n",
    "nearest = k_nearest_neighbor(x_i, X, 11)\n",
    "print(\"neighbors classes: \", Y[nearest])\n",
    "\n",
    "counter = Counter(np.squeeze(Y[nearest]))\n",
    "print(\"class: \", counter.most_common(1)[0][0])"
   ]
  },
  {
   "cell_type": "markdown",
   "metadata": {},
   "source": [
    "<hr>\n",
    "Una implementación real de kNN requiere crear un árbol kd-Tree para que sea posible encontrar los vecinos cercanos en un tiempo razonable computacionalmente, de tal forma que no sea necesario comparar cada nuevo dato respecto a todo el dataset. Para una lectura al respecto ir a: https://ashokharnal.wordpress.com/2015/01/20/a-working-example-of-k-d-tree-formation-and-k-nearest-neighbor-algorithms/ "
   ]
  },
  {
   "cell_type": "markdown",
   "metadata": {},
   "source": [
    "<hr>\n",
    "# SKLEARN\n",
    "\n",
    "Esta librería tiene implementadas múltiples técnicas de aprendizaje de máquina y de manejo de datasets. Realicemos una prueba simple."
   ]
  },
  {
   "cell_type": "code",
   "execution_count": 15,
   "metadata": {},
   "outputs": [],
   "source": [
    "'''\n",
    "    Utility functions\n",
    "'''\n",
    "\n",
    "import numpy as np\n",
    "import sklearn\n",
    "from sklearn import datasets\n",
    "import matplotlib.pyplot as plt\n",
    "\n",
    "def generate_data(data_type):\n",
    "    \"\"\"\n",
    "    Generate a binary dataset with distribution data_type\n",
    "\n",
    "    Arguments:\n",
    "    data_type -- distribution of dataset {moons,circles,blobs}\n",
    "\n",
    "    Returns:\n",
    "    X -- features\n",
    "    Y -- labels\n",
    "    \"\"\" \n",
    "    np.random.seed(0)\n",
    "    if data_type == 'moons':\n",
    "        X, Y = datasets.make_moons(200, noise=0.20)\n",
    "    elif data_type == 'circles':\n",
    "        X, Y = sklearn.datasets.make_circles(200, noise=0.20)\n",
    "    elif data_type == 'blobs':\n",
    "        X, Y = sklearn.datasets.make_blobs(centers=2, random_state=0)\n",
    "    return X, Y\n",
    "\n",
    "def visualize(X, y, model):\n",
    "    plot_decision_boundary(lambda x:model.predict(x), X, y)\n",
    "\n",
    "def plot_decision_boundary(pred_func, X, y):\n",
    "    # Set min and max values and give it some padding\n",
    "    x_min, x_max = X[:, 0].min() - .5, X[:, 0].max() + .5\n",
    "    y_min, y_max = X[:, 1].min() - .5, X[:, 1].max() + .5\n",
    "    h = 0.01\n",
    "    # Generate a grid of points with distance h between them\n",
    "    xx, yy = np.meshgrid(np.arange(x_min, x_max, h), np.arange(y_min, y_max, h))\n",
    "    # Predict the function value for the whole gid\n",
    "    Z = pred_func(np.c_[xx.ravel(), yy.ravel()])\n",
    "    Z = Z.reshape(xx.shape)\n",
    "    # Plot the contour and training examples\n",
    "    plt.figure(figsize=(7,5))\n",
    "    plt.contourf(xx, yy, Z, cmap=plt.cm.Spectral)\n",
    "    plt.scatter(X[:, 0], X[:, 1], c=y, cmap=plt.cm.Spectral)\n",
    "    plt.show()"
   ]
  },
  {
   "cell_type": "code",
   "execution_count": 16,
   "metadata": {},
   "outputs": [],
   "source": [
    "X, Y = generate_data('blobs')"
   ]
  },
  {
   "cell_type": "code",
   "execution_count": 17,
   "metadata": {},
   "outputs": [
    {
     "data": {
      "image/png": "[encoded data removed]",
      "text/plain": [
       "<matplotlib.figure.Figure at 0x7f978b6427d0>"
      ]
     },
     "metadata": {},
     "output_type": "display_data"
    }
   ],
   "source": [
    "color= ['red' if y == 1 else 'green' for y in Y]\n",
    "\n",
    "plt.figure(figsize=(7,5))\n",
    "plt.scatter(X[:,0], X[:,1], color=color)\n",
    "\n",
    "plt.show()"
   ]
  },
  {
   "cell_type": "markdown",
   "metadata": {},
   "source": [
    "<hr>\n",
    "### Implementemos kNN con SKLearn"
   ]
  },
  {
   "cell_type": "code",
   "execution_count": 29,
   "metadata": {},
   "outputs": [
    {
     "data": {
      "text/plain": [
       "KNeighborsClassifier(algorithm='auto', leaf_size=30, metric='euclidean',\n",
       "           metric_params=None, n_jobs=1, n_neighbors=3, p=2,\n",
       "           weights='uniform')"
      ]
     },
     "execution_count": 29,
     "metadata": {},
     "output_type": "execute_result"
    }
   ],
   "source": [
    "from sklearn.neighbors import KNeighborsClassifier\n",
    "\n",
    "neigh = KNeighborsClassifier(n_neighbors=3, metric='euclidean')\n",
    "neigh.fit(X, Y)"
   ]
  },
  {
   "cell_type": "code",
   "execution_count": 30,
   "metadata": {},
   "outputs": [
    {
     "data": {
      "image/png": "[encoded data removed]",
      "text/plain": [
       "<matplotlib.figure.Figure at 0x7f9780c9c410>"
      ]
     },
     "metadata": {},
     "output_type": "display_data"
    }
   ],
   "source": [
    "visualize(X, Y, neigh)"
   ]
  },
  {
   "cell_type": "markdown",
   "metadata": {},
   "source": [
    "<hr>\n",
    "# Trabajemos\n",
    "<ul>\n",
    "<li>¿Como se comporta kNN ante distintos valores de k?</li>\n",
    "<li>¿Como se comporta kNN ante datasets de diferentes distribuciones?</li>\n",
    "<li>¿Que pasa cuando utilizamos una porción de los datos para entrenar (X_train, Y_train) y otra para validar (X_dev, Y_dev)?</li>\n",
    "</ul>"
   ]
  },
  {
   "cell_type": "code",
   "execution_count": null,
   "metadata": {
    "collapsed": true
   },
   "outputs": [],
   "source": []
  }
 ],
 "metadata": {
  "kernelspec": {
   "display_name": "Python 2",
   "language": "python",
   "name": "python2"
  },
  "language_info": {
   "codemirror_mode": {
    "name": "ipython",
    "version": 2
   },
   "file_extension": ".py",
   "mimetype": "text/x-python",
   "name": "python",
   "nbconvert_exporter": "python",
   "pygments_lexer": "ipython2",
   "version": "2.7.15"
  }
 },
 "nbformat": 4,
 "nbformat_minor": 2
}
