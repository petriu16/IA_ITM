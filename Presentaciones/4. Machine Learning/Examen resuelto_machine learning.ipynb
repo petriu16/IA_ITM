{
 "cells": [
  {
   "cell_type": "code",
   "execution_count": 2,
   "metadata": {},
   "outputs": [],
   "source": [
    "import numpy as np"
   ]
  },
  {
   "cell_type": "code",
   "execution_count": 3,
   "metadata": {},
   "outputs": [],
   "source": [
    "X = np.array([[ 1.74, 4.43], [ 1.17, -1.08], [ 1.42,  4.64], [ 2.84, 3.33], [-0.5,  1.55], [ 0.87,  4.71],\n",
    "              [ 2.1, 0.71], [ 4.33, -0.56], [ 2.21,  1.28], [ 2.47,  4.1 ], [ 1.12,  5.76], [ 3.59,  2.37],\n",
    "              [ 2.92,  0.16], [ 1.29,  3.45], [ 1.93,  4.15]])\n",
    "\n",
    "Y = np.array([[0], [1], [0], [0], [1], [0], [1], [1], [1], [0], [0], [1], [1], [0], [0]])"
   ]
  },
  {
   "cell_type": "code",
   "execution_count": 4,
   "metadata": {},
   "outputs": [],
   "source": [
    "def gaussian_likelihood(mean, variance, x):\n",
    "    '''\n",
    "    Calculates Gaussian likelihood of x to appear in data of an unknown class\n",
    "    with mean=mean and variance=variance.\n",
    "    \n",
    "    Arguments:\n",
    "        mean -- numpy array of statistical mean of data associated to x\n",
    "        variance -- numpy array of statistical variance of data associated to x\n",
    "        x -- numpy array containing a feature vector\n",
    "    '''\n",
    "    a = 1. / np.sqrt(2.*np.pi*variance)\n",
    "    b = np.exp( -((x-mean)**2.) / (2.*variance) )\n",
    "    p = np.multiply(a,b)\n",
    "        \n",
    "    return np.prod(p)"
   ]
  },
  {
   "cell_type": "code",
   "execution_count": 5,
   "metadata": {},
   "outputs": [],
   "source": [
    "def prior(Y):\n",
    "    '''\n",
    "    Compute priors for classes C_k in dataset (X,Y)\n",
    "    \n",
    "    Arguments:\n",
    "        Y -- labels / classes dataset. numpy array of shape (M, 1)\n",
    "    Returns:\n",
    "        p -- dictionary with priors for each class. {class_1_prior_1,...,class_n:prior_n}\n",
    "    '''\n",
    "    p = {} #dictionary of priors\n",
    "    \n",
    "    M = np.float(Y.shape[0])\n",
    "    \n",
    "    labels = np.unique(Y) #get unique labels\n",
    "        \n",
    "    for label in labels:\n",
    "        p[str(label)] = np.count_nonzero(Y == label) / np.float(M)\n",
    "    \n",
    "    return p"
   ]
  },
  {
   "cell_type": "code",
   "execution_count": 28,
   "metadata": {},
   "outputs": [
    {
     "name": "stdout",
     "output_type": "stream",
     "text": [
      "0.271 0.729\n"
     ]
    }
   ],
   "source": [
    "X_C1 = X[np.squeeze(Y==0)]\n",
    "X_C2 = X[np.squeeze(Y==1)]\n",
    "\n",
    "media_C1 = np.mean(X_C1, axis=0)\n",
    "media_C2 = np.mean(X_C2, axis=0)\n",
    "varianza_C1 = np.var(X_C1, axis=0, ddof=1)\n",
    "varianza_C2 = np.var(X_C2, axis=0, ddof=1)\n",
    "\n",
    "x = np.array([1.5, 2.3])\n",
    "\n",
    "p_C = prior(Y)\n",
    "\n",
    "p_x_C1 = gaussian_likelihood(media_C1, varianza_C1, x)\n",
    "p_x_C2 = gaussian_likelihood(media_C2, varianza_C2, x)\n",
    "\n",
    "posterior_C1_x = p_C[\"0\"] * p_x_C1\n",
    "posterior_C2_x = p_C[\"1\"] * p_x_C2\n",
    "\n",
    "prob_C1 = np.round(posterior_C1_x / (posterior_C1_x + posterior_C2_x), 3)\n",
    "prob_C2 = np.round(posterior_C2_x / (posterior_C1_x + posterior_C2_x), 3)\n",
    "\n",
    "print prob_C1, prob_C2"
   ]
  },
  {
   "cell_type": "code",
   "execution_count": 15,
   "metadata": {},
   "outputs": [],
   "source": [
    "def vect_euclidean_dist(x_i, x_j):\n",
    "    \"\"\"\n",
    "    Implements a euclidean distance between two arrays.\n",
    "    Arrays must be two-dimensional\n",
    "\n",
    "    Arguments:\n",
    "    x_i -- array i\n",
    "    x_j -- array j (can be a matrix)\n",
    "\n",
    "    Returns:\n",
    "    euclidean distance\n",
    "    \"\"\"\n",
    "    return np.sqrt(np.sum((x_i - x_j)**2, axis=1))"
   ]
  },
  {
   "cell_type": "code",
   "execution_count": 37,
   "metadata": {},
   "outputs": [],
   "source": [
    "def k_nearest_neighbor(x_i, X, k):\n",
    "    \"\"\"\n",
    "    Implements a k-NN classifier using euclidean distance.\n",
    "\n",
    "    Arguments:\n",
    "    x_i -- array i\n",
    "    X -- two-dimensional array containing training samples features\n",
    "    k -- number of neighbors\n",
    "\n",
    "    Returns:\n",
    "    array of indexes of nearest neighbors\n",
    "    \"\"\"\n",
    "    distances = vect_euclidean_dist(x_i, X)\n",
    "    ordered_index = np.argsort(distances)\n",
    "    nearest_index = ordered_index[0:k]\n",
    "    \n",
    "    print np.round(distances[ordered_index], 3)\n",
    "    \n",
    "    return nearest_index"
   ]
  },
  {
   "cell_type": "code",
   "execution_count": 38,
   "metadata": {},
   "outputs": [
    {
     "name": "stdout",
     "output_type": "stream",
     "text": [
      "[1.169 1.243 1.69  1.699 1.899 2.045 2.091 2.136 2.143 2.341 2.491 2.568\n",
      " 3.396 3.481 4.023]\n"
     ]
    }
   ],
   "source": [
    "neigh = k_nearest_neighbor(x, X, k=3)"
   ]
  },
  {
   "cell_type": "code",
   "execution_count": 39,
   "metadata": {},
   "outputs": [
    {
     "name": "stdout",
     "output_type": "stream",
     "text": [
      "[[0]\n",
      " [1]\n",
      " [0]]\n"
     ]
    }
   ],
   "source": [
    "print (Y[neigh])"
   ]
  },
  {
   "cell_type": "code",
   "execution_count": null,
   "metadata": {},
   "outputs": [],
   "source": []
  }
 ],
 "metadata": {
  "kernelspec": {
   "display_name": "Python 2",
   "language": "python",
   "name": "python2"
  },
  "language_info": {
   "codemirror_mode": {
    "name": "ipython",
    "version": 2
   },
   "file_extension": ".py",
   "mimetype": "text/x-python",
   "name": "python",
   "nbconvert_exporter": "python",
   "pygments_lexer": "ipython2",
   "version": "2.7.15"
  }
 },
 "nbformat": 4,
 "nbformat_minor": 2
}
