{
 "cells": [
  {
   "cell_type": "markdown",
   "metadata": {},
   "source": [
    " <img src=\"res/itm_logo.jpg\" width=\"300px\">\n",
    "\n",
    "## Inteligencia Artificial - IAI84\n",
    "### Instituto Tecnológico Metropolitano\n",
    "#### Pedro Atencio Ortiz - 2018"
   ]
  },
  {
   "cell_type": "markdown",
   "metadata": {},
   "source": [
    "<hr>\n",
    "## 1. Introduction \n",
    "<hr>\n",
    "## ¿What is about?\n",
    "### Are numeric and patterns processing the same?\n",
    "<ul>\n",
    "<li>\n",
    "<h2>$$\\int_{-1}^{1} \\frac{e^{x}-e^{-x}}{e^{x}+e^{-x}} dx$$</h2>\n",
    "<center>Can we solve this equation in our heads?</center>\n",
    "</li>\n",
    "<li>\n",
    "<img src=\"res/gestalt.jpg\" width=\"200px\">\n",
    "<center>How many triangles are there?</center>\n",
    "</li>\n",
    "</ul>\n",
    "\n",
    "### Some points\n",
    "<ul>\n",
    "    <li><b>Thinking, perception and action</b></li>\n",
    "    <li><b>Models</b></li>\n",
    "    <li><b>Representations</b></li>\n",
    "<img src=\"res/WoGoCa.jpg\" width=\"400px\">\n",
    "<br>\n",
    "The fox, goose and bag of beans puzzle, in which a farmer must transport a fox, goose and bag of beans from one side of a river to another using a boat which can only hold one item in addition to the farmer, subject to the constraints that the fox cannot be left alone with the goose, and the goose cannot be left alone with the beans. Equivalent puzzles have also been stated involving a fox, chicken, and bag of grain, or a wolf, goat, and cabbage, etc. <b><i>Can we propose a strategy to solve this problem?</i></b>\n",
    "<br>\n",
    "    <li><b>Constraints</b></li>\n",
    "    <li><b>Algorithms</b></li>\n",
    "</ul>"
   ]
  },
  {
   "cell_type": "markdown",
   "metadata": {},
   "source": [
    "<hr>\n",
    "### Timeline\n",
    "<img src=\"res/timeline.png\" width=\"600px\">\n",
    "<br>\n",
    "<img src=\"res/timeline_2.png\" width=\"600px\">\n",
    "<center><i>Tomado de AIMA the Book.</i></center>"
   ]
  },
  {
   "cell_type": "markdown",
   "metadata": {},
   "source": [
    "<hr>\n",
    "### Research branchs\n",
    "<img src=\"res/branchs.png\" width=\"600px\">"
   ]
  },
  {
   "cell_type": "markdown",
   "metadata": {},
   "source": [
    "<hr>\n",
    "### Pioneers\n",
    "<br>\n",
    "#### Alan Turing\n",
    "<img src=\"res/alan_turing.png\" width=\"600px\">\n",
    "<br>\n",
    "Classical Paper: Computing Machinery and Intelligence <a href=\"http://www.loebner.net/Prizef/TuringArticle.html\"> link </a>\n",
    "<hr>\n",
    "#### John Mccarthy\n",
    "<img src=\"res/john_mccarthy.png\">\n",
    "<hr>\n",
    "#### Marvin Minsky\n",
    "<img src=\"res/marvin_minsky.png\" width=\"600px\">\n",
    "<hr>\n",
    "#### Noam Chomsky\n",
    "<img src=\"res/noam_chomsky.png\" width=\"700px\">\n",
    "<hr>\n",
    "#### Yoshua Bengio\n",
    "<a href=\"http://www.iro.umontreal.ca/~bengioy/yoshua_en/\"><img src=\"res/yoshua_bengio.png\"></a>\n",
    "<br>\n",
    "Classical book: Deep Learning <a href=\"http://www.deeplearningbook.org/\"> link </a>\n",
    "<br>\n",
    "Classical Paper: Gradient-based learning applied to document recognition <a href=\"http://ieeexplore.ieee.org/document/726791/\"> link </a>\n",
    "<hr>\n",
    "#### Geoffrey Hinton\n",
    "<a href=\"https://research.google.com/pubs/GeoffreyHinton.html\"><img src=\"res/geoffrey_hinton.png\"></a>\n",
    "<br>\n",
    "Autoencoders: <a href=\"https://www.cs.toronto.edu/~hinton/science.pdf\"> link </a>\n",
    "<br>\n",
    "Classical Paper: ImageNet Classification with Deep Convolutional Neural Networks <a href=\"https://papers.nips.cc/paper/4824-imagenet-classification-with-deep-convolutional-neural-networks.pdf\"> link </a>\n",
    "<hr>\n",
    "#### Fei-Fei Li\n",
    "<a href=\"http://vision.stanford.edu/people.html\"><img src=\"res/feifei_li.png\" width=\"700px\"></a>\n",
    "<br>\n",
    "Disruptive Research: <a href=\"http://image-net.org/about-overview\"> link </a>\n",
    "<br>\n",
    "Classical Paper: ImageNet: A Large-Scale Hierarchical Image Database <a href=\"http://www.image-net.org/papers/imagenet_cvpr09.pdf\"> link </a>\n"
   ]
  },
  {
   "cell_type": "markdown",
   "metadata": {},
   "source": [
    "<hr>\n",
    "### Advances\n",
    "<a href=\"https://openai.com/\">OpenAI:</a> OpenAI's mission is to build safe AGI, and ensure AGI's benefits are as widely and evenly distributed as possible. We expect AI technologies to be hugely impactful in the short term, but their impact will be outstripped by that of the first AGIs.</li>\n",
    "<a href=\"https://universe.openai.com/\"><img src=\"res/openai_universe.png\"></a>\n",
    "<hr>\n",
    "<a href=\"https://azure.microsoft.com/en-us/services/cognitive-services/\">MS Cognitive Services:</a> Microsoft Cognitive Services let you build apps with powerful algorithms to see, hear, speak, understand and interpret our needs using natural methods of communication, with just a few lines of code. Easily add intelligent features – such as emotion and sentiment detection, vision and speech recognition, language understanding, knowledge and search – into your app, across devices and platforms such as iOS, Android, and Windows, keep improving, and are easy to set up.</li>\n",
    "<a href=\"https://azure.microsoft.com/en-us/services/cognitive-services/text-analytics/\"><img src=\"res/text_analytics.png\"></a>\n",
    "<hr>\n",
    "#### Kaggle: \n",
    "Kaggle helps you learn, work, and play!\n",
    "<a href=\"https://www.kaggle.com/c/dogs-vs-cats\"><img src=\"res/kaggle.png\"></a>"
   ]
  },
  {
   "cell_type": "markdown",
   "metadata": {
    "collapsed": true
   },
   "source": [
    "### Frontiers\n",
    "### Is it beauty exclusive for humans?\n",
    "<a href=\"https://arxiv.org/pdf/1703.07511.pdf\"><img src=\"res/deep_style.png\" width=\"500px\"></a>\n",
    "### Deep Art\n",
    "<a href=\"https://deepart.io/latest/\"><img src=\"res/deep_art.png\" width=\"500px\"></a>\n",
    "### Musical composition\n",
    "<a href=\"https://www.youtube.com/watch?v=LSHZ_b05W7o\"><img src=\"res/ai_song.png\" width=\"500px\"></a>"
   ]
  },
  {
   "cell_type": "code",
   "execution_count": null,
   "metadata": {
    "collapsed": true
   },
   "outputs": [],
   "source": []
  }
 ],
 "metadata": {
  "kernelspec": {
   "display_name": "Python 2",
   "language": "python",
   "name": "python2"
  },
  "language_info": {
   "codemirror_mode": {
    "name": "ipython",
    "version": 2
   },
   "file_extension": ".py",
   "mimetype": "text/x-python",
   "name": "python",
   "nbconvert_exporter": "python",
   "pygments_lexer": "ipython2",
   "version": "2.7.12"
  }
 },
 "nbformat": 4,
 "nbformat_minor": 2
}
