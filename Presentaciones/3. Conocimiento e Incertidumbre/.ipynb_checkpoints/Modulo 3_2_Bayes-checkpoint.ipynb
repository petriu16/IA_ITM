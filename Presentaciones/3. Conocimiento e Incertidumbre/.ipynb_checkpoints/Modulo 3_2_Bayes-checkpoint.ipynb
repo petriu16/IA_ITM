{
 "cells": [
  {
   "cell_type": "markdown",
   "metadata": {},
   "source": [
    " <img src=\"res/itm_logo.jpg\" width=\"300px\">\n",
    "\n",
    "## Inteligencia Artificial - IAI84\n",
    "### Instituto Tecnológico Metropolitano\n",
    "#### Pedro Atencio Ortiz - 2017\n",
    "\n",
    "## Módulo 3: Conocimiento e incertidumbre\n",
    "<br>\n",
    "<font size=4>\n",
    "<ul>\n",
    "<li>3.1. Inferencia Bayesiana</li>\n",
    "<br>\n",
    "<li>3.2. Lógica Difusa</li>\n",
    "</ul>\n",
    "</font>"
   ]
  },
  {
   "cell_type": "markdown",
   "metadata": {
    "collapsed": true
   },
   "source": [
    "<hr>\n",
    "## El problema de la incertidumbre\n",
    "Consideremos el siguiente ejemplo: Diagnosticar el dolor dental de un paciente. Si quisieramos crear una pequeña aplicación para el problema del diagnóstico dental:\n",
    "<ul>\n",
    "    <li>$DolorDiente \\Rightarrow Cavidad$ <font color=\"red\" size=5>?</font></li>\n",
    "    <li>$DolorDiente \\Rightarrow Cavidad \\vee ProblemaEncia \\vee Acceso... $ <font color=\"red\" size=5>?</font></li></li>\n",
    "    <li>$Cavidad \\Rightarrow DolorDiente$ <font color=\"red\" size=5>?</font></li></li>\n",
    "</ul>\n",
    "<br>\n",
    "<font size=5 color=\"blue\"><center><i>Utilizar la lógica proposicional (tradicional) ante problemas con incertidumbre, resulta una tarea casi imposible.</i></center></font>\n",
    "<ul>\n",
    "    <li>La tarea de gererar diagnósticos, sea en medicina, mecánica, seguros de riesgo, etc. casi siempre implica manejar incetidumbre.</li>\n",
    "    <li>Asignar un seguro médico a un paciente de acuerdo a su condición médica es un caso similar?</li>\n",
    "    <li>Estimar la calidad de un desarrollador de software de acuerdo a distintas métricas como número de errores por hora o líneas de código por hora, es un caso similar?</li>\n",
    "</ul>"
   ]
  },
  {
   "cell_type": "markdown",
   "metadata": {},
   "source": [
    "<hr>\n",
    "# 3.1.: Inferencia Bayesiana\n",
    "<img src=\"res/bayesian_cartoon.png\" width=\"600px\">"
   ]
  },
  {
   "cell_type": "code",
   "execution_count": null,
   "metadata": {
    "collapsed": true
   },
   "outputs": [],
   "source": []
  }
 ],
 "metadata": {
  "kernelspec": {
   "display_name": "Python 2",
   "language": "python",
   "name": "python2"
  },
  "language_info": {
   "codemirror_mode": {
    "name": "ipython",
    "version": 2
   },
   "file_extension": ".py",
   "mimetype": "text/x-python",
   "name": "python",
   "nbconvert_exporter": "python",
   "pygments_lexer": "ipython2",
   "version": "2.7.13"
  }
 },
 "nbformat": 4,
 "nbformat_minor": 2
}
