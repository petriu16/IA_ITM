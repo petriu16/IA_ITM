{
 "cells": [
  {
   "cell_type": "markdown",
   "metadata": {},
   "source": [
    "<img src=\"res/itm_logo.jpg\" width=\"300px\">\n",
    "\n",
    "## Inteligencia Artificial - IAI84\n",
    "### Instituto Tecnológico Metropolitano\n",
    "#### Pedro Atencio Ortiz - 2018\n",
    "\n",
    "<font size=1>Parte de este material es autoría del profesor Cristian Guarnizo de la Universidad Tecnológica de Pereira. A él damos créditos.</font>\n",
    "\n",
    "En este notebook se aborda el tema de lógica difusa utilizando códigos ejecutables en Python:\n",
    "<ul>\n",
    "    <li>Conjuntos difusos.</li>\n",
    "    <li>Funciones de pertenencia.</li>\n",
    "     <li>Variable difusa.</li>\n",
    "    <li>Fusificación (emborrosamiento).</li>\n",
    "    <li>Base de reglas.</li>\n",
    "    <li>Operadores difusos.</li>\n",
    "    <li>Desfusificación.</li>\n",
    "</ul>"
   ]
  },
  {
   "cell_type": "markdown",
   "metadata": {},
   "source": [
    "<hr>\n",
    "## Módulo 3_1: Logica Difusa\n",
    "<img src=\"res/fuzzy/fuzzy.gif\" width=\"400px\">"
   ]
  },
  {
   "cell_type": "markdown",
   "metadata": {
    "collapsed": true
   },
   "source": [
    "<hr>\n",
    "<font size=3>\n",
    "En términos reducidos, la lógica borrosa es un tipo de lógica que permite valores imprecisos (intermedios) para poder definir evaluaciones convencionales entre sí/no, verdadero/falso, negro/blanco, etc.</font>\n",
    "\n",
    "<br>\n",
    "<center><font size=5 color=\"blue\">\"El poder de la lógica difusa radica en que se puede analizar un sistema utilizando variables lingüísticas\" [5].</font></center>\n"
   ]
  },
  {
   "cell_type": "markdown",
   "metadata": {},
   "source": [
    "<hr>\n",
    "## Conjunto Booleano\n",
    "En el algebra de Boole(George Boole) las variables toman valores falso/verdadero $(0,1)$.  Definamos un conjunto $A=[3,5]$ y $x \\in \\left \\{ 0,7 \\right \\}$.  Los valores de x que pertenecen a A reciben valor verdadero (1). \n",
    "\n",
    "<img src=\"res/fuzzy/boolean_set.png\" width=400>\n",
    "\n",
    "Por ejemplo, para el caso de la variable temperatura, si quisiermos definir los valores temperatura baja, media y alta, utilizando lógica booleana, tendríamos:\n",
    "\n",
    "<img src=\"res/fuzzy/boolean_temperature.png\" width=400>\n",
    "\n",
    "En el ejemplo anterior, un elemento (valor de temperatura) tiene un grado de pertenencia a un conjunto o grupo, entonces, <font color=\"red\">¿A los 15 grados Celsius la temperatura es baja y repentinamente a los 16 es media?</font>"
   ]
  },
  {
   "cell_type": "code",
   "execution_count": 3,
   "metadata": {
    "collapsed": true
   },
   "outputs": [],
   "source": [
    "\"\"\"\n",
    "Implements a Boolean set.\n",
    "\n",
    "Arguments:\n",
    "x_domain -- domain of variable x (array)\n",
    "x_set -- tuple of values that represents the set within domain of x\n",
    "\n",
    "Returns:\n",
    "parameters -- boolean (True, False) list of values inside x_set\n",
    "\"\"\"\n",
    "import numpy as np\n",
    "\n",
    "def boolean_set(x_domain, x_set):\n",
    "    val = np.logical_and(x_domain >= x_set[0], x_domain <= x_set[1])\n",
    "    return val"
   ]
  },
  {
   "cell_type": "markdown",
   "metadata": {},
   "source": [
    "Grafiquemos algunos conjuntos Booleanos para una variable $x$ en el rango 0, 10"
   ]
  },
  {
   "cell_type": "code",
   "execution_count": 9,
   "metadata": {
    "collapsed": false
   },
   "outputs": [
    {
     "data": {
      "image/png": "[encoded data removed]",
      "text/plain": [
       "<matplotlib.figure.Figure at 0x7f3399f5bc10>"
      ]
     },
     "metadata": {},
     "output_type": "display_data"
    }
   ],
   "source": [
    "import matplotlib.pyplot as plt\n",
    "\n",
    "limit1 = 0\n",
    "limit2 = 100\n",
    "domain = np.linspace(limit1, limit2, 500)\n",
    "\n",
    "menor = (0.1,12)\n",
    "bool_set_1 = boolean_set(domain,menor)\n",
    "\n",
    "adolescente = (13,17)\n",
    "bool_set_2 = boolean_set(domain,adolescente)\n",
    "\n",
    "adulto = (18,90)\n",
    "bool_set_3 = boolean_set(domain,adulto)\n",
    "\n",
    "plt.fill(domain, bool_set_1)\n",
    "plt.fill(domain, bool_set_2)\n",
    "plt.fill(domain, bool_set_3)\n",
    "\n",
    "\n",
    "plt.title(\"Three Boolean sets for variable x\")\n",
    "plt.show()"
   ]
  },
  {
   "cell_type": "code",
   "execution_count": 2,
   "metadata": {
    "collapsed": false
   },
   "outputs": [
    {
     "name": "stdout",
     "output_type": "stream",
     "text": [
      "[  0.           2.22222222   4.44444444   6.66666667   8.88888889\n",
      "  11.11111111  13.33333333  15.55555556  17.77777778  20.        ]\n"
     ]
    }
   ],
   "source": [
    "import numpy as np\n",
    "\n",
    "rango = np.linspace(0,20, 10)\n",
    "print rango"
   ]
  },
  {
   "cell_type": "markdown",
   "metadata": {},
   "source": [
    "<hr>\n",
    "## <font color=\"red\"> Trabajemos!</font>\n",
    "Implemente los conjuntos Booleanos que definen la mayoría de edad de una persona en Colombia."
   ]
  },
  {
   "cell_type": "markdown",
   "metadata": {},
   "source": [
    "<hr>\n",
    "## Conjunto difuso ($\\mu$)\n",
    "\n",
    "En un conjunto difuso, los grados de pertenencia son continuos y no binarios (falso, verdadero), de forma tal que una variable puede pertenecer en distinto grado a varios conjuntos. \n",
    "\n",
    "En el siguiente ejemplo definimos tres conjuntos difusos $\\mu_{baja}, \\mu_{media}$ y $\\mu_{alta}$, para la variable temperatura, en el rango [0, 45] grados centigrados.\n",
    "\n",
    "<img src=\"res/fuzzy/fuzzy_set.png\">\n",
    "\n",
    "En el caso anterior, <font color=\"red\">¿un valor de temperatura igual a 17 grados será baja o media?</font>"
   ]
  },
  {
   "cell_type": "markdown",
   "metadata": {
    "collapsed": true
   },
   "source": [
    "<hr>\n",
    "## Funciones de pertenencia\n",
    "\n",
    "Un conjunto difuso $\\mu$ se define mediante una función de pertenencia. Dicha función define la forma en que se distribuye la pertenencia de una variable $x$ a un conjunto $S$ cambia. A continuación, algunas funciones de pertenencia y su definición algebraica:\n",
    "\n",
    "<img src=\"res/fuzzy/functions.png\">\n",
    "\n",
    "Dependiendo de la naturaleza de la variable que se estudia, se define el número de conjuntos difusos y la función de pertenencia de cada uno."
   ]
  },
  {
   "cell_type": "markdown",
   "metadata": {},
   "source": [
    "<hr>\n",
    "## <font color=\"red\">Trabajemos!</font>\n",
    "Defina los conjuntos difusos para la variable edad, respecto a las categorías infante, adolescente, adulto, cenil."
   ]
  },
  {
   "cell_type": "markdown",
   "metadata": {},
   "source": [
    "<hr>\n",
    "## Variable difusa ($x_{fuzzy}$)\n",
    "\n",
    "Una variable difusa está conformada por los valores de pertencia de dicha variable respecto a cada conjunto. Entonces, la variable temperatura que estudiamos anteriormente se define como:\n",
    "\n",
    "<br>\n",
    "<center><font size=5>$t_{fuzzy}=[\\mu_{baja}(t), \\mu_{media}(t), \\mu_{alta}(t)]$</font></center>\n",
    "\n",
    "<img src=\"res/fuzzy/fuzzy_set.png\">\n"
   ]
  },
  {
   "cell_type": "markdown",
   "metadata": {},
   "source": [
    "<hr>\n",
    "## Fusificación\n",
    "\n",
    "Esta operación consiste en transformar una variable normal (crisp) en una variable fuzzy. Para ello, se aplica calcula por cada conjunto difuso, el grado de pertenencia de dicha variable.  Por ejemplo para el caso de la temperatura, supongamos el caso $t=10$, entonces:\n",
    "\n",
    "<br>\n",
    "<font size=4>\n",
    "<ul>\n",
    "    <li>$\\mu_{baja}(t) = 1$</li>\n",
    "    <li>$\\mu_{media}(t) = 0$</li>\n",
    "    <li>$\\mu_{alta}(t) = 0$</li>\n",
    "</ul>\n",
    "\n",
    "<center>Por lo tanto <font color=\"red\">$t_{fuzzy}=[1,0,0]$</font></center>\n",
    "</font>"
   ]
  },
  {
   "cell_type": "code",
   "execution_count": 11,
   "metadata": {
    "collapsed": false
   },
   "outputs": [
    {
     "name": "stdout",
     "output_type": "stream",
     "text": [
      "17\n"
     ]
    }
   ],
   "source": [
    "diccionario = {\"menor\":17, \"mayor\":20}\n",
    "\n",
    "print(diccionario[\"menor\"])"
   ]
  },
  {
   "cell_type": "code",
   "execution_count": 12,
   "metadata": {
    "collapsed": true
   },
   "outputs": [],
   "source": [
    "\"\"\"\n",
    "Implements a membership function.\n",
    "\n",
    "Arguments:\n",
    "x -- crisp variable\n",
    "membership_function -- string with the name of membership function: \"trapezoid\", \"triangular\"\n",
    "parameters -- dictionary of parameters for membership function\n",
    "\n",
    "Returns:\n",
    "m_x -- float membership of x with respect to memebership_function\n",
    "\"\"\"\n",
    "import numpy as np\n",
    "\n",
    "def membership(x, membership_function, parameters):\n",
    "    m_x = 0\n",
    "    \n",
    "    if(membership_function == \"trapezoid\"):\n",
    "        a = float(parameters[\"a\"])\n",
    "        b = float(parameters[\"b\"])\n",
    "        c = float(parameters[\"c\"])\n",
    "        d = float(parameters[\"d\"])\n",
    "        \n",
    "        if(x <= a or x >= d):\n",
    "            m_x = 0\n",
    "        elif(x >= a and x <= b):\n",
    "            m_x = (x-a)/(b-a)\n",
    "        elif(x > b and x < c):\n",
    "            m_x = 1\n",
    "        elif(x >= c and x < d):\n",
    "            m_x = (d-x)/(d-c)\n",
    "            \n",
    "    \n",
    "    elif(membership_function == \"triangular\"):\n",
    "        a = float(parameters[\"a\"])\n",
    "        m = float(parameters[\"m\"])\n",
    "        b = float(parameters[\"b\"])\n",
    "        \n",
    "        if(x <= a):\n",
    "            m_x = 0\n",
    "        elif(x > a and x <= m):\n",
    "            m_x = (x-a)/(m-a)\n",
    "        elif(x > m and x < b):\n",
    "            m_x = (b-x)/(b-m)\n",
    "        else:\n",
    "            m_x = 0\n",
    "    \n",
    "    return m_x"
   ]
  },
  {
   "cell_type": "markdown",
   "metadata": {},
   "source": [
    "## <font color=\"red\">Trabajemos!</font>\n",
    "Utilizando las funciones de pertenencia implementadas, fusificar la variable $temperatura=16.7 \\in T$:"
   ]
  },
  {
   "cell_type": "code",
   "execution_count": 14,
   "metadata": {
    "collapsed": false
   },
   "outputs": [
    {
     "name": "stdout",
     "output_type": "stream",
     "text": [
      "temperatura fuzzy:  [0.6600000000000001, 0.26153846153846144, 0]\n"
     ]
    }
   ],
   "source": [
    "#Completar: aproximadamente 3 lineas de codigo\n",
    "parameters_conjunto_baja = {\"a\":0, \"b\":0, \"c\":15, \"d\":20}\n",
    "parameters_conjunto_media = {\"a\":15, \"m\":21.5, \"b\":27.5}\n",
    "parameters_conjunto_alta = {\"a\":21.5, \"b\":27.5, \"c\":40, \"d\":40}\n",
    "\n",
    "t = 16.7\n",
    "\n",
    "#completar: aproximadamente 3 lineas de codigo\n",
    "miu_baja = membership(t, \"trapezoid\", parameters_conjunto_baja)\n",
    "miu_media = membership(t, \"triangular\", parameters_conjunto_media)\n",
    "miu_alta = membership(t, \"trapezoid\", parameters_conjunto_alta)\n",
    "\n",
    "#completar la lista de pertenencias\n",
    "t_fuzzy = [miu_baja, miu_media, miu_alta]\n",
    "\n",
    "print \"temperatura fuzzy: \", t_fuzzy"
   ]
  },
  {
   "cell_type": "markdown",
   "metadata": {},
   "source": [
    "<hr>\n",
    "### Obtengamos y visualicemos todo el conjunto fuzzy utilizando la función anterior"
   ]
  },
  {
   "cell_type": "code",
   "execution_count": 19,
   "metadata": {
    "collapsed": false
   },
   "outputs": [
    {
     "data": {
      "image/png": "[encoded data removed]",
      "text/plain": [
       "<matplotlib.figure.Figure at 0x7f339a150850>"
      ]
     },
     "metadata": {},
     "output_type": "display_data"
    }
   ],
   "source": [
    "resolucion = 100\n",
    "T = np.linspace(0, 30, resolucion)\n",
    "\n",
    "#utilicemos comprehension de python para generar todo el vector del conjunto fuzzy\n",
    "conjunto_baja = np.array([membership(t, \"trapezoid\", parameters_conjunto_baja) for t in T])\n",
    "\n",
    "plt.plot(T, conjunto_baja)\n",
    "plt.show()"
   ]
  },
  {
   "cell_type": "code",
   "execution_count": 18,
   "metadata": {
    "collapsed": false
   },
   "outputs": [
    {
     "name": "stdout",
     "output_type": "stream",
     "text": [
      "[  0.           0.3030303    0.60606061   0.90909091   1.21212121\n",
      "   1.51515152   1.81818182   2.12121212   2.42424242   2.72727273\n",
      "   3.03030303   3.33333333   3.63636364   3.93939394   4.24242424\n",
      "   4.54545455   4.84848485   5.15151515   5.45454545   5.75757576\n",
      "   6.06060606   6.36363636   6.66666667   6.96969697   7.27272727\n",
      "   7.57575758   7.87878788   8.18181818   8.48484848   8.78787879\n",
      "   9.09090909   9.39393939   9.6969697   10.          10.3030303\n",
      "  10.60606061  10.90909091  11.21212121  11.51515152  11.81818182\n",
      "  12.12121212  12.42424242  12.72727273  13.03030303  13.33333333\n",
      "  13.63636364  13.93939394  14.24242424  14.54545455  14.84848485\n",
      "  15.15151515  15.45454545  15.75757576  16.06060606  16.36363636\n",
      "  16.66666667  16.96969697  17.27272727  17.57575758  17.87878788\n",
      "  18.18181818  18.48484848  18.78787879  19.09090909  19.39393939\n",
      "  19.6969697   20.          20.3030303   20.60606061  20.90909091\n",
      "  21.21212121  21.51515152  21.81818182  22.12121212  22.42424242\n",
      "  22.72727273  23.03030303  23.33333333  23.63636364  23.93939394\n",
      "  24.24242424  24.54545455  24.84848485  25.15151515  25.45454545\n",
      "  25.75757576  26.06060606  26.36363636  26.66666667  26.96969697\n",
      "  27.27272727  27.57575758  27.87878788  28.18181818  28.48484848\n",
      "  28.78787879  29.09090909  29.39393939  29.6969697   30.        ]\n",
      "[ 0.          1.          1.          1.          1.          1.          1.\n",
      "  1.          1.          1.          1.          1.          1.          1.\n",
      "  1.          1.          1.          1.          1.          1.          1.\n",
      "  1.          1.          1.          1.          1.          1.          1.\n",
      "  1.          1.          1.          1.          1.          1.          1.\n",
      "  1.          1.          1.          1.          1.          1.          1.\n",
      "  1.          1.          1.          1.          1.          1.          1.\n",
      "  1.          0.96969697  0.90909091  0.84848485  0.78787879  0.72727273\n",
      "  0.66666667  0.60606061  0.54545455  0.48484848  0.42424242  0.36363636\n",
      "  0.3030303   0.24242424  0.18181818  0.12121212  0.06060606  0.          0.\n",
      "  0.          0.          0.          0.          0.          0.          0.\n",
      "  0.          0.          0.          0.          0.          0.          0.\n",
      "  0.          0.          0.          0.          0.          0.          0.\n",
      "  0.          0.          0.          0.          0.          0.          0.\n",
      "  0.          0.          0.          0.        ]\n"
     ]
    }
   ],
   "source": [
    "print T\n",
    "print conjunto_baja"
   ]
  },
  {
   "cell_type": "markdown",
   "metadata": {},
   "source": [
    "<hr>\n",
    "Creemos una función que permita generar el conjunto fuzzy de una variable X, dada la variable $X$, el tipo de conjunto fuzzy y sus parametros. <b>Esta función será de utilidad posteriormente.</b>"
   ]
  },
  {
   "cell_type": "code",
   "execution_count": 21,
   "metadata": {
    "collapsed": true
   },
   "outputs": [],
   "source": [
    "def generate_fuzzy_set(X, membership_function, parameters):\n",
    "    fuzzy_set = np.array([membership(x, membership_function, parameters) for x in X])\n",
    "    return fuzzy_set"
   ]
  },
  {
   "cell_type": "markdown",
   "metadata": {},
   "source": [
    "<hr>\n",
    "### Grafiquemos todos los conjuntos fuzzy de la variable $T$\n",
    "Utilicemos para ello la funcion generate_fuzzy_set"
   ]
  },
  {
   "cell_type": "code",
   "execution_count": 22,
   "metadata": {
    "collapsed": false
   },
   "outputs": [
    {
     "data": {
      "image/png": "[encoded data removed]",
      "text/plain": [
       "<matplotlib.figure.Figure at 0x7f339a0e6710>"
      ]
     },
     "metadata": {},
     "output_type": "display_data"
    }
   ],
   "source": [
    "params_conjunto_baja = {\"a\":0, \"b\":0, \"c\":15, \"d\":20}\n",
    "params_conjunto_media = {\"a\":15, \"m\":22.5, \"b\":27.5}\n",
    "params_conjunto_alta = {\"a\":22.5, \"b\":30, \"c\":45, \"d\":45}\n",
    "\n",
    "resolucion = 1000\n",
    "T = np.linspace(0, 50, resolucion)\n",
    "\n",
    "conjunto_baja = generate_fuzzy_set(T, \"trapezoid\", params_conjunto_baja)\n",
    "conjunto_media = generate_fuzzy_set(T, \"triangular\", params_conjunto_media)\n",
    "conjunto_alta = generate_fuzzy_set(T, \"trapezoid\", params_conjunto_alta)\n",
    "\n",
    "plt.plot(T,conjunto_baja, 'r')\n",
    "plt.plot(T,conjunto_media, 'g')\n",
    "plt.plot(T,conjunto_alta, 'b')\n",
    "plt.show()"
   ]
  },
  {
   "cell_type": "markdown",
   "metadata": {
    "collapsed": true
   },
   "source": [
    "## <font color=\"red\">Trabajemos!</font>\n",
    "Implementar una función generica fusificacion que calcule automáticamente la fusificación de una variable x respecto a n conjuntos difusos:"
   ]
  },
  {
   "cell_type": "code",
   "execution_count": 48,
   "metadata": {
    "collapsed": true
   },
   "outputs": [],
   "source": [
    "\"\"\"\n",
    "Implements a fuzzify function.\n",
    "\n",
    "Arguments:\n",
    "x -- crisp variable\n",
    "fuzzy_sets -- dictionary with next form: {\"set_name\":(membership_function, parameters)}\n",
    "    membership_function: string with the name of membership_function: \"trapezoid\", \"triangular\"\n",
    "    parameters -- dictionary of parameters for membership function\n",
    "\n",
    "Returns:\n",
    "f_x -- dictionary of membership values of x with respect to each set in fuzzy_sets (keys)\n",
    "\"\"\"\n",
    "def fuzzify(x, fuzzy_sets):\n",
    "    ##CODE HERE\n",
    "    #f_x = []\n",
    "    f_x = {} #lista de valores de pertenencia por cada conjunto difuso\n",
    "    \n",
    "    keys = fuzzy_sets.keys()\n",
    "    \n",
    "    for k in keys:\n",
    "        #CODE HERE: utilizar la funcion membership(x, membership_function, parameters)\n",
    "        #m = membership(x, fuzzy_sets[k]..., fuzzy_sets[k]...)\n",
    "        m = membership(x, fuzzy_sets[k][0], fuzzy_sets[k][1])\n",
    "        #f_x.append(k)\n",
    "        f_x[k]=m\n",
    "    \n",
    "    return f_x"
   ]
  },
  {
   "cell_type": "code",
   "execution_count": 45,
   "metadata": {
    "collapsed": true
   },
   "outputs": [],
   "source": [
    "lista = [1, \"hola\", 3]\n",
    "dic = {\"1\":1, \"a\":2}\n",
    "tupla = (1,2)"
   ]
  },
  {
   "cell_type": "markdown",
   "metadata": {},
   "source": [
    "Utilicemos la función genérica para fusificar la variable t=16.7 $\\in T$"
   ]
  },
  {
   "cell_type": "code",
   "execution_count": 46,
   "metadata": {
    "collapsed": false
   },
   "outputs": [
    {
     "name": "stdout",
     "output_type": "stream",
     "text": [
      "{'baja': 0.6600000000000001, 'media': 0.22666666666666657, 'alta': 0}\n"
     ]
    }
   ],
   "source": [
    "params_conjunto_baja = {\"a\":0, \"b\":0, \"c\":15, \"d\":20}\n",
    "params_conjunto_media = {\"a\":15, \"m\":22.5, \"b\":27.5}\n",
    "params_conjunto_alta = {\"a\":22.5, \"b\":30, \"c\":45, \"d\":45}\n",
    "\n",
    "funcion_baja = \"trapezoid\"\n",
    "funcion_media = \"triangular\"\n",
    "funcion_alta = \"trapezoid\"\n",
    "\n",
    "key_baja = \"baja\"\n",
    "key_media = \"media\"\n",
    "key_alta = \"alta\"\n",
    "\n",
    "t = 16.7\n",
    "fuzzy_sets = {key_baja:(funcion_baja, params_conjunto_baja), key_media:(funcion_media, params_conjunto_media), key_alta:(funcion_alta, params_conjunto_alta)}\n",
    "\n",
    "print(fuzzify(t, fuzzy_sets))"
   ]
  },
  {
   "cell_type": "code",
   "execution_count": 49,
   "metadata": {
    "collapsed": false,
    "scrolled": true
   },
   "outputs": [
    {
     "data": {
      "image/png": "[encoded data removed]",
      "text/plain": [
       "<matplotlib.figure.Figure at 0x7f3399c05c50>"
      ]
     },
     "metadata": {},
     "output_type": "display_data"
    },
    {
     "name": "stdout",
     "output_type": "stream",
     "text": [
      "('la variable concreta: ', 13, ' fue fusificada como: ', {'adulto': 0, 'adolescente': 0.25, 'infante': 0.75})\n"
     ]
    }
   ],
   "source": [
    "EDAD = np.linspace(0,50, 1000)\n",
    "edad = 13\n",
    "                   \n",
    "params_conjunto_infante = {\"a\":0, \"b\":0, \"c\":12, \"d\":16}\n",
    "params_conjunto_adolescente = {\"a\":12, \"m\":16, \"b\":21}\n",
    "params_conjunto_adulto = {\"a\":16, \"b\":21, \"c\":50, \"d\":50}\n",
    "\n",
    "funcion_infante = \"trapezoid\"\n",
    "funcion_adolescente = \"triangular\"\n",
    "funcion_adulto = \"trapezoid\"\n",
    "\n",
    "f_set_infante = generate_fuzzy_set(EDAD, funcion_infante, params_conjunto_infante)\n",
    "f_set_adolescente = generate_fuzzy_set(EDAD, funcion_adolescente, params_conjunto_adolescente)\n",
    "f_set_adulto = generate_fuzzy_set(EDAD, funcion_adulto, params_conjunto_adulto)\n",
    "\n",
    "plt.plot(EDAD, f_set_infante, 'r')\n",
    "plt.plot(EDAD, f_set_adolescente, 'g')\n",
    "plt.plot(EDAD, f_set_adulto, 'b')\n",
    "plt.show()\n",
    "\n",
    "conjunto_infante = \"infante\"\n",
    "conjunto_adolescente = \"adolescente\"\n",
    "conjunto_adulto = \"adulto\"\n",
    "\n",
    "diccionario_parametros = {conjunto_infante:(funcion_infante, params_conjunto_infante), conjunto_adolescente:(funcion_adolescente, params_conjunto_adolescente), conjunto_adulto:(funcion_adulto, params_conjunto_adulto)}\n",
    "\n",
    "\n",
    "edad_fuzzy = fuzzify(edad, diccionario_parametros)\n",
    "\n",
    "print(\"la variable concreta: \", edad, \" fue fusificada como: \", edad_fuzzy)"
   ]
  },
  {
   "cell_type": "code",
   "execution_count": 50,
   "metadata": {
    "collapsed": false
   },
   "outputs": [
    {
     "data": {
      "text/plain": [
       "0.25"
      ]
     },
     "execution_count": 50,
     "metadata": {},
     "output_type": "execute_result"
    }
   ],
   "source": [
    "edad_fuzzy[\"adolescente\"]"
   ]
  },
  {
   "cell_type": "markdown",
   "metadata": {},
   "source": [
    "<b>Salida esperada</b>: [0.6600000000000001, 0.22666666666666657, 0]"
   ]
  },
  {
   "cell_type": "markdown",
   "metadata": {},
   "source": [
    "<hr>\n",
    "## Base de reglas\n",
    "\n",
    "Estas reglas especifican el conocimiento del <font color=\"red\" size=3>experto humano</font> en forma de condicionales que utilizan los nombres de los conjuntos difusos que tienen las variables difusas. Es decir, estas reglas expresan la relación entre los valores lingüísticos de la entrada con respecto a la salida. \n",
    "\n",
    "Por ejemplo, utilizando este tipo de reglas y las variables difusas, podemos realizar preguntas en lenguaje natural, tales como: ¿Está la temperatura alta?\n",
    "\n",
    "Las reglas se construyen con instrucciones IF-THEN:\n",
    "\n",
    "<br>\n",
    "<center><font color=\"blue\" size=5>IF $x_1$ es \"bajo\" and $x_2$ es \"medio\" entonces $y$ es medio</font></center>\n",
    "\n",
    "Estas reglas requieres de operadores AND y OR especificamente diseñados para la lógica difusa."
   ]
  },
  {
   "cell_type": "markdown",
   "metadata": {},
   "source": [
    "<hr>\n",
    "## Operadores\n",
    "\n",
    "<img src=\"res/fuzzy/operators.png\">\n",
    "\n",
    "Dependiendo de la definición de las reglas, los antecedentes se pueden combinar con los operadores AND y OR, o cambiar su valor con la negación NOT.\n"
   ]
  },
  {
   "cell_type": "markdown",
   "metadata": {},
   "source": [
    "<hr>\n",
    "## Resolución de reglas y obtención de la salida\n",
    "\n",
    "La resolución de reglas se refiere a como se interpreta la regla desde la lógica difusa. El proceso es el siguiente:\n",
    "\n",
    "<ol>\n",
    "    <li>Seleccionar la pertenencia a la cuál hacen referencia los operandos de las reglas:</li>\n",
    "    <br>\n",
    "    <center><font color=\"blue\" size=5>If $\\mu_{bajo}(x_1)$ AND $\\mu_{medio}(x_2)$ entonces $Y_{bajo}$</font></center>\n",
    "    \n",
    "    <li>Resolver los operadores difusos del antecendente:</li>\n",
    "    <center><font color=\"blue\" size=5>$K_{r1}$ = AND($\\mu_{bajo}(x_1)$, $\\mu_{medio}(x_2))$</font></center>\n",
    "    \n",
    "    <li>Agrupar reglas con el mismo consecuente y aplicar operador OR:</li>\n",
    "    \n",
    "    <center><font color=\"red\" size=4> $A_{bajo} = $OR($K_{r1} \\in y_{bajo}$, $K_{r2} \\in y_{bajo}$,..., $K_{rn}\\in y_{bajo}$)</font></center>\n",
    "    <center><font color=\"red\" size=4> $A_{medio} = $OR($K_{r1} \\in y_{medio}$, $K_{r2} \\in y_{medio}$,..., $K_{rn}\\in y_{medio}$)</font></center>\n",
    "    <center><font color=\"red\" size=4> $A_{alto} = $OR($K_{r1} \\in y_{alto}$, $K_{r2} \\in y_{alto}$,..., $K_{rn}\\in y_{alto}$)</font></center>\n",
    "    \n",
    "    <li>Resolver el consecuente de la regla mediante implicación (MIN), para cada conjunto de la salida: </li>\n",
    "    <center><font color=\"blue\" size=5> $S_{bajo}$ = MIN($A_{bajo}$, $\\mu_{bajo}(y))$</font></center>\n",
    "    <center><font color=\"blue\" size=5> $S_{medio}$ = MIN($A_{medio}$, $\\mu_{medio}(y))$</font></center>\n",
    "    <center><font color=\"blue\" size=5> $S_{alto}$ = MIN($A_{alto}$, $\\mu_{alto}(y))$</font></center>\n",
    "    \n",
    "    <li>Obtener el área de respuesta aplicando mediante AGREGACION utilizando el operador MAX entre todos los resultados de las reglas ya implicadas.</li>\n",
    "     <center><font color=\"blue\" size=5> $Y_{fuzzy}$ = $MAX(S_{bajo}, S_{medio}, S_{alto} )$</font></center>\n",
    "    \n",
    "    <li>Obtener el valor final de la regla mediante DESFUSIFICACION.</li>\n",
    "    <center><font color=\"blue\" size=5> $salida$ = $desfusificacion(Y_{fuzzy})$</font></center>\n",
    "</ol>"
   ]
  },
  {
   "cell_type": "markdown",
   "metadata": {},
   "source": [
    "<hr>\n",
    "## 2. Resolver operador difuso"
   ]
  },
  {
   "cell_type": "code",
   "execution_count": 52,
   "metadata": {
    "collapsed": true
   },
   "outputs": [],
   "source": [
    "\"\"\"\n",
    "Implements Zadeh's Fuzzy Operators.\n",
    "\n",
    "Arguments:\n",
    "operator -- string with name of operator: \"AND\", \"OR\", \"NOT\"\n",
    "parameters -- dictionary with parameters of operator\n",
    "\n",
    "Returns:\n",
    "k -- operators value\n",
    "\"\"\"\n",
    "\n",
    "def fuzzy_operator(operator, parameters):\n",
    "    k = 0\n",
    "    if(operator == \"AND\"):\n",
    "        a = parameters[\"a\"]\n",
    "        b = parameters[\"b\"]\n",
    "        k = min(a, b)\n",
    "    elif(operator == \"OR\"):\n",
    "        a = parameters[\"a\"]\n",
    "        b = parameters[\"b\"]\n",
    "        k = max(a, b)\n",
    "    elif(operator == \"NOT\"):\n",
    "        a = parameters[\"a\"]\n",
    "        k = 1 - a\n",
    "    else:\n",
    "        print(\"Invalid operator.\")\n",
    "    \n",
    "    return k"
   ]
  },
  {
   "cell_type": "code",
   "execution_count": 56,
   "metadata": {
    "collapsed": false
   },
   "outputs": [
    {
     "name": "stdout",
     "output_type": "stream",
     "text": [
      "0.4\n"
     ]
    }
   ],
   "source": [
    "parameters = {\"a\": 0.6}\n",
    "print fuzzy_operator(\"NOT\", parameters)"
   ]
  },
  {
   "cell_type": "markdown",
   "metadata": {},
   "source": [
    "<hr>\n",
    "## 3. Agrupar reglas (mismo consecuente)\n",
    "\n",
    "Reglas que tengan un mismo consecuente, son agrupas como un solo valor utilizando el operador OR == MAX (ZADEH), debido a que por lógica tradicional si dos antecedentes conducen a un mismo consecuente, es lo mismo que un disyunción entre dichos antecedentes, es decir:\n",
    "\n",
    "<br>\n",
    "<center>si $a < b$ entonces $c$ y si $a < f$ entonces $c$ </center>\n",
    "\n",
    "entonces, es lo mismo que:\n",
    "<br>\n",
    "\n",
    "<center>si $a < b$ OR $a < f$ entonces $c$</center>"
   ]
  },
  {
   "cell_type": "code",
   "execution_count": 58,
   "metadata": {
    "collapsed": true
   },
   "outputs": [],
   "source": [
    "\"\"\"\n",
    "Implements common consecuent grouping.\n",
    "\n",
    "Arguments:\n",
    "rules -- list of values from resolved antecedents of rules with same consecuent\n",
    "\n",
    "Returns:\n",
    "val -- max from rules\n",
    "\"\"\"\n",
    "\n",
    "def fuzzy_group(rules):\n",
    "    val = np.max(rules)\n",
    "    return val"
   ]
  },
  {
   "cell_type": "code",
   "execution_count": 59,
   "metadata": {
    "collapsed": false
   },
   "outputs": [
    {
     "name": "stdout",
     "output_type": "stream",
     "text": [
      "0.6\n"
     ]
    }
   ],
   "source": [
    "r1 = 0.2\n",
    "r2 = 0.1\n",
    "r3 = 0.6\n",
    "\n",
    "rules = [r1,r2,r3]\n",
    "\n",
    "print fuzzy_group(rules)"
   ]
  },
  {
   "cell_type": "markdown",
   "metadata": {},
   "source": [
    "<hr>\n",
    "## 4. Resolver consecuente mediante implicación\n",
    "\n",
    "Lo primero que debemos hacer es generar el conjunto de salida al que hace referencia la regla o el conjunto de reglas ya agrupada.\n",
    "\n",
    "Para ello utilizamos la funcion <b>generate_fuzzy_set</b> que construimos anteriormente.\n",
    "\n",
    "supongamos un conjunto fuzzy $A$ de una variable $Y \\in [0, 100]$, de tipo triangular con parámetros $a = 10$, $m = 20$ y $c = 30$, realicemos una implicación sobre dicho conjunto con valor de $r = 0.4$"
   ]
  },
  {
   "cell_type": "code",
   "execution_count": 61,
   "metadata": {
    "collapsed": false
   },
   "outputs": [
    {
     "data": {
      "image/png": "[encoded data removed]",
      "text/plain": [
       "<matplotlib.figure.Figure at 0x7f3399ad8910>"
      ]
     },
     "metadata": {},
     "output_type": "display_data"
    }
   ],
   "source": [
    "resolucion = 100\n",
    "Y = np.linspace(0,100,resolucion)\n",
    "params_set_A = {\"a\":10, \"m\":20, \"b\":30}\n",
    "\n",
    "fuzzy_set_A = generate_fuzzy_set(Y, \"triangular\", params_set_A)\n",
    "\n",
    "plt.plot(Y, fuzzy_set_A)\n",
    "plt.show()"
   ]
  },
  {
   "cell_type": "markdown",
   "metadata": {},
   "source": [
    "La implicación en lógica borrosa, se realiza mediante el operador <b>MIN</b>. Implementemos una función para ello:"
   ]
  },
  {
   "cell_type": "code",
   "execution_count": 62,
   "metadata": {
    "collapsed": true
   },
   "outputs": [],
   "source": [
    "\"\"\"\n",
    "Implements fuzzy implication (MIN).\n",
    "\n",
    "Arguments:\n",
    "r -- scalar from rules solving and grouping.\n",
    "fuzzy_set -- A fuzzy set (array of values).\n",
    "\n",
    "Returns:\n",
    "s -- implication result. An array of numeric values.\n",
    "\"\"\"\n",
    "\n",
    "def fuzzy_implication(r, fuzzy_set):\n",
    "    val = np.minimum(r, fuzzy_set)\n",
    "    return val"
   ]
  },
  {
   "cell_type": "code",
   "execution_count": 63,
   "metadata": {
    "collapsed": false
   },
   "outputs": [
    {
     "data": {
      "image/png": "[encoded data removed]",
      "text/plain": [
       "<matplotlib.figure.Figure at 0x7f339a04cfd0>"
      ]
     },
     "metadata": {},
     "output_type": "display_data"
    }
   ],
   "source": [
    "r = 0.4\n",
    "implication_set = fuzzy_implication(r, fuzzy_set_A)\n",
    "plt.plot(Y, fuzzy_set_A, 'r--')\n",
    "plt.fill(Y, implication_set, 'g')\n",
    "plt.show()"
   ]
  },
  {
   "cell_type": "markdown",
   "metadata": {},
   "source": [
    "<hr>\n",
    "Supongamos que tenemos tres conjuntos: $A$ de tipo trapezoidal, $B$ de tipo triangular y $C$ de tipo triangular para la variable de salida $Y \\in [0, 50]$, y que hemos tenemos los valores de los antecedentes de tres reglas que hacen referencia a cada conjunto asi: $r_A, r_B, r_C$."
   ]
  },
  {
   "cell_type": "code",
   "execution_count": 65,
   "metadata": {
    "collapsed": true
   },
   "outputs": [],
   "source": [
    "resolucion = 100\n",
    "Y = np.linspace(0,50,resolucion)\n",
    "\n",
    "params_set_A = {\"a\":0, \"b\":10, \"c\":15, \"d\":20}\n",
    "params_set_B = {\"a\":10, \"m\":20, \"b\":30}\n",
    "params_set_C = {\"a\":25, \"m\":30, \"b\":45}\n",
    "\n",
    "Y_A = generate_fuzzy_set(Y, \"trapezoid\", params_set_A)\n",
    "Y_B = generate_fuzzy_set(Y, \"triangular\", params_set_B)\n",
    "Y_C = generate_fuzzy_set(Y, \"triangular\", params_set_C)\n",
    "\n",
    "#1. apliquemos implicacion\n",
    "r_A = 0.2\n",
    "r_B = 0.5\n",
    "r_C = 0.7\n",
    "\n",
    "A_implicated = fuzzy_implication(r_A, Y_A)\n",
    "B_implicated = fuzzy_implication(r_B, Y_B)\n",
    "C_implicated = fuzzy_implication(r_C, Y_C)"
   ]
  },
  {
   "cell_type": "code",
   "execution_count": 66,
   "metadata": {
    "collapsed": false
   },
   "outputs": [
    {
     "data": {
      "image/png": "[encoded data removed]",
      "text/plain": [
       "<matplotlib.figure.Figure at 0x7f3399ace490>"
      ]
     },
     "metadata": {},
     "output_type": "display_data"
    }
   ],
   "source": [
    "plt.plot(Y, Y_A, 'r--')\n",
    "plt.plot(Y, Y_B, 'g--')\n",
    "plt.plot(Y, Y_C, 'b--')\n",
    "plt.fill(Y, A_implicated, 'r')\n",
    "plt.fill(Y, B_implicated, 'g')\n",
    "plt.fill(Y, C_implicated, 'b')\n",
    "plt.show()"
   ]
  },
  {
   "cell_type": "markdown",
   "metadata": {},
   "source": [
    "<hr>\n",
    "## 5. Obtener el área de respuesta aplicando mediante AGREGACION utilizando el operador MAX entre todos los resultados de las reglas ya implicadas"
   ]
  },
  {
   "cell_type": "code",
   "execution_count": 68,
   "metadata": {
    "collapsed": true
   },
   "outputs": [],
   "source": [
    "\"\"\"\n",
    "Implements Aggregation fuzzy operator using MAX.\n",
    "\n",
    "Arguments:\n",
    "fuzzy_sets -- A list with fuzzy_sets of output variable. All sets must have same dimension.\n",
    "\n",
    "Returns:\n",
    "val -- Aggregation result. An array of values.\n",
    "\"\"\"\n",
    "def fuzzy_aggregation(fuzzy_sets):\n",
    "    val = np.zeros([fuzzy_sets[0].shape[0]])\n",
    "    \n",
    "    for s in fuzzy_sets:\n",
    "        val = np.maximum(val, s)\n",
    "        \n",
    "    return val"
   ]
  },
  {
   "cell_type": "code",
   "execution_count": 69,
   "metadata": {
    "collapsed": false
   },
   "outputs": [
    {
     "data": {
      "image/png": "[encoded data removed]",
      "text/plain": [
       "<matplotlib.figure.Figure at 0x7f339a243bd0>"
      ]
     },
     "metadata": {},
     "output_type": "display_data"
    }
   ],
   "source": [
    "agg_set = fuzzy_aggregation([A_implicated, B_implicated, C_implicated])\n",
    "plt.fill(Y, agg_set, 'g')\n",
    "plt.show()"
   ]
  },
  {
   "cell_type": "code",
   "execution_count": 70,
   "metadata": {
    "collapsed": false
   },
   "outputs": [
    {
     "name": "stdout",
     "output_type": "stream",
     "text": [
      "[ 0.          0.05050505  0.1010101   0.15151515  0.2         0.2         0.2\n",
      "  0.2         0.2         0.2         0.2         0.2         0.2         0.2\n",
      "  0.2         0.2         0.2         0.2         0.2         0.2         0.2\n",
      "  0.2         0.2         0.2         0.21212121  0.26262626  0.31313131\n",
      "  0.36363636  0.41414141  0.46464646  0.5         0.5         0.5         0.5\n",
      "  0.5         0.5         0.5         0.5         0.5         0.5         0.5\n",
      "  0.5         0.5         0.5         0.5         0.5         0.5         0.5\n",
      "  0.5         0.5         0.47474747  0.42424242  0.37373737  0.35353535\n",
      "  0.45454545  0.55555556  0.65656566  0.7         0.7         0.7         0.7\n",
      "  0.7         0.7         0.7         0.7         0.7         0.7         0.7\n",
      "  0.7         0.67676768  0.64309764  0.60942761  0.57575758  0.54208754\n",
      "  0.50841751  0.47474747  0.44107744  0.40740741  0.37373737  0.34006734\n",
      "  0.30639731  0.27272727  0.23905724  0.20538721  0.17171717  0.13804714\n",
      "  0.1043771   0.07070707  0.03703704  0.003367    0.          0.          0.\n",
      "  0.          0.          0.          0.          0.          0.          0.        ]\n"
     ]
    }
   ],
   "source": [
    "print(agg_set)"
   ]
  },
  {
   "cell_type": "markdown",
   "metadata": {},
   "source": [
    "<hr>\n",
    "## 6. Obtener el valor final de la regla mediante DESFUSIFICACION\n",
    "\n",
    "Para ello podemos aplicar diferentes métodos. El más conocido es el del CENTROIDE o centro de área, definido como:\n",
    "\n",
    "## <center>$y = \\frac{\\int_{i \\in Y}{i \\mu_{aggregated}(i)) di}}{\\int_{i \\in Y}{\\mu_{aggregated}(i)) di}}$</center>\n",
    "\n",
    "<br>\n",
    "Otro método popular es el del BISECTOR definido como: \"el valor que separa el área bajo la curva en dos sub-áreas iguales\":\n",
    "\n",
    "## <center>$y \\mid \\int_{i \\in (-\\infty,y )\\in Y}{i \\mu_{aggregated}(i)) di} \\approx \\int_{i \\in [y, \\infty) \\in Y}{i \\mu_{aggregated}(i)) di}$</center>\n",
    "\n",
    "Implemetemos el método del centroide y apliquemos el mismo sobre el resultado anterior:"
   ]
  },
  {
   "cell_type": "code",
   "execution_count": 71,
   "metadata": {
    "collapsed": true
   },
   "outputs": [],
   "source": [
    "\"\"\"\n",
    "Implements defuzzification (centroid, bisector).\n",
    "\n",
    "Arguments:\n",
    "Y -- array with range of output variable Y\n",
    "fuzzy_set_output -- A fuzzy_set of output variable.\n",
    "method -- string with name of deffuzification method. can be \"centroid\", \"bisector\"\n",
    "\n",
    "Returns:\n",
    "val -- scalar value of crisp output variable.\n",
    "\"\"\"\n",
    "def fuzzy_defuzzy(Y, fuzzy_set_output, method=\"centroid\"):\n",
    "   \n",
    "    if(method == \"centroid\"):\n",
    "        val = np.sum(Y * fuzzy_set_output) /  np.sum(fuzzy_set_output)\n",
    "    elif(method == \"bisector\"):\n",
    "        val = None\n",
    "    \n",
    "    return val"
   ]
  },
  {
   "cell_type": "code",
   "execution_count": 72,
   "metadata": {
    "collapsed": false
   },
   "outputs": [
    {
     "name": "stdout",
     "output_type": "stream",
     "text": [
      "('salida del sistema: ', 25.03236833717073)\n"
     ]
    },
    {
     "data": {
      "image/png": "[encoded data removed]",
      "text/plain": [
       "<matplotlib.figure.Figure at 0x7f3399d1d590>"
      ]
     },
     "metadata": {},
     "output_type": "display_data"
    }
   ],
   "source": [
    "output = fuzzy_defuzzy(Y, agg_set, \"centroid\")\n",
    "print(\"salida del sistema: \", output)\n",
    "\n",
    "agg_set = fuzzy_aggregation([A_implicated, B_implicated, C_implicated])\n",
    "plt.fill(Y, agg_set, 'r')\n",
    "plt.plot(output, 0.3, 'k*')\n",
    "plt.show()"
   ]
  },
  {
   "cell_type": "markdown",
   "metadata": {},
   "source": [
    "<hr>\n",
    "# Taller en clase\n",
    "\n",
    "## Recordermos! Hemos implementado las siguientes funciones:\n",
    "<ul>\n",
    "<li>generate_fuzzy_set</li>\n",
    "<li>fuzzify</li>\n",
    "<li>fuzzy_operator</li>\n",
    "<li>fuzzy_group</li>\n",
    "<li>fuzzy_implication</li>\n",
    "<li>fuzzy_aggregation</li>\n",
    "<li>fuzzy_defuzzy</li>\n",
    "</ul>"
   ]
  },
  {
   "cell_type": "code",
   "execution_count": 13,
   "metadata": {
    "collapsed": true
   },
   "outputs": [],
   "source": [
    "??generate_fuzzy_set"
   ]
  },
  {
   "cell_type": "markdown",
   "metadata": {},
   "source": [
    "<hr>\n",
    "### <font color=\"blue\">1. Implementemos el siguiente ejemplo y verifiquemos si nuestra implementación arroja un resultado similar:</font>\n",
    "<img src=\"res/fuzzy/taller_fuzzy.png\" width=700>"
   ]
  },
  {
   "cell_type": "code",
   "execution_count": 75,
   "metadata": {
    "collapsed": true
   },
   "outputs": [],
   "source": [
    "#1. Inicializar parametros\n",
    "\n",
    "service_poor = \"poor\"\n",
    "service_good = \"good\"\n",
    "service_excellent = \"excellent\"\n",
    "funcion_service_poor = \"trapezoid\"\n",
    "funcion_service_good = \"triangular\"\n",
    "funcion_service_excellent = \"trapezoid\"\n",
    "params_poor = {\"a\":0, \"b\":0, \"c\":2, \"d\":5}\n",
    "params_good = {\"a\":2, \"m\":5, \"b\":8}\n",
    "params_excellent = {\"a\":5, \"b\":7, \"c\":10, \"d\":10}\n",
    "\n",
    "\n",
    "food_rancid = \"rancid\"\n",
    "food_delicious = \"delicious\"\n",
    "funcion_food_rancid = \"trapezoid\"\n",
    "funcion_food_delicious = \"trapezoid\"\n",
    "params_rancid = {\"a\":0, \"b\":0, \"c\":3, \"d\":4}\n",
    "params_delicious = {\"a\":6, \"b\":8, \"c\":10, \"d\":10}\n",
    "\n",
    "tip_cheap = \"cheap\"\n",
    "tip_average = \"average\"\n",
    "tip_generous = \"generous\"\n",
    "funcion_tip_cheap = \"triangular\"\n",
    "funcion_tip_average = \"triangular\"\n",
    "funcion_tip_generous = \"triangular\"\n",
    "params_cheap = {\"a\":0, \"m\":6, \"b\":12.5}\n",
    "params_average = {\"a\":6, \"m\":12.5, \"b\":20}\n",
    "params_generous = {\"a\":12.5, \"m\":20, \"b\":25}"
   ]
  },
  {
   "cell_type": "code",
   "execution_count": 103,
   "metadata": {
    "collapsed": false
   },
   "outputs": [
    {
     "name": "stdout",
     "output_type": "stream",
     "text": [
      "{'poor': 0, 'good': 0.3333333333333333, 'excellent': 1.0}\n",
      "{'delicious': 1.0, 'rancid': 0}\n"
     ]
    }
   ],
   "source": [
    "#2 fusificar\n",
    "\n",
    "service = 7\n",
    "food = 8\n",
    "\n",
    "fuzzy_sets_servicio = {service_poor:(funcion_service_poor, params_poor), service_good:(funcion_service_good, params_good), service_excellent:(funcion_service_excellent, params_excellent)}\n",
    "service_fuzzy = fuzzify(service, fuzzy_sets_servicio)\n",
    "      \n",
    "fuzzy_sets_food = {food_rancid:(funcion_food_rancid, params_rancid), food_delicious:(funcion_food_delicious, params_delicious)}\n",
    "food_fuzzy = fuzzify(food, fuzzy_sets_food)\n",
    "\n",
    "print(service_fuzzy)\n",
    "print(food_fuzzy)"
   ]
  },
  {
   "cell_type": "code",
   "execution_count": 104,
   "metadata": {
    "collapsed": true
   },
   "outputs": [],
   "source": [
    "??generate_fuzzy_set"
   ]
  },
  {
   "cell_type": "code",
   "execution_count": 106,
   "metadata": {
    "collapsed": false
   },
   "outputs": [
    {
     "name": "stdout",
     "output_type": "stream",
     "text": [
      "(0, 0.3333333333333333, 1.0)\n"
     ]
    }
   ],
   "source": [
    "#3. Resolver reglas\n",
    "r1 = fuzzy_operator(\"OR\", {\"a\":service_fuzzy[\"poor\"], \"b\":food_fuzzy[\"rancid\"]})\n",
    "r2 = service_fuzzy[\"good\"]\n",
    "r3 = fuzzy_operator(\"OR\", {\"a\":service_fuzzy[\"excellent\"], \"b\":food_fuzzy[\"delicious\"]})\n",
    "\n",
    "print(r1,r2,r3)"
   ]
  },
  {
   "cell_type": "code",
   "execution_count": 107,
   "metadata": {
    "collapsed": false
   },
   "outputs": [
    {
     "data": {
      "image/png": "[encoded data removed]",
      "text/plain": [
       "<matplotlib.figure.Figure at 0x7f3399d4c4d0>"
      ]
     },
     "metadata": {},
     "output_type": "display_data"
    }
   ],
   "source": [
    "#4. Implicacion \n",
    "T = np.linspace(0,25, 1000)\n",
    "fuzzy_set_cheap = generate_fuzzy_set(T, funcion_tip_cheap, params_cheap)\n",
    "fuzzy_set_average = generate_fuzzy_set(T, funcion_tip_average, params_average)\n",
    "fuzzy_set_generous = generate_fuzzy_set(T, funcion_tip_generous, params_generous)\n",
    "\n",
    "plt.plot(T, fuzzy_set_cheap, 'r')\n",
    "plt.plot(T, fuzzy_set_average, 'g')\n",
    "plt.plot(T, fuzzy_set_generous, 'b')\n",
    "plt.show()"
   ]
  },
  {
   "cell_type": "code",
   "execution_count": 89,
   "metadata": {
    "collapsed": true
   },
   "outputs": [],
   "source": [
    "??fuzzy_implication"
   ]
  },
  {
   "cell_type": "code",
   "execution_count": 108,
   "metadata": {
    "collapsed": false,
    "scrolled": true
   },
   "outputs": [
    {
     "data": {
      "image/png": "[encoded data removed]",
      "text/plain": [
       "<matplotlib.figure.Figure at 0x7f3399a2e190>"
      ]
     },
     "metadata": {},
     "output_type": "display_data"
    }
   ],
   "source": [
    "fs_cheap_truncated = fuzzy_implication(r1, fuzzy_set_cheap)\n",
    "fs_average_truncated= fuzzy_implication(r2, fuzzy_set_average)\n",
    "fs_generous_truncated = fuzzy_implication(r3, fuzzy_set_generous)\n",
    "\n",
    "plt.plot(T, fs_cheap_truncated, 'r')\n",
    "plt.plot(T, fs_average_truncated, 'g')\n",
    "plt.plot(T, fs_generous_truncated, 'b')\n",
    "plt.show()"
   ]
  },
  {
   "cell_type": "code",
   "execution_count": 94,
   "metadata": {
    "collapsed": true
   },
   "outputs": [],
   "source": [
    "??fuzzy_aggregation"
   ]
  },
  {
   "cell_type": "code",
   "execution_count": 109,
   "metadata": {
    "collapsed": false
   },
   "outputs": [
    {
     "data": {
      "image/png": "[encoded data removed]",
      "text/plain": [
       "<matplotlib.figure.Figure at 0x7f33999cc190>"
      ]
     },
     "metadata": {},
     "output_type": "display_data"
    }
   ],
   "source": [
    "#5. Agregacion\n",
    "aggregated_tip = fuzzy_aggregation([fs_cheap_truncated, fs_average_truncated, fs_generous_truncated])\n",
    "plt.fill(T, aggregated_tip)\n",
    "plt.show()"
   ]
  },
  {
   "cell_type": "code",
   "execution_count": 98,
   "metadata": {
    "collapsed": true
   },
   "outputs": [],
   "source": [
    "??fuzzy_defuzzy"
   ]
  },
  {
   "cell_type": "code",
   "execution_count": 110,
   "metadata": {
    "collapsed": false
   },
   "outputs": [
    {
     "name": "stdout",
     "output_type": "stream",
     "text": [
      "('al se\\xc3\\xb1or se le recomienda pagar: ', 16.874126228978035)\n"
     ]
    }
   ],
   "source": [
    "#6. desfusificar\n",
    "salida = fuzzy_defuzzy(T, aggregated_tip, \"centroid\")\n",
    "print(\"al señor se le recomienda pagar: \", salida)"
   ]
  },
  {
   "cell_type": "code",
   "execution_count": null,
   "metadata": {
    "collapsed": true
   },
   "outputs": [],
   "source": []
  }
 ],
 "metadata": {
  "kernelspec": {
   "display_name": "Python 2",
   "language": "python",
   "name": "python2"
  },
  "language_info": {
   "codemirror_mode": {
    "name": "ipython",
    "version": 2
   },
   "file_extension": ".py",
   "mimetype": "text/x-python",
   "name": "python",
   "nbconvert_exporter": "python",
   "pygments_lexer": "ipython2",
   "version": "2.7.12"
  }
 },
 "nbformat": 4,
 "nbformat_minor": 2
}
