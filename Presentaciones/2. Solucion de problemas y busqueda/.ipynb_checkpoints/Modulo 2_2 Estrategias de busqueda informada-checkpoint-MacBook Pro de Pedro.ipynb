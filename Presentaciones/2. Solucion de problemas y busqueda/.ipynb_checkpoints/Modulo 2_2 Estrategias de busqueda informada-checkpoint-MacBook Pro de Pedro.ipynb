{
 "cells": [
  {
   "cell_type": "markdown",
   "metadata": {},
   "source": [
    " <img src=\"res/itm_logo.jpg\" width=\"300px\">\n",
    "\n",
    "## Inteligencia Artificial - IAI84\n",
    "### Instituto Tecnológico Metropolitano\n",
    "#### Pedro Atencio Ortiz - 2017\n",
    "\n",
    "Este material ha sido construido utilizando material del libro Artificial Intelligence: A modern approach."
   ]
  },
  {
   "cell_type": "markdown",
   "metadata": {},
   "source": [
    "<hr>\n",
    "## Módulo 2: Solución de problemas mediante búsqueda\n",
    "<img src=\"res/problem_solving.gif\" width=\"400px\">\n",
    "## Agenda:\n",
    "<br>\n",
    "<font size=\"4\">\n",
    "<b>4. Estrategias de búsqueda informada o heurística</b>\n",
    "    <ol>\n",
    "        <li>Costos y Heuristicas</li>\n",
    "        <br>\n",
    "        <li>Best-First Search</li>\n",
    "        <br>\n",
    "        <li>A-Star Search</li>\n",
    "        <br>\n",
    "        <li>Heuristicas</li>\n",
    "    </ol>\n",
    "</font>"
   ]
  },
  {
   "cell_type": "markdown",
   "metadata": {},
   "source": [
    "<hr>\n",
    "## Recordemos\n",
    "Un problema single-state puede ser expresado como un árbol que representa una exploración simulada de un espacio de estados, a través la generación de sucesores a partir de estados previamente explorados.\n",
    "<br>\n",
    "<img src=\"res/tree_search.png\" width=\"700px\">\n",
    "<center><i>Funcion básica de búsqueda.</i></center>"
   ]
  },
  {
   "cell_type": "markdown",
   "metadata": {},
   "source": [
    "<hr>\n",
    "# 1. Costos y Heurísticas\n",
    "<br>\n",
    "De forma genérica, un problema se puede definir como los estados que puede tomar una realidad y las posibles acciones para alcanzar un estado objetivo. Una solución a dicho problema consiste entonces en encontrar una secuencia de estados y acciones que me lleven del estado inicial al estado objetivo.\n",
    "<br>\n",
    "<br>\n",
    "Por ejemplo, el problema del viajero se puede apreciar en la siguiente figura:\n",
    "<br>\n",
    "<img src=\"res/rumanian_map.png\" width=\"600px\">\n",
    "<br>\n",
    "Teniendo en cuenta el mapa anterior, supongamos que queremos ir de Arab a Bucharest. Entonces podríamos definir lo siguiente:\n",
    "<br><br>\n",
    "<font size=\"3\">\n",
    "<ul>\n",
    "<li><b>Objetivo:</b> Estar en Bucharest.\n",
    "</li>\n",
    "<li><b>Problema:</b>\n",
    "    <ul>\n",
    "        <li><b>Estados:</b> Las ciudades.</li>\n",
    "        <li><b>Acciones:</b> Conducir entre ciudades contiguas.</li>\n",
    "    </ul>\n",
    "</li>\n",
    "<li><b>Solución:</b> Secuencia de ciudades que conducen de Arab al objetivo.</li>\n",
    "</ul>\n",
    "</font>"
   ]
  },
  {
   "cell_type": "markdown",
   "metadata": {},
   "source": [
    "<hr>\n",
    "## Estados vs Nodos (implementación)\n",
    "<br>\n",
    "<font size=\"4\">\n",
    "<ul>\n",
    "    <li>Un <b>estado</b> es una representación de una configuración física del mundo.</li>\n",
    "    <br>\n",
    "    <li>Un <b>nodo</b> es una estructura de datos que constituye una parte del árbol de búsqueda.</li>\n",
    "    <br>\n",
    "    <li>Un <b>nodo</b> tiene un estado, padre, hijo(s), profundidad, costo:</li>\n",
    "    <br>\n",
    "    <font color=\"red\">$$g(x)$$</font>\n",
    "    <br>\n",
    "    <li>Los estados no tienen padre, hijo(s), profundida o costo. Estos elementos pertenecen a la estructura de datos.</li>\n",
    "    <br>\n",
    "    <li>La forma en que el árbol se <b>expande</b> depende de la estrategia de búsqueda utilizada.</li>\n",
    "</ul>\n",
    "</font>\n",
    "<img src=\"res/node_structure.png\">"
   ]
  },
  {
   "cell_type": "markdown",
   "metadata": {},
   "source": [
    "<hr>\n",
    "## Estrategias de búsqueda\n",
    "<br>\n",
    "<font size=\"3\">\n",
    "Una estrategia se define según la forma que realice la expansión del árbol de búsqueda. Las estrategias pueden ser evaluadas de acuerdo a los siguientes criterios:\n",
    "<br>\n",
    "<ul>\n",
    "    <li><font color=blue><b>Completitud(completeness)</b></font>---Siempre encuentra una solución si existe?</li>\n",
    "    <br>\n",
    "    <li><font color=blue><b>Complejidad(tiempo)</b></font>---Número de acciones que se requirió para encontrar la solución.</li>\n",
    "    <br>\n",
    "    <li><font color=blue><b>Complejidad(espacio)</b></font>---Máximo número de nodos en memoria.</li>\n",
    "    <br>\n",
    "    <li><font color=blue><b>Optimalidad(optimality)</b></font>---Siempre encuentra una solución de menor costo?</li>\n",
    "</ul>\n",
    "<br>\n",
    "Las complejidades temporal y espacial se miden en términos de:\n",
    "<br>\n",
    "<ul>\n",
    "    <li><font color=red><b><i>b</i></b></font>---Máximo factor de ramificación.</li>\n",
    "    <br>\n",
    "    <li><font color=red><b><i>d</b></i></font>---Profundidad de la solución de menor costo.</li>\n",
    "    <br>\n",
    "    <li><font color=red><b><i>m</b></i></font>---Máxima profundidad del espacio de estados.</li>\n",
    "    <br>\n",
    "</ul>\n",
    "\n",
    "\n",
    "</font>"
   ]
  },
  {
   "cell_type": "markdown",
   "metadata": {},
   "source": [
    "<hr>\n",
    "# 3. Estrategias de búsqueda no-informada\n",
    "<br>\n",
    "Esta familia de estrategias, utilizan solo la información que se dispone al momento de definir el problema.\n",
    "<br>\n",
    "<font color=\"blue\">\n",
    "<ul>\n",
    "    <li>Breadth-first search</li>\n",
    "    <li>Uniform-cost search</li>\n",
    "    <li>Depth-first search</li>\n",
    "    <li>Depth-limited search</li>\n",
    "    <li>Iterative deepening search</li>\n",
    "</ul>\n",
    "</font>\n"
   ]
  },
  {
   "cell_type": "markdown",
   "metadata": {},
   "source": [
    "<hr>\n",
    "## Breadth First Search (BFS)\n",
    "<br>\n",
    "Se expanden el árbol de forma horizontal, utilizando una lista FIFO, en la cual los nuevos estados van al final."
   ]
  },
  {
   "cell_type": "code",
   "execution_count": 39,
   "metadata": {
    "collapsed": false
   },
   "outputs": [
    {
     "data": {
      "text/plain": [
       "<matplotlib.image.AxesImage at 0x15a5f160>"
      ]
     },
     "execution_count": 39,
     "metadata": {},
     "output_type": "execute_result"
    },
    {
     "data": {
      "image/png": "[encoded data removed]",
      "text/plain": [
       "<matplotlib.figure.Figure at 0x157eecc0>"
      ]
     },
     "metadata": {},
     "output_type": "display_data"
    }
   ],
   "source": [
    "%matplotlib inline\n",
    "\n",
    "import numpy as np\n",
    "import matplotlib.pyplot as plt\n",
    "import skimage\n",
    "\n",
    "fig, arreglo_plots = plt.subplots(1,3, figsize=(20, 10))\n",
    "I1 = skimage.io.imread(\"res/bfs_1.png\")\n",
    "arreglo_plots[0].imshow(I1, cmap=\"gray\")\n",
    "I2 = skimage.io.imread(\"res/bfs_2.png\")\n",
    "arreglo_plots[1].imshow(I2, cmap=\"gray\")\n",
    "I3 = skimage.io.imread(\"res/bfs_3.png\")\n",
    "arreglo_plots[2].imshow(I3, cmap=\"gray\")"
   ]
  },
  {
   "cell_type": "code",
   "execution_count": 2,
   "metadata": {
    "collapsed": false
   },
   "outputs": [
    {
     "name": "stdout",
     "output_type": "stream",
     "text": [
      "A\n",
      "B\n",
      "C\n",
      "D\n",
      "E\n",
      "F\n",
      "G\n",
      "H\n"
     ]
    }
   ],
   "source": [
    "'''\n",
    "TODO:\n",
    "    1. Agregar el padre del nodo y una funcion para retornar la ruta hasta la raiz\n",
    "    2. Implementar patron de estrategia\n",
    "'''\n",
    "class SimpleTree():\n",
    "\n",
    "    def __init__(self,value):\n",
    "     self.rootid = value\n",
    "     self.value = value\n",
    "     self.child = [] #lista simple: se puede convertir en un diccionario\n",
    "\n",
    "    def addEdge(self, value):\n",
    "        c = SimpleTree(value)\n",
    "        self.child.append(c)\n",
    "\n",
    "    def getEdge(self, child_index):\n",
    "        return self.child[child_index]\n",
    "\n",
    "def BFS(T, goal):\n",
    "    q = []\n",
    "    q.append(T)\n",
    "    while(len(q) != 0):\n",
    "        nodo = q.pop(0)\n",
    "        print(nodo.value)\n",
    "        if(nodo.value == goal):\n",
    "            break\n",
    "        n = len(nodo.child)\n",
    "        for i in range(n):\n",
    "            q.append(nodo.getEdge(i))\n",
    "\n",
    "T = SimpleTree('A')\n",
    "T.addEdge('B')\n",
    "T.addEdge('C')\n",
    "\n",
    "B = T.getEdge(0)\n",
    "B.addEdge('D')\n",
    "D = B.getEdge(0)\n",
    "D.addEdge('G')\n",
    "D.addEdge('H')\n",
    "\n",
    "C = T.getEdge(1)\n",
    "C.addEdge('E')\n",
    "C.addEdge('F')\n",
    "\n",
    "BFS(T, 'H')    "
   ]
  },
  {
   "cell_type": "markdown",
   "metadata": {},
   "source": [
    "<hr>\n",
    "## Propiedades de BFS\n",
    "<br>\n",
    "<img src=\"res/bfs_properties.png\" width=\"700\">"
   ]
  },
  {
   "cell_type": "markdown",
   "metadata": {},
   "source": [
    "<hr>\n",
    "## Depth First Search"
   ]
  },
  {
   "cell_type": "code",
   "execution_count": 4,
   "metadata": {
    "collapsed": false
   },
   "outputs": [
    {
     "name": "stdout",
     "output_type": "stream",
     "text": [
      "A\n",
      "B\n",
      "D\n",
      "G\n",
      "H\n",
      "C\n",
      "E\n"
     ]
    }
   ],
   "source": [
    "'''\n",
    "TODO:\n",
    "    1. Agregar el padre del nodo y una funcion para retornar la ruta hasta la raiz\n",
    "    2. Implementar patron de estrategia\n",
    "'''\n",
    "\n",
    "class SimpleTree():\n",
    "\n",
    "    def __init__(self,value):\n",
    "     self.rootid = value\n",
    "     self.value = value\n",
    "     self.child = [] #lista simple: se puede convertir en un diccionario\n",
    "\n",
    "    def addEdge(self, value):\n",
    "        c = SimpleTree(value)\n",
    "        self.child.append(c)\n",
    "\n",
    "    def getEdge(self, child_index):\n",
    "        return self.child[child_index]\n",
    "\n",
    "\n",
    "def DFS(T, goal):\n",
    "    stack = []\n",
    "    stack.append(T)\n",
    "    while(len(stack) != 0):\n",
    "        nodo = stack.pop()\n",
    "        print(nodo.value)\n",
    "        if(nodo.value == goal):\n",
    "            break\n",
    "        n = len(nodo.child)\n",
    "        for i in reversed(range(n)):\n",
    "            stack.append(nodo.getEdge(i))\n",
    "\n",
    "\n",
    "T = SimpleTree('A')\n",
    "T.addEdge('B')\n",
    "T.addEdge('C')\n",
    "\n",
    "B = T.getEdge(0)\n",
    "B.addEdge('D')\n",
    "D = B.getEdge(0)\n",
    "D.addEdge('G')\n",
    "D.addEdge('H')\n",
    "\n",
    "C = T.getEdge(1)\n",
    "C.addEdge('E')\n",
    "C.addEdge('F')\n",
    "\n",
    "DFS(T, 'E')"
   ]
  },
  {
   "cell_type": "markdown",
   "metadata": {},
   "source": [
    "## Visualization\n",
    "<a href = \"https://visualgo.net/en/dfsbfs\">VisuAlgo</a>"
   ]
  }
 ],
 "metadata": {
  "kernelspec": {
   "display_name": "Python 2",
   "language": "python",
   "name": "python2"
  },
  "language_info": {
   "codemirror_mode": {
    "name": "ipython",
    "version": 2
   },
   "file_extension": ".py",
   "mimetype": "text/x-python",
   "name": "python",
   "nbconvert_exporter": "python",
   "pygments_lexer": "ipython2",
   "version": "2.7.12"
  }
 },
 "nbformat": 4,
 "nbformat_minor": 2
}
