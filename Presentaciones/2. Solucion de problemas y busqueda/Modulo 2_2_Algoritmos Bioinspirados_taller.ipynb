{
 "cells": [
  {
   "cell_type": "markdown",
   "metadata": {},
   "source": [
    "<img src=\"res/itm_logo.jpg\" width=\"300px\">\n",
    "\n",
    "## Inteligencia Artificial - IAI84\n",
    "### Instituto Tecnológico Metropolitano\n",
    "#### Pedro Atencio Ortiz - 2018\n",
    "\n",
    "<font size=1>Parte de este material es autoría del profesor Cristian Guarnizo de la Universidad Tecnológica de Pereira. A él damos créditos.</font>\n",
    "\n",
    "En este notebook se implementan tres casos de algoritmos genéticos:\n",
    "<ul>\n",
    "    <li>Problema de la bolsa.</li>\n",
    "    <li>Problema del viajero.</li>\n",
    "    <li>Problema de minimización de una función real.</li>\n",
    "</ul>"
   ]
  },
  {
   "cell_type": "markdown",
   "metadata": {},
   "source": [
    "<hr>\n",
    "## Módulo 2_2: Algoritmos Bioinspirados - Algoritmos genéticos\n",
    "<img src=\"res/AG/algorithm.png\" width=\"600px\">"
   ]
  },
  {
   "cell_type": "markdown",
   "metadata": {},
   "source": [
    "<hr>\n",
    "# 1.Problema de la Bolsa (representación binaria)\n",
    "Determinar para cada caso cuales objetos se deben llevar, maximizando la suma de los valores de los elementos sin sobrepasar la capacidad.\n",
    "<img src=\"res/AG/bolsa.png\" width=400>\n",
    "En este problema se requiere maximizar el beneficio sin sobrepasar la capacidad. Se emplea el algoritmo genético con codificación binaria (genbin), debido que la codificación binaria me permite con 1 lógico incluir el elemento, y con un 0 excluirlo. Finalmente se encuentra que elementos se deben agregar de tal forma que se maximice el beneficio. "
   ]
  },
  {
   "cell_type": "markdown",
   "metadata": {},
   "source": [
    "<hr>\n",
    "## 1.1. Funcion de aptitud\n",
    "\n",
    "La función de aptitud determina el valor de calidad de un cromosoma dentro de una población. Para este caso, supongamos que la función de aptitud es la sumatoria del valor de los elementos que se llevan en la bolsa. En caso de que la suma de los pesos supere el valor máximo o capacidad máxima de la bolsa, entonces la función de aptitud es cero.\n",
    "\n",
    "<center>\n",
    "\n",
    "$aptitud(x)=\\begin{Bmatrix}\n",
    "si (\\sum x_{peso} \\leqslant k) \\Rightarrow  \\sum x_{valor}\n",
    "\\\\ \n",
    "sino \\Rightarrow  0\n",
    "\\end{Bmatrix} $\n",
    "\n",
    "</center>\n",
    "\n",
    "Donde $x$ es un cromosoma binario que representa los elementos que llevan y los que no, y $k$ es la capacidad máxima de la bolsa.\n",
    "\n",
    "Según lo anterior, completar el siguiente código."
   ]
  },
  {
   "cell_type": "code",
   "execution_count": 30,
   "metadata": {
    "collapsed": true
   },
   "outputs": [],
   "source": [
    "import numpy as np\n",
    "\n",
    "def funcion_aptitud(x):\n",
    "    peso = np.array([28, 11, 15, 19, 5, 3, 8]) \n",
    "    valor = np.array([40, 22, 30, 37, 8, 5, 12]) \n",
    "    \n",
    "    k = 44 \n",
    "    \n",
    "    #utilice np.sum para calcular la sumatoria de un vector\n",
    "    #COMPLETAR\n",
    "    if (None):\n",
    "        aptitud = None\n",
    "    else:\n",
    "        aptitud = None\n",
    "    \n",
    "    return aptitud"
   ]
  },
  {
   "cell_type": "markdown",
   "metadata": {},
   "source": [
    "<hr>\n",
    "## 1.2. Inicialización de parámetros del algoritmo genético"
   ]
  },
  {
   "cell_type": "code",
   "execution_count": 31,
   "metadata": {
    "collapsed": true
   },
   "outputs": [],
   "source": [
    "ni = 100 #numero de iteraciones\n",
    "nc = 10 #tamaño de la poblacion\n",
    "ng = 7 #numero de genes por cromosoma\n",
    "\n",
    "pc = 0.9 #probabilidad de cruce\n",
    "pm = 0.5 #probabilidad de mutacion"
   ]
  },
  {
   "cell_type": "markdown",
   "metadata": {},
   "source": [
    "<hr>\n",
    "## 1.3. Inicializar población (p) y calcular la aptitud (fa) de sus individuos\n",
    "\n",
    "La población inicial es una matriz de binarios $P_{nc \\times ng}$, donde $nc$ es el número de cromosomas y $ng$ es el número de genes.\n",
    "\n",
    "Funciones de interes para la implementación:\n",
    "<br><br>\n",
    "<font size=\"3\">\n",
    "<a href=\"https://docs.scipy.org/doc/numpy/reference/generated/numpy.random.random.html\">np.random.random</a>\n",
    "<br>\n",
    "<a href=\"https://docs.scipy.org/doc/numpy/reference/generated/numpy.round_.html\">np.round</a>\n",
    "</font>"
   ]
  },
  {
   "cell_type": "code",
   "execution_count": null,
   "metadata": {},
   "outputs": [],
   "source": [
    "seed = 2\n",
    "np.random.seed(seed)\n",
    "\n",
    "#utilice np.random.random y np.round para generar la matriz de binarios p.\n",
    "#COMPLETAR\n",
    "p = None\n",
    "\n",
    "#fa es un vector que almacenará las funciones de aptitud de cada individuo de la población.\n",
    "fa = np.zeros([nc], dtype=np.int)\n",
    "\n",
    "for i in range(None):\n",
    "    fa[i] = funcion_aptitud(None)\n",
    "\n",
    "print(\"Poblacion inicial: \", p)\n",
    "print(\"Aptitudes: \", fa)"
   ]
  },
  {
   "cell_type": "markdown",
   "metadata": {},
   "source": [
    "**Resultado esperado**\n",
    "<br>\n",
    "Poblacion inicial:\n",
    "<br>\n",
    "[[ 0.  0.  1.  0.  0.  0.  0.]\n",
    "<br>\n",
    " [ 1.  0.  0.  1.  1.  0.  1.]\n",
    " <br>\n",
    " [ 0.  1.  1.  0.  1.  0.  1.]\n",
    " <br>\n",
    " [ 0.  0.  0.  0.  1.  0.  0.]\n",
    " <br>\n",
    " [ 0.  0.  0.  0.  1.  0.  1.]\n",
    " <br>\n",
    " [ 0.  1.  1.  0.  1.  1.  1.]\n",
    " <br>\n",
    " [ 1.  0.  1.  0.  0.  1.  1.]\n",
    " <br>\n",
    " [ 1.  1.  0.  0.  1.  0.  0.]\n",
    " <br>\n",
    " [ 0.  0.  1.  1.  1.  1.  1.]\n",
    " <br>\n",
    " [ 0.  0.  1.  0.  0.  1.  0.]]\n",
    " <br>\n",
    " Aptitudes: [30,  0, 72,  8, 20, 77,  0, 70,  0, 35]"
   ]
  },
  {
   "cell_type": "markdown",
   "metadata": {},
   "source": [
    "<hr>\n",
    "## 1.4. Ciclo principal del algoritmo genético:\n",
    "**Seleccion->Cruce->Mutación->Evaluación->Inserción**\n",
    "\n",
    "Analizar en clase el siguiente código y:\n",
    "\n",
    "1. Evaluar la convergencia del algoritmo.\n",
    "2. Medir el impacto de los parametros iniciales en la convergencia.\n",
    "3. Implementar la etapa de inserción por reemplazo de los mejores de la población."
   ]
  },
  {
   "cell_type": "code",
   "execution_count": 20,
   "metadata": {
    "collapsed": true
   },
   "outputs": [],
   "source": [
    "for i in range(ni):\n",
    "    #Seleccion - Aleatoria\n",
    "    p1 = np.random.randint(nc-1)\n",
    "    p2 = np.random.randint(nc-1)\n",
    "    \n",
    "    #Cruce a un punto\n",
    "    if(np.random.rand() <= pc):\n",
    "        cross_point = np.random.randint(ng)\n",
    "        child1 = np.append(p[p1, 0:cross_point], p[p2, cross_point:])\n",
    "        child2 = np.append(p[p2, 0:cross_point], p[p1, cross_point:])\n",
    "        \n",
    "    #Mutacion: se muta un bit aleatoriamente\n",
    "    if(np.random.rand() <= pm):\n",
    "        mut_point_c1 = np.random.randint(ng-1)\n",
    "        mut_point_c2 = np.random.randint(ng-1)\n",
    "        \n",
    "        child1[mut_point_c1] = 1-child1[mut_point_c1]\n",
    "        child2[mut_point_c2] = 1-child2[mut_point_c2]\n",
    "    \n",
    "    #Se evaluan los nuevos hijos\n",
    "    eval_child1 = evalbin(child1)\n",
    "    eval_child2 = evalbin(child2)\n",
    "    \n",
    "    #Insercion por reemplazo de los padres.\n",
    "    if(eval_child1 > fa[p1]):\n",
    "        p[p1] = child1\n",
    "        fa[p1] = eval_child1\n",
    "    \n",
    "    if(eval_child2 > fa[p2]):\n",
    "        p[p2] = child2\n",
    "        fa[p2] = eval_child2"
   ]
  },
  {
   "cell_type": "markdown",
   "metadata": {},
   "source": [
    "## 1.5. Mostrar mejor individuo al final de las iteraciones"
   ]
  },
  {
   "cell_type": "code",
   "execution_count": 21,
   "metadata": {},
   "outputs": [
    {
     "name": "stdout",
     "output_type": "stream",
     "text": [
      "La mejor configuración para la bolsa es:  [ 0.  0.  1.  1.  1.  1.  0.]\n",
      "Con una función de aptitud de:  80\n"
     ]
    }
   ],
   "source": [
    "print 'La mejor configuración para la bolsa es: ', p[np.argmax(fa)]\n",
    "print 'Con una función de aptitud de: ', fa[np.argmax(fa)]"
   ]
  },
  {
   "cell_type": "markdown",
   "metadata": {},
   "source": [
    "<hr>\n",
    "# 2. Problema del viajero (representación entera)\n",
    "<img src=\"res/AG/tsp.png\" width=600>\n",
    "Determinar cual es la mejor ruta que minimice el recorrido por las ciudades ubicadas en las siguientes coordenadas: (graficar la solución del recorrido.\n",
    "<img src=\"res/AG/cities.png\" width=600>\n",
    "<br>\n",
    "Para resolver este problema se emplea el algoritmo genético con codificación entera en donde no se repiten los números (no se repiten ciudades). Para evaluar los cromosomas se requiere diseñar la funciona de evaluación.\n",
    "<br>\n",
    "\n",
    "En este problema cada ciudad está representada mediante una coordenada $x$ y una coordenada $y$. La representación del cromosoma para el algoritmo genético será entonces, un vector con el índice de la ciudad según su orden en los vectores $x$ y $y$."
   ]
  },
  {
   "cell_type": "code",
   "execution_count": 33,
   "metadata": {},
   "outputs": [
    {
     "data": {
      "text/plain": [
       "[<matplotlib.lines.Line2D at 0x7eff99077050>]"
      ]
     },
     "execution_count": 33,
     "metadata": {},
     "output_type": "execute_result"
    },
    {
     "data": {
      "image/png": "[encoded data removed]",
      "text/plain": [
       "<matplotlib.figure.Figure at 0x7effbc060550>"
      ]
     },
     "metadata": {},
     "output_type": "display_data"
    }
   ],
   "source": [
    "%matplotlib inline\n",
    "\n",
    "import matplotlib.pyplot as plt\n",
    "\n",
    "x=np.array([1, 1, 1, 1, 2.5, 2.5, 3.5, 3.5, 7.0, 10.0, 7.0, 7.0]) #cities x coordinate\n",
    "y=np.array([1, 3, 7, 8, 7.5, 1.0, 2.0, 8.2, 15.5, 13.5, 12.1, 12]) #cities y coordinate\n",
    "\n",
    "plt.plot(x, y, 'r*')#cities"
   ]
  },
  {
   "cell_type": "markdown",
   "metadata": {},
   "source": [
    "<hr>\n",
    "## 2.1. Funcion de aptitud\n",
    "\n",
    "Para este caso, la función de aptitud de un cromosoma $c$ se define el inverso de la sumatoria de las distancias entre ciudades consecutivas que representa. Por ejemplo, el cromosoma $c = [1, 2, 3]$  representa una ruta que recorre en orden $ciudad_1->ciudad_2->ciudad_3$.\n",
    "\n",
    "En cuyo caso, la función de aptitud sería:\n",
    "\n",
    "$\\frac{1}{\\sqrt{(ciudad_1[x]-ciudad_2[x])^2 + (ciudad_1[y]-ciudad_2[y])^2} + \\sqrt{(ciudad_2[x]-ciudad_3[x])^2 + (ciudad_2[y]-ciudad_3[y])^2}}$ \n",
    "\n",
    "En términos generales, la función de aptitud se define como:\n",
    "$aptitud(x) = \\frac{1}{\\sum{\\sqrt{(ciudad_i[x]-ciudad_{i+1}[x])^2 + (ciudad_i[y]-ciudad_{i+1}[y])^2 }}}$"
   ]
  },
  {
   "cell_type": "code",
   "execution_count": 55,
   "metadata": {
    "collapsed": true
   },
   "outputs": [],
   "source": [
    "import numpy as np\n",
    "\n",
    "def funcion_aptitud(c):\n",
    "    x=np.array([1, 1, 1, 1, 2.5, 2.5, 3.5, 3.5, 7.0, 10.0, 7.0, 7.0]) #coordenadas x de las ciudades\n",
    "    y=np.array([1, 3, 7, 8, 7.5, 1.0, 2.0, 8.2, 15.5, 13.5, 12.1, 12]) #coordenadas y de las ciudades\n",
    "    \n",
    "    #cerremos el ciclo entre ciudades\n",
    "    c = np.append(c,c[0])\n",
    "        \n",
    "    #COMPLETAR: 1 linea\n",
    "    dist_sum = 0 #Esta variable almacenará la sumatoria de las distancias. Inicializar.\n",
    "    \n",
    "    for i in range(len(x)):\n",
    "        #por cada ciudad i, tomar los valores x y y de las ciudades i y la ciuad i+1\n",
    "        #COMPLETAR: 4 lineas\n",
    "        tx1 = None\n",
    "        tx2 = None\n",
    "        ty1 = None\n",
    "        ty2 = None\n",
    "        \n",
    "        #linear distance between 2 adyacent cities\n",
    "        #Utilice np.sqrt para calcular la raiz cuadrada\n",
    "        dist_sum += None\n",
    "    \n",
    "    return 1.0/dist_sum"
   ]
  },
  {
   "cell_type": "code",
   "execution_count": null,
   "metadata": {},
   "outputs": [],
   "source": [
    "cromosoma = np.array([0,1,2,3,4,5,6,7,8,9,10,11])\n",
    "print funcion_aptitud(cromosoma)"
   ]
  },
  {
   "cell_type": "markdown",
   "metadata": {},
   "source": [
    "**Resultado esperado:** 0.0198660493146"
   ]
  },
  {
   "cell_type": "markdown",
   "metadata": {},
   "source": [
    "## 2.2. Inicializar parámetros del algoritmo genético"
   ]
  },
  {
   "cell_type": "code",
   "execution_count": 60,
   "metadata": {
    "collapsed": true
   },
   "outputs": [],
   "source": [
    "ni = 1000 #numero de iteraciones\n",
    "nc = 10 #numero de cromosomas\n",
    "ng = 12 #numero de genes\n",
    "\n",
    "pc = 0.9 #probabilidad de cruce\n",
    "pm = 0.5 #probabilidad de mutacion"
   ]
  },
  {
   "cell_type": "markdown",
   "metadata": {},
   "source": [
    "## 2.3. Inicializar población (p) y calcular la aptitud (fa) de sus individuos\n",
    "\n",
    "En este caso, la población inicial consiste en una matriz de enteros $p_{nc \\times ng}$, con la restricción de que la secuencia de ciudades no puede tener repetición de ciudades. Por ello cada cromosoma es una permutación de ciudades. Pruebe el siguiente código:"
   ]
  },
  {
   "cell_type": "code",
   "execution_count": 67,
   "metadata": {},
   "outputs": [
    {
     "name": "stdout",
     "output_type": "stream",
     "text": [
      "[1 0 2 3]\n"
     ]
    }
   ],
   "source": [
    "cromosoma = np.random.permutation(4)\n",
    "print cromosoma"
   ]
  },
  {
   "cell_type": "code",
   "execution_count": 70,
   "metadata": {
    "collapsed": true
   },
   "outputs": [],
   "source": [
    "seed = 2\n",
    "np.random.seed(seed)\n",
    "\n",
    "fa = np.zeros([nc], dtype=np.float) #vector de aptitudes\n",
    "p = np.zeros([nc, ng], dtype=np.int) #matriz de poblacion\n",
    "\n",
    "for i in range(nc):\n",
    "    #COMPLETAR: 2 lineas\n",
    "    p[i, :] = None #permutacion\n",
    "    fa[i] = None #funcion de aptitud"
   ]
  },
  {
   "cell_type": "code",
   "execution_count": 71,
   "metadata": {},
   "outputs": [
    {
     "name": "stdout",
     "output_type": "stream",
     "text": [
      "[[ 9  5  4  7  1 10  0  3  2  6 11  8]\n",
      " [ 1  0  8  6  2  9  3  7  5 11  4 10]\n",
      " [ 6  7  2  8 11  9  4  0  5  3 10  1]\n",
      " [ 5  3  9  8 10  0  6  7  1 11  2  4]\n",
      " [ 5 11  3  4 10  2  0  6  1  7  8  9]\n",
      " [ 1  5 11  6  4  8  7  2  9  0  3 10]\n",
      " [ 8  4  1 11  0  3  7 10  5  6  9  2]\n",
      " [ 0  7 11  3  9  4  2 10  5  6  1  8]\n",
      " [ 2 10 11  1  7  6  0  9  3  8  5  4]\n",
      " [ 4 11  0  3  2  9 10  7  1  5  6  8]]\n"
     ]
    }
   ],
   "source": [
    "print p"
   ]
  },
  {
   "cell_type": "markdown",
   "metadata": {},
   "source": [
    "**resultado esperado: ** \n",
    "<br>\n",
    "[[ 9  5  4  7  1 10  0  3  2  6 11  8]\n",
    "<br>\n",
    " [ 1  0  8  6  2  9  3  7  5 11  4 10]\n",
    " <br>\n",
    " [ 6  7  2  8 11  9  4  0  5  3 10  1]\n",
    " <br>\n",
    " [ 5  3  9  8 10  0  6  7  1 11  2  4]\n",
    " <br>\n",
    " [ 5 11  3  4 10  2  0  6  1  7  8  9]\n",
    " <br>\n",
    " [ 1  5 11  6  4  8  7  2  9  0  3 10]\n",
    " <br>\n",
    " [ 8  4  1 11  0  3  7 10  5  6  9  2]\n",
    " <br>\n",
    " [ 0  7 11  3  9  4  2 10  5  6  1  8]\n",
    " <br>\n",
    " [ 2 10 11  1  7  6  0  9  3  8  5  4]\n",
    " <br>\n",
    " [ 4 11  0  3  2  9 10  7  1  5  6  8]]\n"
   ]
  },
  {
   "cell_type": "markdown",
   "metadata": {},
   "source": [
    "### 2.4. Ciclo principal del algoritmo genético:\n",
    "**Seleccion->Cruce->Mutación->Evaluación->Inserción**\n",
    "\n",
    "Analizar en clase el siguiente código y:\n",
    "\n",
    "1. Evaluar la convergencia del algoritmo.\n",
    "2. Medir el impacto de los parametros iniciales en la convergencia.\n",
    "3. Implementar la etapa de inserción por reemplazo de los mejores de la población."
   ]
  },
  {
   "cell_type": "code",
   "execution_count": 6,
   "metadata": {
    "collapsed": true
   },
   "outputs": [],
   "source": [
    "for i in range(ni):\n",
    "    #Seleccion: Padre1 - el mejor de la población. Padre2 - aleatorio\n",
    "    p1_index = np.argsort(fa)[::-1][0]\n",
    "    p2_index = np.random.randint(nc)\n",
    "    p1 = p[p1_index]\n",
    "    p2 = p[p2_index]\n",
    "    \n",
    "    #Cruce: un punto\n",
    "    if(np.random.rand() <= pc):\n",
    "        cross_point = np.random.randint(ng)\n",
    "        child1 = p1[0:cross_point]\n",
    "        child2 = p2[0:cross_point]\n",
    "        \n",
    "        init_k = cross_point\n",
    "        \n",
    "        for k in range(ng):\n",
    "            j = (init_k+k)%ng\n",
    "            if not(np.count_nonzero(child1 == p2[j])):\n",
    "                child1 = np.append(child1, p2[j])\n",
    "            \n",
    "            if not(np.count_nonzero(child2 == p1[j])):\n",
    "                child2 = np.append(child2, p1[j])\n",
    "\n",
    "    #Mutacion: cambio de orden\n",
    "    if(np.random.rand() <= pm):\n",
    "        mut_point_c1 = np.random.randint(ng-1)\n",
    "        mut_point_c2 = np.random.randint(ng-1)\n",
    "    \n",
    "        temp = child1[mut_point_c1]\n",
    "        child1[mut_point_c1] = child1[mut_point_c2]\n",
    "        child1[mut_point_c2] = temp\n",
    "        \n",
    "        temp = child2[mut_point_c1]\n",
    "        child2[mut_point_c1] = child2[mut_point_c2]\n",
    "        child2[mut_point_c2] = temp\n",
    "    \n",
    "    #Evaluacion de los hijos\n",
    "    eval_child1 = evalent(child1)\n",
    "    eval_child2 = evalent(child2)\n",
    "    \n",
    "    #Inserción: reemplazo de padres\n",
    "    if(eval_child1 > fa[p1_index]):\n",
    "        p[p1_index] = child1\n",
    "        fa[p1_index] = eval_child1\n",
    "    \n",
    "    if(eval_child2 > fa[p2_index]):\n",
    "        p[p2_index] = child2\n",
    "        fa[p2_index] = eval_child2\n",
    "    \n",
    "    plot_max_fa[i] = fa[np.argmax(fa)]"
   ]
  },
  {
   "cell_type": "markdown",
   "metadata": {},
   "source": [
    "## 2.5. Mostrar mejor individuo al final del ciclo"
   ]
  },
  {
   "cell_type": "code",
   "execution_count": null,
   "metadata": {},
   "outputs": [],
   "source": [
    "print 'La mejor ruta es: ', p[np.argmax(fa)]\n",
    "print 'Con una función de aptitud de: ', fa[np.argmax(fa)]"
   ]
  },
  {
   "cell_type": "code",
   "execution_count": null,
   "metadata": {},
   "outputs": [],
   "source": [
    "'''\n",
    "plot solution\n",
    "'''\n",
    "best_path = p[np.argmax(fa)]\n",
    "plt.plot(x, y, 'r*')#paths\n",
    "plt.plot(x[best_path], y[best_path], 'b')#paths\n",
    "plt.show() "
   ]
  },
  {
   "cell_type": "markdown",
   "metadata": {},
   "source": [
    "<hr>\n",
    "# 3. Problema de minimización de una función real (representación flotante)"
   ]
  },
  {
   "cell_type": "code",
   "execution_count": 51,
   "metadata": {},
   "outputs": [
    {
     "data": {
      "image/png": "[encoded data removed]",
      "text/plain": [
       "<matplotlib.figure.Figure at 0x864cc88>"
      ]
     },
     "metadata": {},
     "output_type": "display_data"
    }
   ],
   "source": [
    "x = np.linspace(-10,10,num=50)\n",
    "y = (x-2.0)**2.0-4.0\n",
    "plt.plot(x,y)\n",
    "plt.show()"
   ]
  },
  {
   "cell_type": "markdown",
   "metadata": {},
   "source": [
    "Lo primero que se requiere es diseñar la función de evaluación. La función recibe un vector x, donde en cada elemento del vector están las variables x1, x2, x3, mejor dicho x=[ x1,x2,x3]. Para obtener el valor x1 del vector x, se escribe x(1), lo mismo se aplica para las otras variables. "
   ]
  },
  {
   "cell_type": "markdown",
   "metadata": {},
   "source": [
    "<hr>\n",
    "### 3.1. Funcion de aptitud"
   ]
  },
  {
   "cell_type": "code",
   "execution_count": 55,
   "metadata": {
    "collapsed": true
   },
   "outputs": [],
   "source": [
    "def evalreal(x):\n",
    "    return (x-2.0)**2.0-4.0"
   ]
  },
  {
   "cell_type": "markdown",
   "metadata": {},
   "source": [
    "### 3.2. Inicializar parámetros del algoritmo genético"
   ]
  },
  {
   "cell_type": "code",
   "execution_count": 57,
   "metadata": {
    "collapsed": true
   },
   "outputs": [],
   "source": [
    "#GA parameters\n",
    "ni = 1000 #number of iterations\n",
    "nc = 100 #number of individuals\n",
    "ng = 1 #number of genes == variable x\n",
    "\n",
    "pc = 0.9\n",
    "pm = 0.5\n",
    "alpha = 0.5 #cross percentage for arithmetic cross\n",
    "\n",
    "#search range\n",
    "a = -10\n",
    "b = 10"
   ]
  },
  {
   "cell_type": "markdown",
   "metadata": {},
   "source": [
    "### 3.3. Inicializar población (p) y calcular la aptitud (fa) de sus individuos"
   ]
  },
  {
   "cell_type": "code",
   "execution_count": 59,
   "metadata": {
    "collapsed": true
   },
   "outputs": [],
   "source": [
    "#initial population\n",
    "p = np.random.rand(nc,ng)\n",
    "p = (b-a)*p + a \n",
    "\n",
    "#initial population evaluation using evalreal\n",
    "fa = evalreal(p)"
   ]
  },
  {
   "cell_type": "markdown",
   "metadata": {},
   "source": [
    "### 3.4. Ciclo principal del algoritmo genético:\n",
    "Seleccion->Cruce->Mutación->Evaluación->Inserción"
   ]
  },
  {
   "cell_type": "code",
   "execution_count": 61,
   "metadata": {
    "collapsed": true
   },
   "outputs": [],
   "source": [
    "for i in range(ni):\n",
    "    #selection: simple - random\n",
    "    p1_index = np.random.randint(nc)\n",
    "    p2_index = np.random.randint(nc)\n",
    "    p1 = p[p1_index]\n",
    "    p2 = p[p2_index]\n",
    "    \n",
    "    #cross\n",
    "    if(np.random.rand() <= pc):\n",
    "        child1 = alpha*p1+(1-alpha)*p2\n",
    "        child2 = alpha*p2+(1-alpha)*p1\n",
    "    \n",
    "    #evaluation\n",
    "    eval_child1 = evalreal(child1)\n",
    "    eval_child2 = evalreal(child2)\n",
    "    \n",
    "    #insertion\n",
    "    if(eval_child1 < fa[p1_index]):\n",
    "        p[p1_index] = child1\n",
    "        fa[p1_index] = eval_child1\n",
    "    \n",
    "    if(eval_child2 < fa[p2_index]):\n",
    "        p[p2_index] = child2\n",
    "        fa[p2_index] = eval_child2\n"
   ]
  },
  {
   "cell_type": "markdown",
   "metadata": {},
   "source": [
    "### 3.5. Mostrar mejor individuo al final del ciclo"
   ]
  },
  {
   "cell_type": "code",
   "execution_count": 62,
   "metadata": {},
   "outputs": [
    {
     "name": "stdout",
     "output_type": "stream",
     "text": [
      "El valor de x que minimiza la función es:  [ 1.99999781]\n",
      "Con una función de aptitud de:  [-4.]\n"
     ]
    }
   ],
   "source": [
    "print 'El valor de x que minimiza la función es: ', p[np.argmin(fa)]\n",
    "print 'Con una función de aptitud de: ', fa[np.argmin(fa)]"
   ]
  },
  {
   "cell_type": "code",
   "execution_count": 66,
   "metadata": {},
   "outputs": [
    {
     "data": {
      "image/png": "[encoded data removed]",
      "text/plain": [
       "<matplotlib.figure.Figure at 0x857d400>"
      ]
     },
     "metadata": {},
     "output_type": "display_data"
    }
   ],
   "source": [
    "x = np.linspace(-10,10,num=50)\n",
    "y = evalreal(x)\n",
    "\n",
    "import matplotlib.pyplot as plt\n",
    "plt.plot(x,y)\n",
    "plt.plot(p[np.argmin(fa)], fa[np.argmin(fa)], 'r*')\n",
    "plt.show()"
   ]
  },
  {
   "cell_type": "code",
   "execution_count": null,
   "metadata": {
    "collapsed": true
   },
   "outputs": [],
   "source": []
  }
 ],
 "metadata": {
  "kernelspec": {
   "display_name": "Python 2",
   "language": "python",
   "name": "python2"
  },
  "language_info": {
   "codemirror_mode": {
    "name": "ipython",
    "version": 2
   },
   "file_extension": ".py",
   "mimetype": "text/x-python",
   "name": "python",
   "nbconvert_exporter": "python",
   "pygments_lexer": "ipython2",
   "version": "2.7.13"
  }
 },
 "nbformat": 4,
 "nbformat_minor": 2
}
