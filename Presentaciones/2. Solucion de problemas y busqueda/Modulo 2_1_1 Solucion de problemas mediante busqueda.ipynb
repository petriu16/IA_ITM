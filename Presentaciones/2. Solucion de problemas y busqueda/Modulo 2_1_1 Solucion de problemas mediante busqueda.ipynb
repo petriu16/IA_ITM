{
 "cells": [
  {
   "cell_type": "markdown",
   "metadata": {},
   "source": [
    "<img src=\"res/itm_logo.jpg\" width=\"300px\">\n",
    "\n",
    "## Inteligencia Artificial - IAI84\n",
    "### Instituto Tecnológico Metropolitano\n",
    "#### Pedro Atencio Ortiz - 2018\n",
    "\n",
    "Este material ha sido construido utilizando material del libro Artificial Intelligence: A modern approach."
   ]
  },
  {
   "cell_type": "markdown",
   "metadata": {},
   "source": [
    "<hr>\n",
    "## Módulo 2: Solución de problemas mediante búsqueda (parte 1)\n",
    "<img src=\"res/problem_solving.gif\" width=\"400px\">\n",
    "## Agenda:\n",
    "<br>\n",
    "<font size=\"4\">\n",
    "<ol>\n",
    "<li>Definición / formulación de problemas</li>\n",
    "<br>\n",
    "<li>Búsqueda de soluciones</li>\n",
    "<br>\n",
    "<li>Estrategias de búsqueda no informada</li>\n",
    "<br>\n",
    "<li>Conclusiones</li>\n",
    "</ol>\n",
    "</font>"
   ]
  },
  {
   "cell_type": "markdown",
   "metadata": {},
   "source": [
    "<hr>\n",
    "# 1. Definición / Formulación de problemas\n",
    "<br>\n",
    "De forma genérica, un problema se puede definir como los estados que puede tomar una realidad y las posibles acciones para alcanzar un estado objetivo. Una solución a dicho problema consiste entonces en encontrar una secuencia de estados y acciones que me lleven del estado inicial al estado objetivo.\n",
    "<br>\n",
    "<br>\n",
    "Por ejemplo, el problema del viajero se puede apreciar en la siguiente figura:\n",
    "<br>\n",
    "<img src=\"res/rumanian_map.png\" width=\"600px\">\n",
    "<br>"
   ]
  },
  {
   "cell_type": "markdown",
   "metadata": {},
   "source": [
    "### 1.1. Terminología\n",
    "- **Espacio del problema** - Es el ambiente en el cual la búsqueda toma lugar, esto es, el conjunto de estados y operadores que cambian dichos estados.\n",
    "- **Estado** - Configuración en el espacio del problema en un instante de tiempo.\n",
    "- **Instancia del problema** - Estado inicial + estado objetivo.\n",
    "- **Profunidad del problema** - Menor camino requerido para resolver el problema, es decir, el menor conjunto de estados que conducen de un estado inicial a un estado objetivo.\n",
    "- **Acción / Operador** - Modificar de un estado del espacio del problema, que conduce de un $estado(t)$ a un $estado (t+1)$.\n",
    "- **Solución** - Secuencia de acciones u operaciones que conducen del estado inicial al estado objetivo.\n",
    "- **Costo** - Métrica que permite definir un valor de calidad de la solución. A mayor costo, peor solución. Por ejemplo, el costo se puede asociar a la profundidad del problema."
   ]
  },
  {
   "cell_type": "markdown",
   "metadata": {},
   "source": [
    "Teniendo en cuenta el mapa anterior y la terminología presentada, supongamos que queremos ir de Arab a Bucharest. Entonces podríamos definir lo siguiente:\n",
    "\n",
    "- **Estado inicial:** Arad\n",
    "- **Estado objetivo:** Bucharest.\n",
    "- **Espacio del problema**:\n",
    "    - **Estados:** Las ciudades.\n",
    "    - **Acciones / Operadores:** Conducir entre ciudades contiguas.\n",
    "- **Solución:** Secuencia de ciudades que conducen de Arad a Bucharest, por ejemplo: $\\left \\{ Arad, Sibiu, Fagaras, Bucharest \\right \\}$\n",
    "- **Costo:** La suma de distancias."
   ]
  },
  {
   "cell_type": "markdown",
   "metadata": {},
   "source": [
    "<hr>\n",
    "## Tipos de problemas\n",
    "Un problema puede ser:\n",
    "<ul>\n",
    "    <li><b><font color=\"green\">Determinísta, totalmente observable: single-state problem</font></b> --- \n",
    "    Siempre se sabe en que estado se estará; la solución es una secuencia. Ejemplo: El problema del viajero</li>\n",
    "    <br>\n",
    "    <li><b><font color=\"green\">No observable: problema de conformidad</font></b> --- Se puede no tener idea de donde se está; Si existe la solución, es una secuencia. Ejemplo: Robot de limpieza.</li>\n",
    "    <br>\n",
    "    <li><b><font color=\"green\">No determinista y/o parcialmente observable: Problema de contingencia</font></b> --- Se puede no tener idea de donde se está; Si existe la solución, es una secuencia. Ejemplo: Navegación autónoma.</li>\n",
    "</ul>\n",
    "<br>\n",
    "<font size=\"3\" color=\"red\"> Las estrategias que trataremos en este módulo, estarán orientadas a resolver problemas de tipo determinísta o single-state.</font>"
   ]
  },
  {
   "cell_type": "markdown",
   "metadata": {},
   "source": [
    "<hr>\n",
    "## Formulación de un problema de tipo determinista\n",
    "De manera formal, <font color=\"red\">un problema se define mediante 4 elementos</font>:\n",
    "<ul>\n",
    "    <li><font color=\"blue\"><b>Estado inicial</b></font>: Por ejemplo, \"en Arad.\"</li>\n",
    "    <br>\n",
    "    <li><font color=\"blue\"><b>Función de secuencia o sucesión</b> $$S(x)$$</font>: Retorna pares de acciones-estados a partir de un estado x.</li>\n",
    "    <br>\n",
    "    $$S(Arad)=\\left \\{ \\left \\langle Arad \\rightarrow Zerind, Zerind \\right \\rangle,... \\right \\}$$\n",
    "    <br>\n",
    "    <li><font color=\"blue\"><b>Objetivo:</b></font>, puede ser:\n",
    "        <ul>\n",
    "            <li><font color=\"green\">Explícito</font>: Ejemplo, $$x = \"Bucharest\"$$</li>\n",
    "            <br>\n",
    "            <li><font color=\"green\">Implícito</font>: Ejemplo, $$Limpio(x)$$</li>\n",
    "        </ul>\n",
    "    </li>\n",
    "    <br>\n",
    "    <li><font color=\"blue\"><b>Costo de ruta(aditivo)</b></font>: Por ejemplo, la suma de las distancias o el número de acciones ejecutadas.</li>\n",
    "    <br>\n",
    "        <li>Una <font color=\"blue\"><b>solución</b></font>: una secuencia que conduce del estado inicial al estado objetivo.</li>\n",
    "</ul>"
   ]
  },
  {
   "cell_type": "markdown",
   "metadata": {},
   "source": [
    "<hr>\n",
    "## Espacio de estados\n",
    "\n",
    "El espacio de estados se refiere a una abstracción que se hace del problema, en el cuál se omiten los detalles que no agregan mayor información al problema y se mantienen los detalles importantes.\n",
    "<br>\n",
    "<br>\n",
    "<center><font size=\"4\" color=\"red\"><i>\"El mundo real es absurdamente complejo! Siempre se requiere abstraer el problema para resolverlo.\"</i></font></center>\n",
    "<br>\n",
    "<br>\n",
    "Por ejemplo, para el problema del viajero se podría considerar solo la distancia entre ciudades para encontrar la mejor solución. En un caso real, habría que considerar factores que van desde la calidad de las vías, hasta condiciones sociales.\n",
    "<br>\n",
    "<br>\n",
    "<a href=\"http://edition.cnn.com/2015/10/05/americas/brazil-wrong-directions-death/index.html\">Las abstracciones no siempre son adecuadas.</a>"
   ]
  },
  {
   "cell_type": "markdown",
   "metadata": {},
   "source": [
    "<hr>\n",
    "### Analicemos y trabajemos:\n",
    "En un espacio de estados muy reducido,se desea que un robot limpie un cuarto. En el siguiente figura se ilustran los posibles estados.\n",
    "<img src=\"res/vacuum_world.png\">\n",
    "<br>\n",
    "Definamos el espacio de estados.\n",
    "<br>\n",
    "<img src=\"res/state_space.png\">\n",
    "<br>\n",
    "<font color=\"red\" size=\"4\">\n",
    "<b>Resolvamos:</b>\n",
    "<ul>\n",
    "<li>Estados?</li>\n",
    "<li>Acciones?</li>\n",
    "<li>Objetivo?</li>\n",
    "<li>Costo de ruta?</li>\n",
    "</ul>\n",
    "</font>"
   ]
  },
  {
   "cell_type": "markdown",
   "metadata": {},
   "source": [
    "<hr>\n",
    "### Analicemos y trabajemos:\n",
    "Rompecabezas de 8 piezas.\n",
    "<img src=\"res/8_puzzle.png\">\n",
    "<br>\n",
    "<font size=\"4\" color=\"red\">\n",
    "<b>Resolvamos:</b>\n",
    "<ul>\n",
    "<li>Estados?</li>\n",
    "<li>Acciones?</li>\n",
    "<li>Objetivo?</li>\n",
    "<li>Costo de ruta?</li>\n",
    "</ul>\n",
    "</font>"
   ]
  },
  {
   "cell_type": "markdown",
   "metadata": {},
   "source": [
    "<hr>\n",
    "## Ejemplo con solución\n",
    "<img src=\"res/example_robotarm.png\">"
   ]
  },
  {
   "cell_type": "markdown",
   "metadata": {},
   "source": [
    "<hr>\n",
    "## Problemas en el mundo real\n",
    "\n",
    "Si bien la formulación de problemas de manera abstracta es útil para desarrollar soluciones generales, cuando se desea pasar a etapa de producción, es necesario considerar los factores reales que debe considerar el problema. Por ejemplo, una formulación real de un problema de navegación en carro dentro de una ciudad debería considerar lo siguiente:\n",
    "\n",
    "- **Estados**: Cada estado incluye la ubicación: calle, carrera, circular, dirección de la vía, etc. y datos GPS.\n",
    "- **Estado inicial**: Estado estimado a partir de la solicitud del usuario.\n",
    "- **Acciones**:  Relacionadas con la navegación espacial: avanzar en metros, cruzar izq., cruzar der., tomar salida $i$, tomar retorno, etc.\n",
    "- **Objetivo**: Estado estimado a partir de la solicitud del usuario.\n",
    "- **Costo de ruta**: Función que tiene en cuenta variables de interés como distancia, tiempo, flujo vehícular, seguridad, número de semáforos, etc.\n",
    "\n",
    "Algunas problemas reales que son extensiones del mapa de rumania son:\n",
    "- Estimación de rutas de entrega de mensajería.\n",
    "- Estimación de rutas de turismo.\n",
    "- Diseño VLSI.\n",
    "- Navegación autónoma.\n",
    "- Diseño de proteínas."
   ]
  },
  {
   "cell_type": "markdown",
   "metadata": {},
   "source": [
    "<hr>\n",
    "# 2. Búsqueda de soluciones\n",
    "El espacio de un problema single-state puede ser expresado como un árbol que representa un mapa de estados que se pueden derivar en secuencia. Encontrar una solución dentro de dicho espacio, consistiría entonces en realizar una búsqueda sobre dicho árbol hasta alcanzar un nodo que contenga un estado solución.\n",
    "\n",
    "## Definiciones:\n",
    "- **Búsqueda**: Una vez formulado el problema, este debe ser resuelto apicando un algoritmo de búsqueda el cuál recibe como parámetro de entrada el estado inicial y el estado objetivo.\n",
    "- **Nodos**: Corresponden a estados del espacio del problema.\n",
    "- **Ramas**: Correponden a acciones u operadores del espacio del problema.\n",
    "- **Expansión del árbol**: A partir del estado actual (**padre**), se debe expandir el nodo generando los posibles estados **hijos** del mismo. Esto se logra utilizando la función de sucesión.\n",
    "- **Hojas**: Definen la **frontera** del problema y pueden ser estados objetivo o no. Las ramas corresponden a los estados presentes en un **lista abierta (OPEN_LIST)**, de estados para expandir.\n",
    "- **Estrategia de búsqueda**: Todos los algoritmos de búsqueda comparten una estructura básica, como se puede observar en la función *Tree-Search*. Sin embargo, los cambios sútiles en cuanto a la forma de recorrer dicho árbol o determinar el próximo nodo a expandir, determina la estrategia de búsqueda.+\n",
    "<img src=\"res/tree_search.png\" width=\"700px\">\n",
    "<center><i>Funcion básica de búsqueda.</i></center>\n",
    "- **Rutas cíclicas $\\subset$ Rutas redundantes**: Es evidente a simple vista que un espacio de estados puede considerar caminos o rutas que se repiten. Por ejemplo, en la siguiente figura se observa que en la tercera expansión del árbol se vuelve a Arad. Esta situación podría generar un loop infinito en la búsqueda, lo que a su vez impediría encontrar la solución al problema.  Sin embargo, un análisis simple revela que, sabiendo que el costo de ruta siempre será aditivo y no negativo, una ruta cíclica nunca será mejor que la misma ruta sin dicho cíclo. Este tipo de ruta es un caso específico de una familia de rutas denominada rutas redundantes. \n",
    "\n",
    "<img src=\"res/search_example1.png\" width=\"700px\">\n",
    "<img src=\"res/search_example2.png\" width=\"700px\">\n",
    "<img src=\"res/search_example3.png\" width=\"700px\">\n",
    "<center>Ejemplo de búsqueda: Mapa de rumania</center>"
   ]
  },
  {
   "cell_type": "markdown",
   "metadata": {},
   "source": [
    "<hr>\n",
    "### Discusión en clase\n",
    "- Que relación tiene el patrón de diseño estrategia con el método Tree-Search?\n",
    "- Cómo podríamos utilizar este patrón para el propósito de este curso?\n",
    "\n",
    "<center><img src=\"res/Strategy_Pattern.jpg\" width=\"500\"></center>\n",
    "<center>Tomado de wikipedia.</center>\n",
    "\n",
    "<a href=\"https://sourcemaking.com/design_patterns/strategy/python/1\">patrón de diseño (estrategia)</a>"
   ]
  },
  {
   "cell_type": "markdown",
   "metadata": {},
   "source": [
    "<hr>\n",
    "## 2.1. Búsqueda en árboles y gráfos (Análisis)\n",
    "<br>\n",
    "<center><img src=\"res/tree_graph_search.png\" width=\"700\"></center>\n",
    "<center>Tomado del libro: Artificial Intelligence - A Modern Approach</center>"
   ]
  },
  {
   "cell_type": "markdown",
   "metadata": {},
   "source": [
    "<hr>\n",
    "## 2.2. Infraestructura\n",
    "\n",
    "La implementación de un árbol del espacio del problema, requiere la utilización de una estructura de datos general. sea $n$ una estructura de datos tal que:\n",
    "<br>\n",
    "- **n.estado**: Es una representación de una configuración física del mundo. Generalmente se representa con una estructura de datos.\n",
    "- **nodo.padre**: El nodo a partir del cuál se generó este nodo.\n",
    "- **nodo.accion**: La acción que fue aplicada al padre para generar este nodo.\n",
    "- **nodo.costo_ruta**: El costo tradicionalmente denominado $g(nodo)$, desde el estado inicial al nodo actual.\n",
    "<br>\n",
    "<center><img src=\"res/node_structure.png\"></center>\n",
    "<center>Tomado del libro: Artificial Intelligence - A Modern Approach</center>\n",
    "<br>\n",
    "- **Generación de hijos**: Una función que utiliza la función de sucesión para generar todos los hijos de un nodo $n$, inicializando algunos valores como el costo.\n",
    "<br><br>\n",
    "<center><img src=\"res/child_function.png\" width=\"600\"></center>\n",
    "<center>Tomado del libro: Artificial Intelligence - A Modern Approach</center>"
   ]
  },
  {
   "cell_type": "markdown",
   "metadata": {},
   "source": [
    "<hr>\n",
    "## Estrategias de búsqueda\n",
    "<br>\n",
    "<font size=\"3\">\n",
    "Una estrategia se define según la forma que realice la expansión del árbol de búsqueda. Las estrategias pueden ser evaluadas de acuerdo a los siguientes criterios:\n",
    "<br>\n",
    "<ul>\n",
    "    <li><font color=blue><b>Completitud(completeness)</b></font>---Siempre encuentra una solución si existe?</li>\n",
    "    <br>\n",
    "    <li><font color=blue><b>Complejidad(tiempo)</b></font>---Número de acciones que se requirió para encontrar la solución.</li>\n",
    "    <br>\n",
    "    <li><font color=blue><b>Complejidad(espacio)</b></font>---Máximo número de nodos en memoria.</li>\n",
    "    <br>\n",
    "    <li><font color=blue><b>Optimalidad(optimality)</b></font>---Siempre encuentra una solución de menor costo?</li>\n",
    "</ul>\n",
    "<br>\n",
    "Las complejidades temporal y espacial se miden en términos de:\n",
    "<br>\n",
    "<ul>\n",
    "    <li><font color=red><b><i>b</i></b></font>---Máximo factor de ramificación.</li>\n",
    "    <br>\n",
    "    <li><font color=red><b><i>d</b></i></font>---Profundidad de la solución de menor costo.</li>\n",
    "    <br>\n",
    "    <li><font color=red><b><i>m</b></i></font>---Máxima profundidad del espacio de estados.</li>\n",
    "    <br>\n",
    "</ul>\n",
    "\n",
    "\n",
    "</font>"
   ]
  },
  {
   "cell_type": "markdown",
   "metadata": {},
   "source": [
    "<hr>\n",
    "# 3. Estrategias de búsqueda no-informada\n",
    "<br>\n",
    "Esta familia de estrategias, utilizan solo la información que se dispone al momento de definir el problema.\n",
    "<br>\n",
    "<font color=\"blue\">\n",
    "<ul>\n",
    "    <li>Breadth-first search</li>\n",
    "    <li>Uniform-cost search</li>\n",
    "    <li>Depth-first search</li>\n",
    "    <li>Depth-limited search</li>\n",
    "    <li>Iterative deepening search</li>\n",
    "</ul>\n",
    "</font>\n"
   ]
  },
  {
   "cell_type": "markdown",
   "metadata": {},
   "source": [
    "<hr>\n",
    "## Breadth First Search (BFS)\n",
    "<br>\n",
    "Se expanden el árbol de forma horizontal, utilizando una lista FIFO, en la cual los nuevos estados van al final.\n",
    "<br><br>\n",
    "<center><img src=\"res/bfs_pseudocode.png\" width=\"600\"></center>\n",
    "<center>Tomado del libro: Artificial Intelligence - A Modern Approach</center>"
   ]
  },
  {
   "cell_type": "code",
   "execution_count": null,
   "metadata": {},
   "outputs": [],
   "source": [
    "%matplotlib inline\n",
    "\n",
    "import numpy as np\n",
    "import matplotlib.pyplot as plt\n",
    "import skimage.io\n",
    "\n",
    "fig, arreglo_plots = plt.subplots(1,3, figsize=(20, 10))\n",
    "I1 = skimage.io.imread(\"res/bfs_1.png\")\n",
    "arreglo_plots[0].imshow(I1, cmap=\"gray\")\n",
    "I2 = skimage.io.imread(\"res/bfs_2.png\")\n",
    "arreglo_plots[1].imshow(I2, cmap=\"gray\")\n",
    "I3 = skimage.io.imread(\"res/bfs_3.png\")\n",
    "arreglo_plots[2].imshow(I3, cmap=\"gray\")"
   ]
  },
  {
   "cell_type": "code",
   "execution_count": null,
   "metadata": {},
   "outputs": [],
   "source": [
    "'''\n",
    "Breadth-First Search.\n",
    "Author: Pedro Atencio\n",
    "Copyright 2017\n",
    "'''\n",
    "\n",
    "'''\n",
    "TODO:\n",
    "    1. Agregar el padre del nodo y una funcion para retornar la ruta hasta la raiz\n",
    "    2. Implementar patron de estrategia\n",
    "'''\n",
    "class SimpleTree():\n",
    "\n",
    "    def __init__(self,value):\n",
    "     self.rootid = value\n",
    "     self.value = value\n",
    "     self.child = [] #lista simple: se puede convertir en un diccionario\n",
    "\n",
    "    def addEdge(self, value):\n",
    "        c = SimpleTree(value)\n",
    "        self.child.append(c)\n",
    "\n",
    "    def getEdge(self, child_index):\n",
    "        return self.child[child_index]\n",
    "\n",
    "def BFS(T, goal):\n",
    "    q = []\n",
    "    q.append(T)\n",
    "    while(len(q) != 0):\n",
    "        nodo = q.pop(0)\n",
    "        print(nodo.value)\n",
    "        if(nodo.value == goal):\n",
    "            break\n",
    "        n = len(nodo.child)\n",
    "        for i in range(n):\n",
    "            q.append(nodo.getEdge(i))\n",
    "\n",
    "T = SimpleTree('A')\n",
    "T.addEdge('B')\n",
    "T.addEdge('C')\n",
    "\n",
    "B = T.getEdge(0)\n",
    "B.addEdge('D')\n",
    "D = B.getEdge(0)\n",
    "D.addEdge('G')\n",
    "D.addEdge('H')\n",
    "\n",
    "C = T.getEdge(1)\n",
    "C.addEdge('E')\n",
    "C.addEdge('F')\n",
    "\n",
    "BFS(T, 'H')    "
   ]
  },
  {
   "cell_type": "markdown",
   "metadata": {},
   "source": [
    "<hr>\n",
    "## Propiedades de BFS\n",
    "<br>\n",
    "<img src=\"res/bfs_properties.png\" width=\"600\">"
   ]
  },
  {
   "cell_type": "markdown",
   "metadata": {},
   "source": [
    "<hr>\n",
    "## Uniform Cost Search (UCS)\n",
    "<br>\n",
    "Equivalente a una búsqueda uniforme en la cuál, la lista es organizada en forma ascendente, tomando como valor, los costos de ir de un estado a otro. Para ello las transiciones entre estados deben estar valoradas. Por ejemplo, en el problema del viajero, el costo se puede asociar a la distancia.\n",
    "\n",
    "Una búsqueda de tipo BFS equivale a una búsqueda UCS con costo igual a 1 para todos los nodos.\n",
    "### Propiedades\n",
    "<img src=\"res/ucs_properties.png\" width=\"600\">"
   ]
  },
  {
   "cell_type": "markdown",
   "metadata": {},
   "source": [
    "<hr>\n",
    "## Trabajemos\n",
    "<ul>\n",
    "<li>Cual es la ruta que encuentra el algoritmo UCS para el siguiente árbol, siendo el estado objetivo G?</li>\n",
    "<li>Es igual al resultado del algoritmo BFS?</li>\n",
    "</ul>\n",
    "<br>\n",
    "<img src=\"res/ucs_example.png\" width=\"300px\">"
   ]
  },
  {
   "cell_type": "markdown",
   "metadata": {},
   "source": [
    "<hr>\n",
    "## Depth First Search\n",
    "Se expanden el árbol de forma vertical, utilizando una LIFO o pila, en la cual los nuevos estados se expanden de primero."
   ]
  },
  {
   "cell_type": "code",
   "execution_count": null,
   "metadata": {},
   "outputs": [],
   "source": [
    "%matplotlib inline\n",
    "\n",
    "import numpy as np\n",
    "import matplotlib.pyplot as plt\n",
    "import skimage.io\n",
    "\n",
    "fig, arreglo_plots = plt.subplots(2,2, figsize=(20, 10))\n",
    "I1 = skimage.io.imread(\"res/dfs_1.png\")\n",
    "arreglo_plots[0,0].imshow(I1, cmap=\"gray\")\n",
    "I2 = skimage.io.imread(\"res/dfs_2.png\")\n",
    "arreglo_plots[0,1].imshow(I2, cmap=\"gray\")\n",
    "I3 = skimage.io.imread(\"res/dfs_3.png\")\n",
    "arreglo_plots[1,0].imshow(I3, cmap=\"gray\")\n",
    "I4 = skimage.io.imread(\"res/dfs_4.png\")\n",
    "arreglo_plots[1,1].imshow(I4, cmap=\"gray\")"
   ]
  },
  {
   "cell_type": "code",
   "execution_count": null,
   "metadata": {
    "scrolled": true
   },
   "outputs": [],
   "source": [
    "'''\n",
    "Depth-First Search.\n",
    "Author: Pedro Atencio\n",
    "Copyright 2017\n",
    "'''\n",
    "\n",
    "'''\n",
    "TODO:\n",
    "    1. Agregar el padre del nodo y una funcion para retornar la ruta hasta la raiz\n",
    "    2. Implementar patron de estrategia\n",
    "'''\n",
    "\n",
    "class SimpleTree():\n",
    "\n",
    "    def __init__(self,value):\n",
    "     self.rootid = value\n",
    "     self.value = value\n",
    "     self.child = [] #lista simple: se puede convertir en un diccionario\n",
    "\n",
    "    def addEdge(self, value):\n",
    "        c = SimpleTree(value)\n",
    "        self.child.append(c)\n",
    "\n",
    "    def getEdge(self, child_index):\n",
    "        return self.child[child_index]\n",
    "\n",
    "\n",
    "def DFS(T, goal):\n",
    "    stack = []\n",
    "    stack.append(T)\n",
    "    while(len(stack) != 0):\n",
    "        nodo = stack.pop()\n",
    "        print(nodo.value)\n",
    "        if(nodo.value == goal):\n",
    "            break\n",
    "        n = len(nodo.child)\n",
    "        for i in reversed(range(n)):\n",
    "            stack.append(nodo.getEdge(i))\n",
    "\n",
    "\n",
    "T = SimpleTree('A')\n",
    "T.addEdge('B')\n",
    "T.addEdge('C')\n",
    "\n",
    "B = T.getEdge(0)\n",
    "B.addEdge('D')\n",
    "D = B.getEdge(0)\n",
    "D.addEdge('G')\n",
    "D.addEdge('H')\n",
    "\n",
    "C = T.getEdge(1)\n",
    "C.addEdge('E')\n",
    "C.addEdge('F')\n",
    "\n",
    "DFS(T, 'E')"
   ]
  },
  {
   "cell_type": "markdown",
   "metadata": {},
   "source": [
    "<hr>\n",
    "## Propiedades\n",
    "<img src=\"res/dfs_properties.png\" width=\"600px\">"
   ]
  },
  {
   "cell_type": "markdown",
   "metadata": {},
   "source": [
    "<hr>\n",
    "## Depth-Limited Search (DLS)\n",
    "Esta estrategia añade una restricción a la búsqueda DFS, que consiste en validar la profundad del nodo actual. Si dicha profundidad o altura es superior a una altura limite definida por el usuario, entonces se descarta el nodo actual."
   ]
  },
  {
   "cell_type": "code",
   "execution_count": null,
   "metadata": {},
   "outputs": [],
   "source": [
    "'''\n",
    "Depth-Limited Search.\n",
    "Author: Pedro Atencio\n",
    "Copyright 2017\n",
    "'''\n",
    "\n",
    "'''\n",
    "TODO:\n",
    "    1. Agregar el padre del nodo y una funcion para retornar la ruta hasta la raiz\n",
    "    2. Implementar patron de estrategia\n",
    "'''\n",
    "\n",
    "class SimpleTree():\n",
    "\n",
    "    def __init__(self,value,parent=None):\n",
    "        self.rootid = value\n",
    "        self.value = value\n",
    "        self.child = [] #lista simple: se puede convertir en un diccionario\n",
    "        self.parent = parent\n",
    "        if parent == None:\n",
    "            self.h = 0\n",
    "        else:\n",
    "            self.h = parent.h + 1\n",
    "    \n",
    "\n",
    "    def addEdge(self, value):\n",
    "        c = SimpleTree(value, self)\n",
    "        self.child.append(c)\n",
    "\n",
    "    def getEdge(self, child_index):\n",
    "        return self.child[child_index]\n",
    "\n",
    "\n",
    "def DLS(T, goal, l):\n",
    "    stack = []\n",
    "    stack.append(T)\n",
    "    while(len(stack) != 0):\n",
    "        nodo = stack.pop()\n",
    "        if(nodo.h > l):\n",
    "            continue\n",
    "        print(nodo.value)\n",
    "        if(nodo.value == goal):\n",
    "            break\n",
    "        n = len(nodo.child)\n",
    "        for i in reversed(range(n)):\n",
    "            stack.append(nodo.getEdge(i))\n",
    "\n",
    "\n",
    "T = SimpleTree('A')\n",
    "T.addEdge('B')\n",
    "T.addEdge('C')\n",
    "\n",
    "B = T.getEdge(0)\n",
    "B.addEdge('D')\n",
    "D = B.getEdge(0)\n",
    "D.addEdge('G')\n",
    "D.addEdge('H')\n",
    "\n",
    "C = T.getEdge(1)\n",
    "C.addEdge('E')\n",
    "C.addEdge('F')\n",
    "\n",
    "DLS(T, 'E', 1)"
   ]
  },
  {
   "cell_type": "markdown",
   "metadata": {},
   "source": [
    "<hr>\n",
    "## Iterative Deepening Search (IDS)\n",
    "La estrategia DLS puede no encontrar una solución si la altura <font color=\"red\">l</font> es inferior al nivel donde se encuentra el estado objeto. Una solución a este problema, consiste en iterar sobre el valor <font color=\"red\">l</font> hasta que se encuentre el objetivo. De esta forma si la solución no se encuentra en <font color=\"red\">l=1</font>, se procede a buscar en <font color=\"red\">l=2</font>, hasta terminar.\n",
    "<br>\n",
    "<img src=\"res/ids_algorithm.png\" width=\"600px\">"
   ]
  },
  {
   "cell_type": "code",
   "execution_count": null,
   "metadata": {},
   "outputs": [],
   "source": [
    "%matplotlib inline\n",
    "\n",
    "import numpy as np\n",
    "import matplotlib.pyplot as plt\n",
    "import skimage.io\n",
    "\n",
    "fig, arreglo_plots = plt.subplots(3,1,figsize=(20, 25))\n",
    "I1 = skimage.io.imread(\"res/ids_1.png\")\n",
    "arreglo_plots[0].imshow(I1, cmap=\"gray\")\n",
    "I2 = skimage.io.imread(\"res/ids_2.png\")\n",
    "arreglo_plots[1].imshow(I2, cmap=\"gray\")\n",
    "I3 = skimage.io.imread(\"res/ids_3.png\")\n",
    "arreglo_plots[2].imshow(I3, cmap=\"gray\")"
   ]
  },
  {
   "cell_type": "markdown",
   "metadata": {},
   "source": [
    "<hr>\n",
    "## Propiedades\n",
    "<img src=\"res/ids_properties.png\" width=\"600px\">"
   ]
  },
  {
   "cell_type": "markdown",
   "metadata": {},
   "source": [
    "<hr>\n",
    "## Trabajemos\n",
    "Implementar en clase el algoritmo IDS, utilizando como base la implementación de DLS."
   ]
  },
  {
   "cell_type": "markdown",
   "metadata": {},
   "source": [
    "<hr>\n",
    "# 4. Conclusiones\n",
    "<img src=\"res/comparison.png\" width=\"600px\">\n",
    "<br>\n",
    "Se debe tener cuidado con el control de ciclos infinitos entre nodos, que pueden convertir problemas lineas en problemas exponenciales!\n",
    "<img src=\"res/loop_control.png\" width=\"600px\">\n",
    "<br>\n",
    "Los árboles son casos especiales de una estructura de datos más compleja: los grafos. Los grafos presentan mayor capacidad para generalizar problemas, por lo que modificar las estrategias de búsqueda para trabajar con grafos será más eficiente.\n",
    "<img src=\"res/graph_search.png\" width=\"600px\">"
   ]
  },
  {
   "cell_type": "markdown",
   "metadata": {},
   "source": [
    "<hr>\n",
    "<font size=\"4\">\n",
    "<ul>\n",
    "    <li>La formulación de problemas requiere abstraer detalles del mundo real para poder definir espacios de estados que puedan ser tratables en tiempo computacionales factibles.</li>\n",
    "    <br>\n",
    "<li>Existen estrategias de búsqueda. Una de las más conocidas son las estrategias no informadas.</li>\n",
    "<br>\n",
    "<li>La búsqueda en forma de grafo, puede ser exponencialmente más eficiente que la búsqueda en árboles.</li>\n",
    "</ul>\n",
    "</font>"
   ]
  },
  {
   "cell_type": "markdown",
   "metadata": {},
   "source": [
    "<hr>\n",
    "## Visualización\n",
    "<a href = \"https://visualgo.net/en/dfsbfs\">VisuAlgo</a>"
   ]
  },
  {
   "cell_type": "code",
   "execution_count": null,
   "metadata": {
    "collapsed": true
   },
   "outputs": [],
   "source": []
  }
 ],
 "metadata": {
  "kernelspec": {
   "display_name": "Python 2",
   "language": "python",
   "name": "python2"
  },
  "language_info": {
   "codemirror_mode": {
    "name": "ipython",
    "version": 2
   },
   "file_extension": ".py",
   "mimetype": "text/x-python",
   "name": "python",
   "nbconvert_exporter": "python",
   "pygments_lexer": "ipython2",
   "version": "2.7.13"
  }
 },
 "nbformat": 4,
 "nbformat_minor": 2
}
