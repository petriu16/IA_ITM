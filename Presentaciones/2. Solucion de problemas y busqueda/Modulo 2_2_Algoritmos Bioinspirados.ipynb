{
 "cells": [
  {
   "cell_type": "markdown",
   "metadata": {},
   "source": [
    "<img src=\"res/itm_logo.jpg\" width=\"300px\">\n",
    "\n",
    "## Inteligencia Artificial - IAI84\n",
    "### Instituto Tecnológico Metropolitano\n",
    "#### Pedro Atencio Ortiz - 2018\n",
    "\n",
    "<font size=1>Parte de este material es autoría del profesor Cristian Guarnizo de la Universidad Tecnológica de Pereira. A él damos créditos.</font>\n",
    "\n",
    "En este notebook se implementan tres casos de algoritmos genéticos:\n",
    "<ul>\n",
    "    <li>Problema de la bolsa.</li>\n",
    "    <li>Problema del viajero.</li>\n",
    "    <li>Problema de minimización de una función real.</li>\n",
    "</ul>"
   ]
  },
  {
   "cell_type": "markdown",
   "metadata": {},
   "source": [
    "<hr>\n",
    "## Módulo 2_2: Algoritmos Bioinspirados - Algoritmos genéticos\n",
    "<img src=\"res/AG/algorithm.png\" width=\"600px\">"
   ]
  },
  {
   "cell_type": "markdown",
   "metadata": {
    "collapsed": true
   },
   "source": [
    "<hr>\n",
    "## 1.Problema de la Bolsa\n",
    "Determinar para cada caso cuales objetos se deben llevar, maximizando la suma de los valores de los elementos sin sobrepasar la capacidad.\n",
    "<img src=\"res/AG/bolsa.png\" width=400>\n",
    "En este problema se requiere maximizar el beneficio sin sobrepasar la capacidad. Se emplea el algoritmo genético con codificación binaria (genbin), debido que la codificación binaria me permite con 1 lógico incluir el elemento, y con un 0 excluirlo. Finalmente se encuentra que elementos se deben agregar de tal forma que se maximice el beneficio. "
   ]
  },
  {
   "cell_type": "markdown",
   "metadata": {},
   "source": [
    "<hr>\n",
    "### 1.1. Funcion de aptitud"
   ]
  },
  {
   "cell_type": "code",
   "execution_count": 1,
   "metadata": {
    "collapsed": true
   },
   "outputs": [],
   "source": [
    "'''\n",
    "Program: Genetic Algorithm binary cromosome evaluation function\n",
    "         for bag problem.\n",
    "Author: Pedro Atencio\n",
    "Copyright 2017\n",
    "'''\n",
    "import numpy as np\n",
    "\n",
    "def evalbin(x):\n",
    "    a=np.array([28, 11, 15, 19, 5, 3, 8]) #element size array\n",
    "    c=np.array([40, 22, 30, 37, 8, 5, 12]) #element benefit array\n",
    "    b=44 #load limit (constraint)\n",
    "    \n",
    "    #1 - include element, 0 - not include element\n",
    "\n",
    "    #if array x does not satisfy size constraint\n",
    "    if (np.sum(a*x) > b):\n",
    "        val=0\n",
    "    else: #if it does\n",
    "        val=np.sum(c*x)\n",
    "    \n",
    "    return val"
   ]
  },
  {
   "cell_type": "markdown",
   "metadata": {},
   "source": [
    "### 1.2. Inicializar parámetros del algoritmo genético"
   ]
  },
  {
   "cell_type": "code",
   "execution_count": 22,
   "metadata": {
    "collapsed": true
   },
   "outputs": [],
   "source": [
    "'''\n",
    "Program: Genetic Algorithm for bag problem.\n",
    "Author: Pedro Atencio\n",
    "Copyright 2017\n",
    "'''\n",
    "\n",
    "#GA parameters\n",
    "ni = 100 #number of iterations\n",
    "nc = 10 #number of individuals\n",
    "ng = 7 #number of genes == items in problem\n",
    "\n",
    "pc = 0.9\n",
    "pm = 0.5"
   ]
  },
  {
   "cell_type": "markdown",
   "metadata": {},
   "source": [
    "### 1.3. Inicializar población (p) y calcular la aptitud (fa) de sus individuos"
   ]
  },
  {
   "cell_type": "code",
   "execution_count": 15,
   "metadata": {
    "collapsed": true
   },
   "outputs": [],
   "source": [
    "p = np.zeros([nc, ng])\n",
    "\n",
    "fa = np.zeros([nc], dtype=np.int)\n",
    "for i in range(nc):\n",
    "    fa[i] = evalbin(p[i,:])"
   ]
  },
  {
   "cell_type": "markdown",
   "metadata": {},
   "source": [
    "### 1.4. Ciclo principal del algoritmo genético:\n",
    "Seleccion->Cruce->Mutación->Evaluación->Inserción"
   ]
  },
  {
   "cell_type": "code",
   "execution_count": 20,
   "metadata": {
    "collapsed": true
   },
   "outputs": [],
   "source": [
    "for i in range(ni):\n",
    "    #selection - simple random selection\n",
    "    p1 = np.random.randint(nc-1)\n",
    "    p2 = np.random.randint(nc-1)\n",
    "    \n",
    "    #crossing - One Point\n",
    "    if(np.random.rand() <= pc):\n",
    "        cross_point = np.random.randint(ng)\n",
    "        child1 = np.append(p[p1, 0:cross_point], p[p2, cross_point:])\n",
    "        child2 = np.append(p[p2, 0:cross_point], p[p1, cross_point:])\n",
    "        \n",
    "    #mutation - Bit Inversion\n",
    "    if(np.random.rand() <= pm):\n",
    "        mut_point_c1 = np.random.randint(ng-1)\n",
    "        mut_point_c2 = np.random.randint(ng-1)\n",
    "        \n",
    "        child1[mut_point_c1] = 1-child1[mut_point_c1]\n",
    "        child2[mut_point_c2] = 1-child2[mut_point_c2]\n",
    "    \n",
    "    #evaluation\n",
    "    eval_child1 = evalbin(child1)\n",
    "    eval_child2 = evalbin(child2)\n",
    "    \n",
    "    #insertion - Max\n",
    "    if(eval_child1 > fa[p1]):\n",
    "        p[p1] = child1\n",
    "        fa[p1] = eval_child1\n",
    "    \n",
    "    if(eval_child2 > fa[p2]):\n",
    "        p[p2] = child2\n",
    "        fa[p2] = eval_child2"
   ]
  },
  {
   "cell_type": "markdown",
   "metadata": {},
   "source": [
    "### 1.5. Mostrar mejor individuo al final del ciclo"
   ]
  },
  {
   "cell_type": "code",
   "execution_count": 21,
   "metadata": {},
   "outputs": [
    {
     "name": "stdout",
     "output_type": "stream",
     "text": [
      "La mejor configuración para la bolsa es:  [ 0.  0.  1.  1.  1.  1.  0.]\n",
      "Con una función de aptitud de:  80\n"
     ]
    }
   ],
   "source": [
    "print 'La mejor configuración para la bolsa es: ', p[np.argmax(fa)]\n",
    "print 'Con una función de aptitud de: ', fa[np.argmax(fa)]"
   ]
  },
  {
   "cell_type": "markdown",
   "metadata": {},
   "source": [
    "<hr>\n",
    "## 2. Problema del viajero\n",
    "<img src=\"res/AG/tsp.png\" width=600>\n",
    "Determinar cual es la mejor ruta que minimice el recorrido por las ciudades ubicadas en las siguientes coordenadas: (graficar la solución del recorrido.\n",
    "<img src=\"res/AG/cities.png\" width=600>\n",
    "<br>\n",
    "Para resolver este problema se emplea el algoritmo genético con codificación entera en donde no se repiten los números (no se repiten ciudades). Para evaluar los cromosomas se requiere diseñar la funciona de evaluación."
   ]
  },
  {
   "cell_type": "code",
   "execution_count": 2,
   "metadata": {},
   "outputs": [
    {
     "data": {
      "text/plain": [
       "[<matplotlib.lines.Line2D at 0x7f5c710>]"
      ]
     },
     "execution_count": 2,
     "metadata": {},
     "output_type": "execute_result"
    },
    {
     "data": {
      "image/png": "[encoded data removed]",
      "text/plain": [
       "<matplotlib.figure.Figure at 0x7d06c50>"
      ]
     },
     "metadata": {},
     "output_type": "display_data"
    }
   ],
   "source": [
    "'''\n",
    "plot problem\n",
    "'''\n",
    "\n",
    "%matplotlib inline\n",
    "\n",
    "import matplotlib.pyplot as plt\n",
    "\n",
    "x=np.array([1, 1, 1, 1, 2.5, 2.5, 3.5, 3.5, 7.0, 10.0, 7.0, 7.0]) #cities x coordinate\n",
    "y=np.array([1, 3, 7, 8, 7.5, 1.0, 2.0, 8.2, 15.5, 13.5, 12.1, 12]) #cities y coordinate\n",
    "\n",
    "plt.plot(x, y, 'r*')#cities"
   ]
  },
  {
   "cell_type": "markdown",
   "metadata": {},
   "source": [
    "<hr>\n",
    "### 2.1. Funcion de aptitud"
   ]
  },
  {
   "cell_type": "code",
   "execution_count": 3,
   "metadata": {
    "collapsed": true
   },
   "outputs": [],
   "source": [
    "'''\n",
    "Program: Genetic Algorithm integer cromosome evaluation function\n",
    "         for travel salesman problem.\n",
    "Author: Pedro Atencio\n",
    "Copyright 2017\n",
    "'''\n",
    "import numpy as np\n",
    "\n",
    "def evalent(ind):\n",
    "    x=np.array([1, 1, 1, 1, 2.5, 2.5, 3.5, 3.5, 7.0, 10.0, 7.0, 7.0]) #cities x coordinate\n",
    "    y=np.array([1, 3, 7, 8, 7.5, 1.0, 2.0, 8.2, 15.5, 13.5, 12.1, 12]) #cities y coordinate\n",
    "    \n",
    "    #close loop between cities\n",
    "    ind = np.append(ind,ind[0])\n",
    "    \n",
    "    dist_sum = 0 #sum of distances of path\n",
    "    \n",
    "    for i in range(len(x)):\n",
    "        #cities index\n",
    "        tx1 = x[ind[i]]\n",
    "        tx2 = x[ind[i+1]]\n",
    "        ty1 = y[ind[i]]\n",
    "        ty2 = y[ind[i+1]]\n",
    "        \n",
    "        #linear distance between 2 adyacent cities\n",
    "        dist_sum += np.sqrt( (tx1-tx2)**2 + (ty1-ty2)**2 )\n",
    "    \n",
    "    return 1.0/dist_sum"
   ]
  },
  {
   "cell_type": "markdown",
   "metadata": {},
   "source": [
    "### 2.2. Inicializar parámetros del algoritmo genético"
   ]
  },
  {
   "cell_type": "code",
   "execution_count": 4,
   "metadata": {
    "collapsed": true
   },
   "outputs": [],
   "source": [
    "#GA parameters\n",
    "ni = 1000 #number of iterations\n",
    "nc = 100 #number of individuals\n",
    "ng = 12 #number of genes == cities\n",
    "\n",
    "pc = 0.9\n",
    "pm = 0.5\n",
    "\n",
    "#plot variable\n",
    "plot_max_fa = np.zeros([ni])"
   ]
  },
  {
   "cell_type": "markdown",
   "metadata": {},
   "source": [
    "### 2.3. Inicializar población (p) y calcular la aptitud (fa) de sus individuos"
   ]
  },
  {
   "cell_type": "code",
   "execution_count": 5,
   "metadata": {
    "collapsed": true
   },
   "outputs": [],
   "source": [
    "fa = np.zeros([nc], dtype=np.float)\n",
    "p = np.zeros([nc, ng], dtype=np.int)\n",
    "#population initialization and aptitude function calculated\n",
    "for i in range(nc):\n",
    "    p[i, :] = np.random.permutation(ng) \n",
    "    fa[i] = evalent(p[i])"
   ]
  },
  {
   "cell_type": "markdown",
   "metadata": {},
   "source": [
    "### 2.4. Ciclo principal del algoritmo genético:\n",
    "Seleccion->Cruce->Mutación->Evaluación->Inserción"
   ]
  },
  {
   "cell_type": "code",
   "execution_count": 6,
   "metadata": {
    "collapsed": true
   },
   "outputs": [],
   "source": [
    "for i in range(ni):\n",
    "    #selection - best selection (parent1)\n",
    "    p1_index = np.argsort(fa)[::-1][0]\n",
    "    p2_index = np.random.randint(nc)\n",
    "    p1 = p[p1_index]\n",
    "    p2 = p[p2_index]\n",
    "    \n",
    "    #cross: permutation one point\n",
    "    if(np.random.rand() <= pc):\n",
    "        cross_point = np.random.randint(ng)\n",
    "        child1 = p1[0:cross_point]\n",
    "        child2 = p2[0:cross_point]\n",
    "        \n",
    "        init_k = cross_point\n",
    "        for k in range(ng):\n",
    "            j = (init_k+k)%ng\n",
    "            if not(np.count_nonzero(child1 == p2[j])):\n",
    "                child1 = np.append(child1, p2[j])\n",
    "            \n",
    "            if not(np.count_nonzero(child2 == p1[j])):\n",
    "                child2 = np.append(child2, p1[j])\n",
    "\n",
    "    #mutation: order change\n",
    "    if(np.random.rand() <= pm):\n",
    "        mut_point_c1 = np.random.randint(ng-1)\n",
    "        mut_point_c2 = np.random.randint(ng-1)\n",
    "    \n",
    "        temp = child1[mut_point_c1]\n",
    "        child1[mut_point_c1] = child1[mut_point_c2]\n",
    "        child1[mut_point_c2] = temp\n",
    "        \n",
    "        temp = child2[mut_point_c1]\n",
    "        child2[mut_point_c1] = child2[mut_point_c2]\n",
    "        child2[mut_point_c2] = temp\n",
    "    \n",
    "    #evaluation\n",
    "    eval_child1 = evalent(child1)\n",
    "    eval_child2 = evalent(child2)\n",
    "    \n",
    "    #insertion - max\n",
    "    if(eval_child1 > fa[p1_index]):\n",
    "        p[p1_index] = child1\n",
    "        fa[p1_index] = eval_child1\n",
    "    \n",
    "    if(eval_child2 > fa[p2_index]):\n",
    "        p[p2_index] = child2\n",
    "        fa[p2_index] = eval_child2\n",
    "    \n",
    "    plot_max_fa[i] = fa[np.argmax(fa)]"
   ]
  },
  {
   "cell_type": "markdown",
   "metadata": {},
   "source": [
    "### 2.5. Mostrar mejor individuo al final del ciclo"
   ]
  },
  {
   "cell_type": "code",
   "execution_count": 7,
   "metadata": {},
   "outputs": [
    {
     "name": "stdout",
     "output_type": "stream",
     "text": [
      "La mejor ruta es:  [ 2  3  4  7 11 10  8  9  6  5  0  1]\n",
      "Con una función de aptitud de:  0.0261796274509\n"
     ]
    }
   ],
   "source": [
    "print 'La mejor ruta es: ', p[np.argmax(fa)]\n",
    "print 'Con una función de aptitud de: ', fa[np.argmax(fa)]"
   ]
  },
  {
   "cell_type": "code",
   "execution_count": 8,
   "metadata": {},
   "outputs": [
    {
     "data": {
      "image/png": "[encoded data removed]",
      "text/plain": [
       "<matplotlib.figure.Figure at 0x7ddeeb8>"
      ]
     },
     "metadata": {},
     "output_type": "display_data"
    }
   ],
   "source": [
    "'''\n",
    "plot solution\n",
    "'''\n",
    "best_path = p[np.argmax(fa)]\n",
    "plt.plot(x, y, 'r*')#paths\n",
    "plt.plot(x[best_path], y[best_path], 'b')#paths\n",
    "plt.show() "
   ]
  },
  {
   "cell_type": "markdown",
   "metadata": {},
   "source": [
    "<hr>\n",
    "## 3. Problema de minimización de una función real"
   ]
  },
  {
   "cell_type": "code",
   "execution_count": 51,
   "metadata": {},
   "outputs": [
    {
     "data": {
      "image/png": "[encoded data removed]",
      "text/plain": [
       "<matplotlib.figure.Figure at 0x864cc88>"
      ]
     },
     "metadata": {},
     "output_type": "display_data"
    }
   ],
   "source": [
    "x = np.linspace(-10,10,num=50)\n",
    "y = (x-2.0)**2.0-4.0\n",
    "plt.plot(x,y)\n",
    "plt.show()"
   ]
  },
  {
   "cell_type": "markdown",
   "metadata": {},
   "source": [
    "Lo primero que se requiere es diseñar la función de evaluación. La función recibe un vector x, donde en cada elemento del vector están las variables x1, x2, x3, mejor dicho x=[ x1,x2,x3]. Para obtener el valor x1 del vector x, se escribe x(1), lo mismo se aplica para las otras variables. "
   ]
  },
  {
   "cell_type": "markdown",
   "metadata": {},
   "source": [
    "<hr>\n",
    "### 3.1. Funcion de aptitud"
   ]
  },
  {
   "cell_type": "code",
   "execution_count": 55,
   "metadata": {
    "collapsed": true
   },
   "outputs": [],
   "source": [
    "def evalreal(x):\n",
    "    return (x-2.0)**2.0-4.0"
   ]
  },
  {
   "cell_type": "markdown",
   "metadata": {},
   "source": [
    "### 3.2. Inicializar parámetros del algoritmo genético"
   ]
  },
  {
   "cell_type": "code",
   "execution_count": 57,
   "metadata": {
    "collapsed": true
   },
   "outputs": [],
   "source": [
    "#GA parameters\n",
    "ni = 1000 #number of iterations\n",
    "nc = 100 #number of individuals\n",
    "ng = 1 #number of genes == variable x\n",
    "\n",
    "pc = 0.9\n",
    "pm = 0.5\n",
    "alpha = 0.5 #cross percentage for arithmetic cross\n",
    "\n",
    "#search range\n",
    "a = -10\n",
    "b = 10"
   ]
  },
  {
   "cell_type": "markdown",
   "metadata": {},
   "source": [
    "### 3.3. Inicializar población (p) y calcular la aptitud (fa) de sus individuos"
   ]
  },
  {
   "cell_type": "code",
   "execution_count": 59,
   "metadata": {
    "collapsed": true
   },
   "outputs": [],
   "source": [
    "#initial population\n",
    "p = np.random.rand(nc,ng)\n",
    "p = (b-a)*p + a \n",
    "\n",
    "#initial population evaluation using evalreal\n",
    "fa = evalreal(p)"
   ]
  },
  {
   "cell_type": "markdown",
   "metadata": {},
   "source": [
    "### 3.4. Ciclo principal del algoritmo genético:\n",
    "Seleccion->Cruce->Mutación->Evaluación->Inserción"
   ]
  },
  {
   "cell_type": "code",
   "execution_count": 61,
   "metadata": {
    "collapsed": true
   },
   "outputs": [],
   "source": [
    "for i in range(ni):\n",
    "    #selection: simple - random\n",
    "    p1_index = np.random.randint(nc)\n",
    "    p2_index = np.random.randint(nc)\n",
    "    p1 = p[p1_index]\n",
    "    p2 = p[p2_index]\n",
    "    \n",
    "    #cross\n",
    "    if(np.random.rand() <= pc):\n",
    "        child1 = alpha*p1+(1-alpha)*p2\n",
    "        child2 = alpha*p2+(1-alpha)*p1\n",
    "    \n",
    "    #evaluation\n",
    "    eval_child1 = evalreal(child1)\n",
    "    eval_child2 = evalreal(child2)\n",
    "    \n",
    "    #insertion\n",
    "    if(eval_child1 < fa[p1_index]):\n",
    "        p[p1_index] = child1\n",
    "        fa[p1_index] = eval_child1\n",
    "    \n",
    "    if(eval_child2 < fa[p2_index]):\n",
    "        p[p2_index] = child2\n",
    "        fa[p2_index] = eval_child2\n"
   ]
  },
  {
   "cell_type": "markdown",
   "metadata": {},
   "source": [
    "### 3.5. Mostrar mejor individuo al final del ciclo"
   ]
  },
  {
   "cell_type": "code",
   "execution_count": 62,
   "metadata": {},
   "outputs": [
    {
     "name": "stdout",
     "output_type": "stream",
     "text": [
      "El valor de x que minimiza la función es:  [ 1.99999781]\n",
      "Con una función de aptitud de:  [-4.]\n"
     ]
    }
   ],
   "source": [
    "print 'El valor de x que minimiza la función es: ', p[np.argmin(fa)]\n",
    "print 'Con una función de aptitud de: ', fa[np.argmin(fa)]"
   ]
  },
  {
   "cell_type": "code",
   "execution_count": 66,
   "metadata": {},
   "outputs": [
    {
     "data": {
      "image/png": "[encoded data removed]",
      "text/plain": [
       "<matplotlib.figure.Figure at 0x857d400>"
      ]
     },
     "metadata": {},
     "output_type": "display_data"
    }
   ],
   "source": [
    "x = np.linspace(-10,10,num=50)\n",
    "y = evalreal(x)\n",
    "\n",
    "import matplotlib.pyplot as plt\n",
    "plt.plot(x,y)\n",
    "plt.plot(p[np.argmin(fa)], fa[np.argmin(fa)], 'r*')\n",
    "plt.show()"
   ]
  },
  {
   "cell_type": "code",
   "execution_count": null,
   "metadata": {
    "collapsed": true
   },
   "outputs": [],
   "source": []
  }
 ],
 "metadata": {
  "kernelspec": {
   "display_name": "Python 2",
   "language": "python",
   "name": "python2"
  },
  "language_info": {
   "codemirror_mode": {
    "name": "ipython",
    "version": 2
   },
   "file_extension": ".py",
   "mimetype": "text/x-python",
   "name": "python",
   "nbconvert_exporter": "python",
   "pygments_lexer": "ipython2",
   "version": "2.7.13"
  }
 },
 "nbformat": 4,
 "nbformat_minor": 2
}
