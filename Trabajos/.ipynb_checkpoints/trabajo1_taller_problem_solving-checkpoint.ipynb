{
 "cells": [
  {
   "cell_type": "markdown",
   "metadata": {},
   "source": [
    " <img src=\"res/itm_logo.jpg\" width=\"300px\">\n",
    "\n",
    "## Inteligencia Artificial - IAI84\n",
    "### Instituto Tecnológico Metropolitano\n",
    "#### Pedro Atencio Ortiz - 2018"
   ]
  },
  {
   "cell_type": "markdown",
   "metadata": {},
   "source": [
    "<hr>\n",
    "## Trabajo No. 1\n",
    "### **Sobre**:  Solución de problemas mediante búsqueda - Búsqueda no-informada.\n",
    "### Condiciones:\n",
    "- **Integrantes**: 2 personas máximo.\n",
    "- **Forma de entrega**: via correo electrónico a pedroatencio@itm.edu.co\n",
    "- **Formato de entrega**: jupyter notebook.\n",
    "- **Fecha de asignación**: 15 - agosto - 2018\n",
    "- **Fecha de entrega**: 22 - agosto - 2018"
   ]
  },
  {
   "cell_type": "markdown",
   "metadata": {},
   "source": [
    "<hr>\n",
    "# Recordemos!\n",
    "## Formular un problema:\n",
    "Consiste en definir los siguientes elementos:\n",
    "- **Estado inicial**: A nivel conceptual y a nivel de estructura de datos. Por ejemplo, para el caso del mapa de rumania (ver material de clase), a nivel conceptual el estado inicial es \"Arad\". A nivel de estructura de datos, cada ciudad se representa como un punto en un plano cartesiano, por ello Arad podría ser el vector [0, 0].\n",
    "- **Función de secuencia o sucesión**: A nivel conceptual y un **pseudocódigo** que ilustre cómo opera dicha función. Esta definición debe ser explítica al nivel que permita al lector, implementar la función de sucesión en un lenguaje de programación.\n",
    "- **Objetivo**: Definir el estado objetivo y su tipo (explícito o ímplicito).\n",
    "- **Costo de ruta**: Una posible métrica que puede ser utilizada posteriormente para determinar la calidad de una solución."
   ]
  },
  {
   "cell_type": "markdown",
   "metadata": {
    "collapsed": true
   },
   "source": [
    "<hr>\n",
    "### Problema 1:\n",
    "\n",
    "Considere un espacio del problema donde el estado inicial es el número 1 y cada estado $k$ tiene dos sucesores: $2k$ y $2k+1$\n",
    "\n",
    "Trabajen en lo siguiente:\n",
    "\n",
    "1. Dibuje la porción del espacio del problema para los estados 1 al 15.\n",
    "2. FORMULE el problema para el estado inicial $I = 1$ y el objetivo $O = 13$.\n",
    "3. Liste el orden en que se visitan los nodos y utilizando las estrategias de búsqueda BFS, Depth-Limited Search con límite igual a 3 e IDS para el problema anteriormente formulado.\n",
    "4. Nombremos la acción que va del estado $k$ al estado $2k$ como LEFT y la acción que va del estado $k$ al estado $2k+1$ RIGHT. Proponga un algoritmo que arroje la solución al problema para un objetivo $O$ arbitrario, sin utilizar una estrategia de búsqueda."
   ]
  },
  {
   "cell_type": "markdown",
   "metadata": {},
   "source": [
    "<hr>\n",
    "### Problema 2:\n",
    "\n",
    "<img src=\"res/problema2.png\" width=\"600px\">\n",
    "\n",
    "Considere el problema de encontrar una ruta entre dos puntos en un plano que tiene obstaculos poligonales CONVEXOS cómo se muestra en la figura 1. Trabaje en lo siguiente:\n",
    "\n",
    "1. Suponga que el espacio de estados consiste en todas las posiciones $(x,y)$ en el plano. ¿Cuántos estados tendría ese espacio? ¿Cuántas soluciones tendría el problema? \n",
    "2. Explique brevemente por qué la ruta más corta entre un vértice de un poligono a cualquier otro en la escena, debe consistir en una línea recta que une dichos vértices. A partir de lo anterior, ¿cuántos estados tendría el espacio del problema?\n",
    "3. Utilizando el razonamiento anterior, FORMULE el problema.\n",
    "4. Aplique 1 o más algoritmos de búsqueda no-informada al problema formulado."
   ]
  },
  {
   "cell_type": "markdown",
   "metadata": {},
   "source": [
    "<hr>\n",
    "### Problema 3:\n",
    "\n",
    "**Exploración de literatura y análisis**:\n",
    "\n",
    "\n",
    "Se desea realizar un programa al cual se le ingresen dos URLs y que encuentre una ruta de enlaces web que lleven de la una a la otra. Trabajar en lo siguiente:\n",
    "\n",
    "\n",
    "1. FORMULE el problema anterior.\n",
    "2. Cómo podría utilizar las estrategias de búsqueda no-informada para desarrollar el programa anterior? (ilustrar).\n",
    "3. Es posible que la estrategia de búsqueda bidireccional (bidirectional search) se pueda utilizar para este propósito?.\n",
    "4. A nivel técnico, ¿podría utilizar un motor de búsqueda como Google, Bing o DuckDuckGo para escribir la función de sucesión $S$? ¿Cómo lo haría?. Detalle lo que más pueda esta respuesta."
   ]
  },
  {
   "cell_type": "code",
   "execution_count": null,
   "metadata": {
    "collapsed": true
   },
   "outputs": [],
   "source": []
  }
 ],
 "metadata": {
  "kernelspec": {
   "display_name": "Python 2",
   "language": "python",
   "name": "python2"
  },
  "language_info": {
   "codemirror_mode": {
    "name": "ipython",
    "version": 2
   },
   "file_extension": ".py",
   "mimetype": "text/x-python",
   "name": "python",
   "nbconvert_exporter": "python",
   "pygments_lexer": "ipython2",
   "version": "2.7.14"
  }
 },
 "nbformat": 4,
 "nbformat_minor": 2
}
