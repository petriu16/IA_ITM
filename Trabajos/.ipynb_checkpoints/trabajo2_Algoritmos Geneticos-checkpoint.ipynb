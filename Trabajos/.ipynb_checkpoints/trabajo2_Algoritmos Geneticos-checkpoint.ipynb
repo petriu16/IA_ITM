{
 "cells": [
  {
   "cell_type": "markdown",
   "metadata": {},
   "source": [
    " <img src=\"res/itm_logo.jpg\" width=\"300px\">\n",
    "\n",
    "## Inteligencia Artificial - IAI84\n",
    "### Instituto Tecnológico Metropolitano\n",
    "#### Pedro Atencio Ortiz - 2018"
   ]
  },
  {
   "cell_type": "markdown",
   "metadata": {},
   "source": [
    "<hr>\n",
    "## Trabajo No. 2\n",
    "### **Sobre**:  Algoritmos Genéticos\n",
    "### Condiciones:\n",
    "- **Integrantes**: 2 personas máximo.\n",
    "- **Forma de entrega**: via correo electrónico a pedroatencio@itm.edu.co\n",
    "- **Formato de entrega**: jupyter notebook.\n",
    "- **Fecha de asignación**: 07 - Septiembre - 2018\n",
    "- **Fecha de entrega**: 15 - Septiembre - 2018"
   ]
  },
  {
   "cell_type": "markdown",
   "metadata": {
    "collapsed": true
   },
   "source": [
    "## Descripción:\n",
    "\n",
    "Elaborar los siguientes puntos. En cada caso se requiere entregue documentación (escrita y visual) de los experimentos realizados.\n",
    "\n",
    "1. Implementar los problemas planteados en el archivo PDF \"Taller en clase\" que se encuentra dentro de la carpeta \"Material complementario\"->\"Algoritmos geneticos\". Para este punto modifique el codigo entregado en clase para que se adapte a los problemas del taller.\n",
    "2. Implementar el método de selección por RULETA.\n",
    "3. Aplicar el método de selección por RULETA para todos los problemas del taller y evaluar respecto a la implementación del punto 1 respecto a los siguientes criterios:\n",
    "    3.1. Convergencia: ¿En promedio, utilizando RULETA se disminuye o aumenta el número de epocas necesarias para que el algoritmo se estabilice?\n",
    "    3.2. Efectividad: ¿En promedio, RULETA permite obtener la mejor solución de forma repetida?"
   ]
  },
  {
   "cell_type": "raw",
   "metadata": {},
   "source": []
  }
 ],
 "metadata": {
  "kernelspec": {
   "display_name": "Python 2",
   "language": "python",
   "name": "python2"
  },
  "language_info": {
   "codemirror_mode": {
    "name": "ipython",
    "version": 2
   },
   "file_extension": ".py",
   "mimetype": "text/x-python",
   "name": "python",
   "nbconvert_exporter": "python",
   "pygments_lexer": "ipython2",
   "version": "2.7.13"
  }
 },
 "nbformat": 4,
 "nbformat_minor": 2
}
